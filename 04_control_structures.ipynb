{
 "cells": [
  {
   "cell_type": "markdown",
   "metadata": {},
   "source": [
    "# Kontrollstrukturen\n",
    "Die einfachste Kontrollstruktur ist das `if` Statement."
   ]
  },
  {
   "cell_type": "code",
   "execution_count": null,
   "metadata": {},
   "outputs": [],
   "source": [
    "x = int(input(\"Bitte eine Zahl eingeben: \"))"
   ]
  },
  {
   "cell_type": "code",
   "execution_count": null,
   "metadata": {},
   "outputs": [],
   "source": [
    "if x < 0:\n",
    "    print(\"kleiner als Null\")\n",
    "elif x == 0:\n",
    "    print(\"null\")\n",
    "elif x == 1:\n",
    "    print(\"eins\")\n",
    "else:\n",
    "    print(\"größer als null\")"
   ]
  },
  {
   "cell_type": "markdown",
   "metadata": {},
   "source": [
    "## `for` Schleife"
   ]
  },
  {
   "cell_type": "code",
   "execution_count": null,
   "metadata": {},
   "outputs": [],
   "source": [
    "words = ['Katze', 'Baum', 'hinaufklettern']\n",
    "for w in words:\n",
    "    print(w, len(w))"
   ]
  },
  {
   "cell_type": "code",
   "execution_count": null,
   "metadata": {},
   "outputs": [],
   "source": [
    "for i in range(1, 5):\n",
    "    print(\"{:d} zum Quadrat ist {:d}\".format(i, i*i))"
   ]
  },
  {
   "cell_type": "markdown",
   "metadata": {},
   "source": [
    "## `break`, `continue` und `else` bei Schleifen\n",
    "Von C und Java kennt man `break` und `continue` in Schleifen, um diese entweder abzubrechen bzw. mit der nächsten Iteration fortzufahren.\n",
    "Eine Besonderheit von Python ist dagegen `else` für Schleifen. Der `else` Block einer Schleife wird aufgerufen, wenn die Schleife \"normal\" (ohne `break`oder `return`) beendet wurde."
   ]
  },
  {
   "cell_type": "code",
   "execution_count": null,
   "metadata": {},
   "outputs": [],
   "source": [
    "for n in range(2, 20):\n",
    "    for x in range(2, n):\n",
    "        if n % x == 0:\n",
    "            print(n, ' ist ', x, '*', n//x)\n",
    "            break\n",
    "    else:\n",
    "        # Wir haben keine Faktorisierung gefunden, es handelt sich um eine Primzahl\n",
    "        print(n, 'ist eine Primzahl')"
   ]
  },
  {
   "cell_type": "markdown",
   "metadata": {},
   "source": [
    "## `while` Schleife\n",
    "### Fibonacci-Zahlen\n",
    "Python erlaubt die Zuweisung von mehreren Werten (Details dazu später, wenn wir uns mit dem Datentyp `tupel` beschäftigen). Damit lassen sich z.B. die Fibonacci-Zahlen sehr elegant berechnen.\n",
    "\n",
    "Bei der `while` Schleife ist die Einrückung wichtig. Blöcke werden nicht durch Klammern, sondern durch die (gleichmäßige) Einrückung markiert.\n",
    "\n",
    "Eine andere Besonderheit von Python sind *benannte Parameter*. Mit `end=\", \"` wird hier dafür gesorgt, dass die Ausgabe von `print()` nicht mit einem Zeilenumbruch endet."
   ]
  },
  {
   "cell_type": "code",
   "execution_count": null,
   "metadata": {},
   "outputs": [],
   "source": [
    "a, b = 0, 1\n",
    "while a < 50:\n",
    "    print(a, end=\", \")\n",
    "    a, b = b, a+b"
   ]
  },
  {
   "cell_type": "code",
   "execution_count": null,
   "metadata": {},
   "outputs": [],
   "source": []
  }
 ],
 "metadata": {
  "kernelspec": {
   "display_name": "Python 3",
   "language": "python",
   "name": "python3"
  },
  "language_info": {
   "codemirror_mode": {
    "name": "ipython",
    "version": 3
   },
   "file_extension": ".py",
   "mimetype": "text/x-python",
   "name": "python",
   "nbconvert_exporter": "python",
   "pygments_lexer": "ipython3",
   "version": "3.7.3"
  }
 },
 "nbformat": 4,
 "nbformat_minor": 2
}
