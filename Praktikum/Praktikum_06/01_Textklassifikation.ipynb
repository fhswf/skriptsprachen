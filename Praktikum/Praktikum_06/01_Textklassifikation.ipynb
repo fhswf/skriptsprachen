{
 "cells": [
  {
   "cell_type": "markdown",
   "metadata": {},
   "source": [
    "# Übung 6: Textklassifikation\n",
    "\n",
    "In der Vorlesung haben wir den Testdatensatz *GermEval 2018* als Beispiel für die Klassifikation von Texten benutzt. \n",
    "Auch im Jahr 2019 war eine der Aufgaben bei *GermEval* die Erkennung von \"Offensive Language\" in deutschsprachigen Twitternachrichten.\n",
    "\n",
    "Die Trainings- und Testdateien\n",
    "```\n",
    "germeval2019.training_subtask1_2_korrigiert.txt\n",
    "germeval2019GoldLabelsSubtask1_2.txt  \n",
    "```\n",
    "finden Sie im GitHub/GitLab-Repository zur Übung und auf der [offiziellen GermEval Seite](https://projects.fzai.h-da.de/iggsa/data-2019/) der Hochschule Darmstadt.\n",
    "\n",
    "Dort finden Sie auch weitere [Ressourcen](https://projects.fzai.h-da.de/iggsa/resources-tools-and-literature/) wie vortrainierte Word Embeddings oder das [Dataset for abusive language in German](https://github.com/UCSM-DUE/IWG_hatespeech_public?files=1).\n",
    "\n",
    "## Wettbewerb\n",
    "Um den Wettbewerbscharakter von *GermEval* zu erhalten, spendiere ich dem Team (bis zu **vier** Personen können ein Team bilden) mit dem besten Ergebnis (höchster **gewichteter F1-Score** auf der Testmenge) einen Kasten Veltins (oder ein entsprechendes Äquivalent).\n",
    "\n",
    "Das Ergebnis **muss** dazu *durch ein Training auf der Trainingsdatei* und eine anschließende Evaluation auf der Testdatei **reproduzierbar** sein!\n",
    "\n",
    "**Deadline** für die Abgabe: **27.11.2019**\n",
    "\n"
   ]
  },
  {
   "cell_type": "code",
   "execution_count": null,
   "metadata": {},
   "outputs": [],
   "source": []
  }
 ],
 "metadata": {
  "kernelspec": {
   "display_name": "Python 3",
   "language": "python",
   "name": "python3"
  },
  "language_info": {
   "codemirror_mode": {
    "name": "ipython",
    "version": 3
   },
   "file_extension": ".py",
   "mimetype": "text/x-python",
   "name": "python",
   "nbconvert_exporter": "python",
   "pygments_lexer": "ipython3",
   "version": "3.7.3"
  }
 },
 "nbformat": 4,
 "nbformat_minor": 2
}
