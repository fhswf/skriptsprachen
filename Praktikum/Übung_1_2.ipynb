{
 "cells": [
  {
   "cell_type": "markdown",
   "metadata": {},
   "source": [
    "# Aufgabe 2: Bash-Skript in Python Skript umwandeln\n",
    " \n",
    "Wandeln Sie das folgende Shell-Skript, das die Fakultät $i!$ für die Werte $𝑖 \\in \\{1, 2, \\dots, 20\\}$ berechnet, in ein Python-Skript um:\n",
    " \n",
    "```bash\n",
    "for i in $( seq 1 20 ); do\n",
    "  count=$i; ergebnis=1\n",
    "  while [ $count -gt 1 ]; do\n",
    "    ergebnis=$((ergebnis * count))\n",
    "    count=$((count-1))\n",
    "  done\n",
    "  echo \"fakultaet\" $i \"=\" $ergebnis\n",
    "done\n",
    "```"
   ]
  },
  {
   "cell_type": "code",
   "execution_count": null,
   "metadata": {},
   "outputs": [],
   "source": []
  }
 ],
 "metadata": {
  "kernelspec": {
   "display_name": "Python 3",
   "language": "python",
   "name": "python3"
  },
  "language_info": {
   "codemirror_mode": {
    "name": "ipython",
    "version": 3
   },
   "file_extension": ".py",
   "mimetype": "text/x-python",
   "name": "python",
   "nbconvert_exporter": "python",
   "pygments_lexer": "ipython3",
   "version": "3.7.3"
  }
 },
 "nbformat": 4,
 "nbformat_minor": 2
}
