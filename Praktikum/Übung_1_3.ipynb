{
 "cells": [
  {
   "cell_type": "markdown",
   "metadata": {},
   "source": [
    "# Aufgabe 3: Gleichheit und Identität**\n",
    "\n",
    "1. Testen Sie die beiden Vergleichsoperatoren `==` (Gleichheit) und `is` (Identität) mit folgenden Befehlen:\n",
    "\n",
    "```python\n",
    "a = 3\n",
    "b = 3\n",
    "a == b # Test auf Gleichheit, True oder False?\n",
    "a is b # Test auf Identität, True oder False?\n",
    "\n",
    "c = [3,4]\n",
    "d = [3,4]\n",
    "e = d\n",
    "c == d\n",
    "d == e\n",
    "c is d\n",
    "d is e\n",
    "```"
   ]
  },
  {
   "cell_type": "markdown",
   "metadata": {},
   "source": [
    "2. Sie haben das Ergebnis von `a is b` für den Fall `a=3` und `b=3` gesehen. Wiederholen Sie den Test für größere Werte von `a` und `b`. Fällt das Ergbenist von `a is b` immer gleich aus?"
   ]
  },
  {
   "cell_type": "code",
   "execution_count": null,
   "metadata": {},
   "outputs": [],
   "source": []
  }
 ],
 "metadata": {
  "kernelspec": {
   "display_name": "Python 3",
   "language": "python",
   "name": "python3"
  },
  "language_info": {
   "codemirror_mode": {
    "name": "ipython",
    "version": 3
   },
   "file_extension": ".py",
   "mimetype": "text/x-python",
   "name": "python",
   "nbconvert_exporter": "python",
   "pygments_lexer": "ipython3",
   "version": "3.7.3"
  }
 },
 "nbformat": 4,
 "nbformat_minor": 2
}
