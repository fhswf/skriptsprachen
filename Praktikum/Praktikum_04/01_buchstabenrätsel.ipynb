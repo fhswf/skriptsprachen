{
 "cells": [
  {
   "cell_type": "markdown",
   "metadata": {},
   "source": [
    "# Übung 4.1: Buchstabenrätsel\n",
    "\n",
    "Die Idee dieser Aufgabe ist einer Übungsaufgabe von Herr Prof. Mehner entnommen, der sie im Praktikum mithilfe eines C-Programms und eines Perl-Programms hat lösen lassen. \n",
    "\n",
    "Die Aufgabe zeigt sehr schön, was in Python so alles \"geht\" und das Skriptsprachen nicht unbedingt langsamer als  C sein müssen – es kommt oft mehr auf den Algorithmus als die Sprache an.\n",
    "\n",
    "\n",
    "![raetsel.png](https://github.com/fhswf/skriptsprachen/blob/master/Praktikum/Praktikum_04/raetsel.png?raw=true)\n",
    "\n",
    "Aus dem Buchstabenquadrat in obiger Abbildung sollen nach folgenden Regeln Wörter gebildet werden:\n",
    "\n",
    "1. Man darf bei jedem Buchstaben beginnen und dann so lange einen der maximal acht Nachbarbuchstaben hinzufügen, bis man ein Wort gefunden hat oder alle Buchstaben aufgebraucht sind.\n",
    "2. Alle sinnvollen Teilwörter, die sich unterwegs ergeben, sind ebenfalls gültig.\n",
    "3. Alle Buchstaben die auf bereits verwendeten Plätzen liegen dürfen nicht mehr hinzugenommen werden (kreuzungsfreier Weg).\n",
    "\n",
    "Die Redaktion einer Rätselzeitschrift hat **65 Lösungen durch Probieren** entdeckt. \n",
    "Dieses Ergebnis wollen wir mithilfe einer **Brute-Force-Attacke** und einer Liste von 160086 deutschen Wörten überbieten.\n",
    "\n",
    "Dazu schreiben wir zunächst eine Funktion, die für ein gegebenes Wort prüft, ob man es auf die beschriebene Weise in der Abbildung findet, und probieren dann alle Wörter durch. Die Musterlösung benötigt dazu **weniger als 5 Sekunden** [^1].\n",
    "\n",
    "Die Idee für den Algorithmus ist folgende:\n",
    "\n",
    "- Nehme den ersten Buchstaben des Wortes.\n",
    "- **Iteriere über alle Positionen der Buchstabenmatrix** und suche den Buchstaben. \n",
    "  - Wenn Du ihn findest, merke Dir die Position in der Matrix und markiere sie als besucht.\n",
    "  - Wenn Du ihn nicht findest, gebe `False` zurück.\n",
    "\n",
    "- Wiederhole, solange es Buchstaben im Wort gibt:\n",
    "  - Nehme den nächsten Buchstaben\n",
    "  - **Iteriere über alle noch nicht besuchten Nachbarfelder** und suche den Buchstaben\n",
    "    - Wenn Du ihn findest, merke Dir die Position und markiere sie als besucht[^2].\n",
    "    - Wenn Du ihn nicht findest, gebe `False` zurück.\n",
    "- Gebe `True` zurück\n",
    "\n",
    "Die beiden verwendeten Iterationen lassen sich in Python elegant über **Generatorfunktionen** realisieren.\n",
    "\n",
    "[^1] In der ursprünglichen Aufgabe wurde ein C-Programm benutzt, um alle möglichen Buchstabenfolgen in der Matrix zu erzeugen und in eine 160 MB große Datei zu schreiben. Dieser IO-intensive Ansatz benötigt deutlich länger.\n",
    "\n",
    "[^2] Der hier beschriebene Greedy-Algorithmus findet evtl. nicht alle Wörter, da es beim **`L`** \n",
    "zwei benachbarte `E` gibt und man eigentlich beide probieren müsste. Wer nachweist, dass man dadurch mindestens ein mögliches Wort nicht findet (indem er mehr Worte findet als die Musterlösung), **erhält Bonuspunkte**.\n",
    "\n",
    "## Implementierung\n",
    "\n",
    "Beginnen wir zunächst mit der Definition der Matrix:"
   ]
  },
  {
   "cell_type": "code",
   "execution_count": 1,
   "metadata": {},
   "outputs": [],
   "source": [
    "MATRIX = [ list(\"SRGD\"), list(\"OFAE\"), list(\"NUBL\"), list(\"TSPE\") ]"
   ]
  },
  {
   "cell_type": "markdown",
   "metadata": {},
   "source": [
    "## Generaturfunktionen\n",
    "\n",
    "Wir werden die Koordinaten einer Position in der Matrix als Tupel `(i, j)` darstellen.\n",
    "Schreiben Sie zwei Generatorfunktionen `start()` und `neighbors(p)`, die alle gültigen Startpositionen bzw. alle gültigen Nachbarpunkte des Punktes `p` berechnen."
   ]
  },
  {
   "cell_type": "code",
   "execution_count": 6,
   "metadata": {},
   "outputs": [],
   "source": [
    "def start():\n",
    "    \"\"\" Generaturfunktion für alle Startpunkte \"\"\"\n",
    "    \n",
    "    # TODO\n",
    "    \n",
    "            \n",
    "def neighbors(p):\n",
    "    \"\"\" Generatorfunktion für alle Nachbarn von p \"\"\"\n",
    "    \n",
    "    # TODO"
   ]
  },
  {
   "cell_type": "markdown",
   "metadata": {},
   "source": [
    "## Suchfunktion\n",
    "\n",
    "Implementieren Sie nun eine Suchfunktion, die prüft, ob ein gegebenes Wort in der Matrix vorkommt."
   ]
  },
  {
   "cell_type": "code",
   "execution_count": 7,
   "metadata": {},
   "outputs": [],
   "source": [
    "def search(word):\n",
    "    \"\"\" Suche Wort im Buchstabenrätsel \"\"\"\n",
    "    \n",
    "    # TODO"
   ]
  },
  {
   "cell_type": "code",
   "execution_count": 8,
   "metadata": {},
   "outputs": [],
   "source": [
    "# ORGELBAU sollte gefunden werden\n",
    "search(\"ORGELBAU\")"
   ]
  },
  {
   "cell_type": "code",
   "execution_count": 9,
   "metadata": {},
   "outputs": [],
   "source": [
    "# SONATE sollte nicht gefunden werden\n",
    "search(\"SONATE\")"
   ]
  },
  {
   "cell_type": "markdown",
   "metadata": {},
   "source": [
    "## Suche\n",
    "\n",
    "Iterieren Sie nun über die Datei `german.lst` und suchen Sie alle Treffer.\n",
    "\n",
    "**Achtung**: Wenn Sie die Datei zeilenweise lesen, müssen Sie den Zeilenbruch am Ende weglassen. Außerdem müssen Sie die Worte in Großbuchstaben umwandeln!"
   ]
  },
  {
   "cell_type": "code",
   "execution_count": null,
   "metadata": {},
   "outputs": [],
   "source": []
  }
 ],
 "metadata": {
  "kernelspec": {
   "display_name": "Python 3",
   "language": "python",
   "name": "python3"
  },
  "language_info": {
   "codemirror_mode": {
    "name": "ipython",
    "version": 3
   },
   "file_extension": ".py",
   "mimetype": "text/x-python",
   "name": "python",
   "nbconvert_exporter": "python",
   "pygments_lexer": "ipython3",
   "version": "3.7.3"
  }
 },
 "nbformat": 4,
 "nbformat_minor": 2
}
