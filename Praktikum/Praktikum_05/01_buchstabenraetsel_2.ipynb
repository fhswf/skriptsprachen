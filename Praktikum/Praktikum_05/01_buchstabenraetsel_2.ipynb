{
 "cells": [
  {
   "cell_type": "markdown",
   "metadata": {},
   "source": [
    "# Übung 5.1 Wortquadrate\n",
    "\n",
    "Heute geht es darum, *Worträtsel* wie das folgende zu erzeugen:\n",
    "![raetsel.sfg](raetsel.svg)\n",
    "\n",
    "Hier ist das Wort **KEGELCLUB** versteckt (und in diesem Fall sogar so, dass das Wort auf die gleiche Weise wie in Übung 4 gefunden werden kann).\n",
    "\n",
    "Dazu soll ein quadratisches Raster mit einem – zufällig ausgewählten – Wort passender Länge gefüllt werden, wobei die Buchstaben zufällig verteilt werden.\n",
    "\n",
    "\n",
    "## Bonusaufgabe\n",
    "Verteilen Sie die Buchstaben so, dass das Wort wie in Übung 4 gebildet werden kann.\n",
    "\n",
    "Dazu generieren Sie einen \"möglichst zufälligen\" Hamiltonpfad – also einen kreuzungsfreien Pfad, der alle Felder des Rasters besucht – und legen die Buchstaben entlang dieses Pfades ab.\n",
    "\n",
    "**Tipp** Hierbei können Sie ähnlich vorgehen wie im Vorlsesungsbeispiel mit dem Springerproblem:\n",
    "1. Beginnen Sie mit einem zufälligen Feld.\n",
    "2. Wählen Sie als nächstes Feld ein zufälliges Nachbarfeld. Achten Sie bei der Auswahl darauf, dass\n",
    "   - die Menge der übrig bleibenden Felder ein zusammenhängender Graph bleibt,\n",
    "   - falls unter den Nachbarfeldern eines ist, das nur noch ein unbesuchtes Nachbarfeld hat, nehme es als    \n",
    "     nächstes.\n",
    "3. Falls Sie in einer \"Sackgasse\" landen, versuchen Sie es erneut.\n"
   ]
  },
  {
   "cell_type": "markdown",
   "metadata": {},
   "source": [
    "## Lesen der Wortliste und sortieren nach Wortlängen\n",
    "\n",
    "Lesen Sie die Datei `german.lst` aus Übung 4 ein und erzeugen Sie damit je Wortlänge eine Menge der Wörter.\n",
    "\n",
    "**Tipp** Hier eignet sich ein `defaultdict(set)`"
   ]
  },
  {
   "cell_type": "code",
   "execution_count": 1,
   "metadata": {},
   "outputs": [],
   "source": [
    "def get_words():\n",
    "    \"\"\" Gibt ein dictionary zurück, dass für jede Wortlänge ein set der Wörter dieser Länge enthält.\n",
    "    Die Wörter sollen auf Großbuchstaben normalisiert werden.\n",
    "    \"\"\"\n",
    "    \n",
    "WORDS = get_words()"
   ]
  },
  {
   "cell_type": "markdown",
   "metadata": {},
   "source": [
    "## Erzeugen eines Wortquadrates"
   ]
  },
  {
   "cell_type": "code",
   "execution_count": 2,
   "metadata": {},
   "outputs": [],
   "source": [
    "def word_square(n):\n",
    "    \"\"\" Gibt ein zufälliges Wortquadrat der Seitenlänge n zurück. \"\"\""
   ]
  },
  {
   "cell_type": "markdown",
   "metadata": {},
   "source": [
    "## Bonus: Erzeugen eines zufälligen Pfades auf einem Quadrat"
   ]
  },
  {
   "cell_type": "code",
   "execution_count": 2,
   "metadata": {},
   "outputs": [],
   "source": [
    "def random_path(n):\n",
    "    \"\"\" Erzeugt einen zufälligen Pfad auf einem Quadrat der Seitenlänge n, \n",
    "    der jedes Feld genau einmal besucht. \"\"\"\n",
    "    \n",
    "def bonus_square(n):\n",
    "    \"\"\" Erzeugt ein zufälliges Wortquadrat der Seitenlänge n,\n",
    "    bei dem die Buchstaben entlang eines (zufälligen) Hamiltonpfads verteilt sind. \n",
    "    \"\"\""
   ]
  }
 ],
 "metadata": {
  "kernelspec": {
   "display_name": "Python 3",
   "language": "python",
   "name": "python3"
  },
  "language_info": {
   "codemirror_mode": {
    "name": "ipython",
    "version": 3
   },
   "file_extension": ".py",
   "mimetype": "text/x-python",
   "name": "python",
   "nbconvert_exporter": "python",
   "pygments_lexer": "ipython3",
   "version": "3.7.3"
  }
 },
 "nbformat": 4,
 "nbformat_minor": 2
}
