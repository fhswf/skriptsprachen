{
 "cells": [
  {
   "cell_type": "markdown",
   "metadata": {},
   "source": [
    "# Übung 2.2: Mastermind\n",
    "\n",
    "Heute folgen wir dem Retro-Trend und beschäftigen uns mit einem der erfolgreichsten Spiele der 1970er Jahre, [Mastermind](https://de.wikipedia.org/wiki/Mastermind_(Spiel))\n",
    "\n",
    "![Mastermind](https://upload.wikimedia.org/wikipedia/commons/thumb/f/f5/Mastermind_beispiel.svg/200px-Mastermind_beispiel.svg.png)\n",
    "\n",
    "Bei *Mastermind* denkt sich ein Spieler (der *Codierer*) einen geheimen, vierstelligen Code aus sechs Farben (wir nehmen – der eindeutigen Anfangsbuchstaben wegen – **Rot**, **Gelb**, **Blau**, **Orange**, **Schwarz** und **Weiß**; Farben dürfen im Code mehrfach vorkommen). Aufgabe des *Raters* ist es, **den Code in möglichst wenigen Versuchen zu erraten**. Im Originalspiel stecken beide Spieler dazu farbige Pins in ein Spielbrett, wobei die Pins des *Codierers* verdeckt sind (s. Bild).\n",
    "\n",
    "Nach jedem Versuch erhält der *Rater* vom *Codierer* Auskunft darüber\n",
    "- wie viele Farben des Codes er an der richtigen Stelle erraten hat,\n",
    "- wie viele Farben er darüber hinaus erraten hat, die aber an der falschen Stelle positioniert sind.\n",
    "\n",
    "Im Originalspiel wird diese Information durch die Zahl schwarzer bzw. weißer \"Antwortpins\" ausgedrückt.\n",
    "\n",
    "\n",
    "## Aufgabe\n",
    "Programmieren Sie die Funktion des *Codierers*, so dass ein menschlicher Spieler die Funktion des *Raters* übernehmen kann.\n",
    "\n",
    "Zur Erinnerung: Die Funktion `input(prompt: str)` gibt einen Prompt aus und liest eine Eingabe ein. \n",
    "\n",
    "Die Eingabe des Codes soll über die Anfangsbuchstaben der Farben erfolgen, etwa \"**rgbo**\" für Rot, Gelb, Blau, Orange.\n"
   ]
  },
  {
   "cell_type": "code",
   "execution_count": null,
   "metadata": {},
   "outputs": [],
   "source": []
  },
  {
   "cell_type": "markdown",
   "metadata": {},
   "source": [
    "## Bonusaufgabe\n",
    "Entwickeln Sie einen Algorithmus für die Rolle des *Raters*. Das Spiel wurde schon von verschiedenen Informatikern untersucht, u.a. gibt es dazu ein Paper von Donald E. Knuth, [The computer as master mind](http://www.cs.uni.edu/~wallingf/teaching/cs3530/resources/knuth-mastermind.pdf), in dem er einen Algorithmus vorstellt, der nicht mehr als 5 Versuche benötigt. "
   ]
  },
  {
   "cell_type": "code",
   "execution_count": null,
   "metadata": {},
   "outputs": [],
   "source": []
  }
 ],
 "metadata": {
  "kernelspec": {
   "display_name": "Python 3",
   "language": "python",
   "name": "python3"
  },
  "language_info": {
   "codemirror_mode": {
    "name": "ipython",
    "version": 3
   },
   "file_extension": ".py",
   "mimetype": "text/x-python",
   "name": "python",
   "nbconvert_exporter": "python",
   "pygments_lexer": "ipython3",
   "version": "3.7.3"
  }
 },
 "nbformat": 4,
 "nbformat_minor": 2
}
