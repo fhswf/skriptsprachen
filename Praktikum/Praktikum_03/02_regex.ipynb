{
 "cells": [
  {
   "cell_type": "markdown",
   "metadata": {},
   "source": [
    "# Übung 3.2: Regular Expressions\n",
    "\n",
    "## Passwortprüfung\n",
    "1. Schreiben Sie eine Funktion `check_pw()`, die ein gegebenes Passwort auf seine Stärke prüft. Ein *starkes Passwort* soll folgende Kriterien erfüllen:\n",
    "  - Es ist mindestens 8 Zeichen lang,\n",
    "  - es enthält mindestens je einen Groß- und Kleinbuchstaben,\n",
    "  - es enthält mindestens eine Ziffer oder ein Sonderzeichen (= weder Buchstabe, Ziffer noch Whitespace).\n",
    "  \n",
    "\n",
    "2. Schreiben Sie ein Skript, das die Datei `passwords.txt` (es handelt sich um einen Auszug einer [Liste von 10.000.000 häufigen Passwörtern](https://raw.githubusercontent.com/danielmiessler/SecLists/master/Passwords/Common-Credentials/10-million-password-list-top-1000000.txt)) zeilenweise liest und \n",
    "  - jede Zeile daraufhin prüft, ob sie ein starkes Passwort ist,\n",
    "  - eine entsprechende Statistik dazu ausgibt.\n"
   ]
  },
  {
   "cell_type": "code",
   "execution_count": null,
   "metadata": {},
   "outputs": [],
   "source": []
  }
 ],
 "metadata": {
  "kernelspec": {
   "display_name": "Python 3",
   "language": "python",
   "name": "python3"
  },
  "language_info": {
   "codemirror_mode": {
    "name": "ipython",
    "version": 3
   },
   "file_extension": ".py",
   "mimetype": "text/x-python",
   "name": "python",
   "nbconvert_exporter": "python",
   "pygments_lexer": "ipython3",
   "version": "3.7.3"
  }
 },
 "nbformat": 4,
 "nbformat_minor": 2
}
