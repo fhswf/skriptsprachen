{
 "cells": [
  {
   "cell_type": "markdown",
   "metadata": {},
   "source": [
    "# Übung 3.2: Regular Expressions\n",
    "\n",
    "## Passwortprüfung\n",
    "1. Schreiben Sie eine Funktion `check_pw()`, die ein gegebenes Passwort auf seine Stärke prüft. Ein *starkes Passwort* soll folgende Kriterien erfüllen:\n",
    "  - Es ist mindestens 8 Zeichen lang,\n",
    "  - es enthält mindestens je einen Groß- und Kleinbuchstaben,\n",
    "  - es enthält mindestens eine Ziffer oder ein Sonderzeichen (= weder Buchstabe, Ziffer noch Whitespace).\n",
    "  \n",
    "\n",
    "2. Schreiben Sie ein Skript, das die Datei `passwords.txt` (es handelt sich um einen Auszug einer [Liste von 10.000.000 häufigen Passwörtern](https://raw.githubusercontent.com/danielmiessler/SecLists/master/Passwords/Common-Credentials/10-million-password-list-top-1000000.txt)) zeilenweise liest und \n",
    "  - jede Zeile daraufhin prüft, ob sie ein starkes Passwort ist,\n",
    "  - eine entsprechende Statistik dazu ausgibt.\n"
   ]
  },
  {
   "cell_type": "code",
   "execution_count": 17,
   "metadata": {},
   "outputs": [],
   "source": [
    "import re\n",
    "\n",
    "alpha = re.compile('[a-z]')\n",
    "Alpha = re.compile('[A-Z]')\n",
    "other = re.compile('[^\\s\\w]|[0-9_]')\n",
    "\n",
    "def check_pw(s):\n",
    "    \"\"\" Prüfe, ob ein gegebenes Passwort stark ist. \"\"\"\n",
    "    if len(s) < 8:\n",
    "        return False\n",
    "    \n",
    "    if alpha.search(s) == None:\n",
    "        return False\n",
    "    \n",
    "    if Alpha.search(s) == None:\n",
    "        return False\n",
    "    \n",
    "    if other.search(s) == None:\n",
    "        return False\n",
    "    \n",
    "    return True"
   ]
  },
  {
   "cell_type": "code",
   "execution_count": 21,
   "metadata": {},
   "outputs": [
    {
     "data": {
      "text/plain": [
       "False"
      ]
     },
     "execution_count": 21,
     "metadata": {},
     "output_type": "execute_result"
    }
   ],
   "source": [
    "# Test for weak password\n",
    "check_pw('Blablabla')"
   ]
  },
  {
   "cell_type": "code",
   "execution_count": 22,
   "metadata": {},
   "outputs": [
    {
     "data": {
      "text/plain": [
       "True"
      ]
     },
     "execution_count": 22,
     "metadata": {},
     "output_type": "execute_result"
    }
   ],
   "source": [
    "# Test for strong password\n",
    "check_pw('Vj4kl4kzgf9G')"
   ]
  },
  {
   "cell_type": "code",
   "execution_count": 29,
   "metadata": {},
   "outputs": [
    {
     "name": "stdout",
     "output_type": "stream",
     "text": [
      "30 out of 10000 passwords are strong, that is 0.30%\n"
     ]
    }
   ],
   "source": [
    "count = 0\n",
    "strong = 0\n",
    "\n",
    "with open('passwords.txt', 'r') as file:\n",
    "    for pw in file:\n",
    "        count += 1\n",
    "        if check_pw(pw):\n",
    "            strong += 1\n",
    "        \n",
    "print(f\"{strong:d} out of {count:d} passwords are strong, that is {100 * strong / count:.2f}%\")"
   ]
  },
  {
   "cell_type": "code",
   "execution_count": null,
   "metadata": {},
   "outputs": [],
   "source": []
  }
 ],
 "metadata": {
  "kernelspec": {
   "display_name": "Python 3",
   "language": "python",
   "name": "python3"
  },
  "language_info": {
   "codemirror_mode": {
    "name": "ipython",
    "version": 3
   },
   "file_extension": ".py",
   "mimetype": "text/x-python",
   "name": "python",
   "nbconvert_exporter": "python",
   "pygments_lexer": "ipython3",
   "version": "3.7.3"
  }
 },
 "nbformat": 4,
 "nbformat_minor": 2
}
