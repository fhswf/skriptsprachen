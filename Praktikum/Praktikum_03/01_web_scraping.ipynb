{
 "cells": [
  {
   "cell_type": "markdown",
   "metadata": {},
   "source": [
    "# Übung 3.1: Web-Scraping\n",
    "\n",
    "Die US Social Security Administration erstellt für jedes Jahr eine [Statistik der häufigsten Babynamen](https://www.ssa.gov/OACT/babynames/) (in Deutschland gibt es diese Statistik leider nur kommerziell für 10 € (!) von der [Gesellschaft für Deutsche Sprache](https://gfds.de/vornamen/beliebteste-vornamen/) – soviel zum Thema [Informationsfreiheitsgesetz](https://de.wikipedia.org/wiki/Informationsfreiheitsgesetz)).\n",
    "\n",
    "Die vollständige Liste erhält man über eine POST Request an die URL `https://www.ssa.gov/cgi-bin/popularnames.cgi` mit den Parametern\n",
    "- year (1880 und später)\n",
    "- top (bis 1000)\n",
    "- number `n` (sorgt dafür, dass die Anzahl je Name mitgegeben wird)\n",
    "\n",
    "\n",
    "## Aufgabe\n",
    "\n",
    "1. Erstellen Sie eine Funktion, die für ein gegebenes Jahr eine Liste der 1000 beliebtesten amerikanischen Mädchen- und Jungennamen mit der jeweiligen Häufigkeit des Namens zurückgibt. Die Datenstruktur könnte z.B. so aussehen:\n",
    "``` python\n",
    "{\n",
    "  'male':  ( {'John': 10000, 'Michael': 9000 }, [ 'John', 'Michael' ] ),\n",
    "  'female':  ( {'Mary': 10000, 'Linda': 9000 }, [ 'Mary', 'Linda' ] )\n",
    "}\n",
    "```\n",
    "**Hinweis:** Der XPath-Ausdruck für \"alle `tr` Elemente im zweiten `td` der zweiten `table`\" lautet \n",
    "```xpath \n",
    "//table[2]//td[2]//tr\n",
    "```\n",
    "\n",
    "2. Bestimmen Sie für die Jahre **1900**, **1950**, **2000** und **2018**\n",
    "  - Die jeweils 10 beliebtesten Mädchen- und Jungennamen,\n",
    "  - den häufigsten Namen, den sowohl Mädchen als auch Jungen haben (Kriterium ist das Minimum für ).\n",
    "\n",
    "\n",
    "Das (korrigierte) Beispiel zum Thema Web-Scraping aus der Vorlesung finden Sie auf [GitLab](https://gitlab.com/fh-swf/fb-in/skriptsprachen/notebooks/blob/master/lecture_03/03_http_request_and_web_scraping.ipynb) (auf [GitHub](https://github.com/fhswf/skriptsprachen/blob/master/lecture_03/03_http_request_and_web_scraping.ipynb) scheint aktuell die Anzeige von Jupyter Notebooks nicht zu funktionieren). "
   ]
  },
  {
   "cell_type": "code",
   "execution_count": null,
   "metadata": {},
   "outputs": [],
   "source": []
  }
 ],
 "metadata": {
  "kernelspec": {
   "display_name": "Python 3",
   "language": "python",
   "name": "python3"
  },
  "language_info": {
   "codemirror_mode": {
    "name": "ipython",
    "version": 3
   },
   "file_extension": ".py",
   "mimetype": "text/x-python",
   "name": "python",
   "nbconvert_exporter": "python",
   "pygments_lexer": "ipython3",
   "version": "3.7.3"
  }
 },
 "nbformat": 4,
 "nbformat_minor": 2
}
