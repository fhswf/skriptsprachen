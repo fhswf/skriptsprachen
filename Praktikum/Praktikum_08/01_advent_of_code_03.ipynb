{
 "cells": [
  {
   "cell_type": "markdown",
   "metadata": {},
   "source": [
    "# Übung 8: Advent of Code, Tag 3\n",
    "\n",
    "Die heutige Aufgabe basiert auf dem [Advent of Code vom 3. Dezember](https://adventofcode.com/2019/day/3) (Vielen Dank an Robin Hüttebräucker für den Tipp!).\n",
    "\n",
    "Hier die Aufgabe:\n",
    "\n",
    "``` \n",
    "--- Day 3: Crossed Wires ---\n",
    "The gravity assist was successful, and you're well on your way to the Venus refuelling station. During the rush back \n",
    "on Earth, the fuel management system wasn't completely installed, so that's next on the priority list.\n",
    "\n",
    "Opening the front panel reveals a jumble of wires. Specifically, two wires are connected to a central port and extend\n",
    "outward on a grid. You trace the path each wire takes as it leaves the central port, one wire per line of text (your \n",
    "puzzle input).\n",
    "\n",
    "The wires twist and turn, but the two wires occasionally cross paths. To fix the circuit, you need to find the \n",
    "intersection point closest to the central port. Because the wires are on a grid, use the Manhattan distance for this\n",
    "measurement. While the wires do technically cross right at the central port where they both start, this point does not \n",
    "count, nor does a wire count as crossing with itself.\n",
    "\n",
    "For example, if the first wire's path is R8,U5,L5,D3, then starting from the central port (o), \n",
    "it goes right 8, up 5, left 5, and finally down 3:\n",
    "\n",
    "...........\n",
    "...........\n",
    "...........\n",
    "....+----+.\n",
    "....|....|.\n",
    "....|....|.\n",
    "....|....|.\n",
    ".........|.\n",
    ".o-------+.\n",
    "...........\n",
    "Then, if the second wire's path is U7,R6,D4,L4, it goes up 7, right 6, down 4, and left 4:\n",
    "\n",
    "...........\n",
    ".+-----+...\n",
    ".|.....|...\n",
    ".|..+--X-+.\n",
    ".|..|..|.|.\n",
    ".|.-X--+.|.\n",
    ".|..|....|.\n",
    ".|.......|.\n",
    ".o-------+.\n",
    "...........\n",
    "These wires cross at two locations (marked X), but the lower-left one is closer to the central port: \n",
    "its distance is 3 + 3 = 6.\n",
    "\n",
    "Here are a few more examples:\n",
    "\n",
    "R75,D30,R83,U83,L12,D49,R71,U7,L72\n",
    "U62,R66,U55,R34,D71,R55,D58,R83 = distance 159\n",
    "\n",
    "R98,U47,R26,D63,R33,U87,L62,D20,R33,U53,R51\n",
    "U98,R91,D20,R16,D67,R40,U7,R15,U6,R7 = distance 135\n",
    "```\n",
    "\n",
    "Schreiben Sie Python-Programm, das anhand der beiden Input-Zeilen den gesuchten Schnittpunkt und seinen Manhattan-Abstand vom Ursprung bestimmt."
   ]
  },
  {
   "cell_type": "code",
   "execution_count": null,
   "metadata": {},
   "outputs": [],
   "source": []
  }
 ],
 "metadata": {
  "kernelspec": {
   "display_name": "Python 3",
   "language": "python",
   "name": "python3"
  },
  "language_info": {
   "codemirror_mode": {
    "name": "ipython",
    "version": 3
   },
   "file_extension": ".py",
   "mimetype": "text/x-python",
   "name": "python",
   "nbconvert_exporter": "python",
   "pygments_lexer": "ipython3",
   "version": "3.7.3"
  }
 },
 "nbformat": 4,
 "nbformat_minor": 2
}
