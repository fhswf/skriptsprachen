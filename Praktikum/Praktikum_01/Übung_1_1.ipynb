{
 "cells": [
  {
   "cell_type": "markdown",
   "metadata": {},
   "source": [
    "# Aufgabe 1: Muller-Rekursionsformel\n",
    "\n",
    "Vom französischen Informatiker [Jean-Michel Muller](http://perso.ens-lyon.fr/jean-michel.muller/) \n",
    "stammt folgendes Beispiel einer numerisch instabilen Rekursionsformel $x_{n+1} = E(x_n, x_{n-1})$ mit\n",
    "$$\n",
    "E(y, z) = 108 - \\frac{815-\\frac{1500}{z}}{y}\n",
    "$$\n",
    "sowie den Startwerten $x_0 = 4$, $x_1 = 4.25$.\n",
    "\n",
    "Man kann sich leicht überlegen, dass diese Rekursionsformel Fixpunkte bei 3, 5 und 100 hat (indem man $E(3, 3)$, $E(5, 5)$ und $E(100, 100)$ berechnet) und – weniger leicht – dass sie mit den gegebenen Startwerten gegen den Fixpunkt 5 konvergiert. Beim praktischen Rechnen mit Fließkommazahlen passieren allerdings merkwürdige Dinge ... \n",
    "\n",
    "In dieser Aufgabe geht es darum, diese Rekursion zu implementieren und dabei verschiedene numerische Typen, nämlich\n",
    "* `float`,\n",
    "* `decimal.Decimal` und\n",
    "* `fractions.Fraction`\n",
    "\n",
    "zu verwenden.\n",
    "\n",
    "## Aufgabe\n",
    "1. Implementieren Sie die obige Rekursionsformel für die drei numerischen Typen in Python.\n",
    "2. Bestimmen Sie jeweils den Grenzwert der numerischen Rekursion.\n",
    "\n",
    "## Hintergrundinformationen für mathematisch Interessierte\n",
    "Details, warum Rundungsfehler sich in diesem Fall so stark aufschaukeln, findet man auf [math.stackexchange.com](https://math.stackexchange.com/questions/2513965/mullers-recurrence-limit).\n",
    "Die Kurzform ist, dass sich die Folgenglieder als\n",
    "$$\n",
    "x_n = \\frac{\\alpha 3^{n+1} + \\beta 5^{n+1} + \\gamma 100^{n+1}}{\\alpha 3^{n} + \\beta 5^{n} + \\gamma 100^{n}}.\n",
    "$$\n",
    "darstellen lassen, wobei bei den gewählten Startwerten $\\alpha=\\beta=1$ und $\\gamma=0$ sind.\n",
    "Sobald $\\gamma$ durch Rundungsfehler einen kleinen von Null verschiedenen Wert erhält, \"gewinnen\" die Terme $\\gamma 100^{n}$ in Zähler und Nenner sehr schnell."
   ]
  },
  {
   "cell_type": "markdown",
   "metadata": {},
   "source": []
  },
  {
   "cell_type": "code",
   "execution_count": null,
   "metadata": {},
   "outputs": [],
   "source": []
  }
 ],
 "metadata": {
  "kernelspec": {
   "display_name": "Python 3",
   "language": "python",
   "name": "python3"
  },
  "language_info": {
   "codemirror_mode": {
    "name": "ipython",
    "version": 3
   },
   "file_extension": ".py",
   "mimetype": "text/x-python",
   "name": "python",
   "nbconvert_exporter": "python",
   "pygments_lexer": "ipython3",
   "version": "3.7.3"
  }
 },
 "nbformat": 4,
 "nbformat_minor": 2
}
