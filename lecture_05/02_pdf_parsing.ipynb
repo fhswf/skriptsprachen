{
 "cells": [
  {
   "cell_type": "markdown",
   "metadata": {},
   "source": [
    "# Analyse von PDF-Dokumenten\n",
    "\n",
    "Viele Dokumente liegen als PDF-Dateien vor. Auch diese lassen sich mit Python analysieren."
   ]
  },
  {
   "cell_type": "code",
   "execution_count": null,
   "metadata": {},
   "outputs": [],
   "source": [
    "import re\n",
    "from tika import parser\n",
    "\n",
    "raw = parser.from_file('dnh3.pdf')\n",
    "text = raw['content']\n",
    "text[0:1000]"
   ]
  },
  {
   "cell_type": "markdown",
   "metadata": {},
   "source": [
    "## Inhaltliche Analyse mit `spacy`\n",
    "\n",
    "Wir wollen Personen und Organisationen im Text erkennen und verwenden dazu das Paket `spacy`, das passende Modelle u.a. auch für Deutsch bereitstellt.\n",
    "\n",
    "Als Beispiel suchen wir in der Zeitschrift \"Die Neue Hochschule\" nach der Fachhochschule Südwestfalen und in diesem Zusammenhang auftretende Personen."
   ]
  },
  {
   "cell_type": "code",
   "execution_count": null,
   "metadata": {},
   "outputs": [],
   "source": [
    "import spacy\n",
    "from spacy import displacy\n",
    "import de_core_news_md\n",
    "nlp = de_core_news_md.load()"
   ]
  },
  {
   "cell_type": "code",
   "execution_count": null,
   "metadata": {},
   "outputs": [],
   "source": [
    "doc = nlp(text)\n",
    "print([(X.text, X.label_) for X in doc.ents])\n",
    "\n",
    "orgs = [ X for X in doc.ents if X.label_ == 'ORG']\n",
    "personen = [ X for X in doc.ents if X.label_ == 'PER']\n",
    "personen"
   ]
  },
  {
   "cell_type": "code",
   "execution_count": null,
   "metadata": {},
   "outputs": [],
   "source": [
    "fh_swf = []\n",
    "\n",
    "for org in orgs:\n",
    "    if org.text.find(\"Südwestfalen\") >= 0:\n",
    "        print(f\"{org} {org.start} {org.end}\")\n",
    "        fh_swf.append(org)"
   ]
  },
  {
   "cell_type": "code",
   "execution_count": null,
   "metadata": {},
   "outputs": [],
   "source": [
    "def dist(x, y):\n",
    "    mx = (x.start + x.end) / 2\n",
    "    my = (y.start + y.end) / 2\n",
    "    return (mx - my) * (mx - my)"
   ]
  },
  {
   "cell_type": "code",
   "execution_count": null,
   "metadata": {},
   "outputs": [],
   "source": [
    "for x in fh_swf:\n",
    "    for p in sorted(personen, key = lambda p:  dist(p, x))[:3]:\n",
    "        print(f\"{x} {p} {dist(p, x)}\")\n",
    "    print()"
   ]
  },
  {
   "cell_type": "code",
   "execution_count": null,
   "metadata": {},
   "outputs": [],
   "source": []
  }
 ],
 "metadata": {
  "kernelspec": {
   "display_name": "Python 3",
   "language": "python",
   "name": "python3"
  },
  "language_info": {
   "codemirror_mode": {
    "name": "ipython",
    "version": 3
   },
   "file_extension": ".py",
   "mimetype": "text/x-python",
   "name": "python",
   "nbconvert_exporter": "python",
   "pygments_lexer": "ipython3",
   "version": "3.7.3"
  }
 },
 "nbformat": 4,
 "nbformat_minor": 2
}
