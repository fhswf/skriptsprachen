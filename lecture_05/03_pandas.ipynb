{
 "cells": [
  {
   "cell_type": "markdown",
   "metadata": {},
   "source": [
    "# Verarbeitung von Excel- und CSV-Dateien mit `pandas`"
   ]
  },
  {
   "cell_type": "code",
   "execution_count": 152,
   "metadata": {},
   "outputs": [
    {
     "data": {
      "text/html": [
       "<div>\n",
       "<style scoped>\n",
       "    .dataframe tbody tr th:only-of-type {\n",
       "        vertical-align: middle;\n",
       "    }\n",
       "\n",
       "    .dataframe tbody tr th {\n",
       "        vertical-align: top;\n",
       "    }\n",
       "\n",
       "    .dataframe thead tr th {\n",
       "        text-align: left;\n",
       "    }\n",
       "</style>\n",
       "<table border=\"1\" class=\"dataframe\">\n",
       "  <thead>\n",
       "    <tr>\n",
       "      <th></th>\n",
       "      <th></th>\n",
       "      <th></th>\n",
       "      <th>Ausfuhr: Gewicht</th>\n",
       "      <th>Ausfuhr</th>\n",
       "      <th>Einfuhr: Gewicht</th>\n",
       "      <th>Einfuhr</th>\n",
       "    </tr>\n",
       "    <tr>\n",
       "      <th></th>\n",
       "      <th></th>\n",
       "      <th></th>\n",
       "      <th>t</th>\n",
       "      <th>Tsd. EUR</th>\n",
       "      <th>t</th>\n",
       "      <th>Tsd. EUR</th>\n",
       "    </tr>\n",
       "  </thead>\n",
       "  <tbody>\n",
       "    <tr>\n",
       "      <td rowspan=\"5\" valign=\"top\">2018</td>\n",
       "      <td>111.0</td>\n",
       "      <td>Getreide (ohne Reis), Hülsenfrüchte und Ölsaaten</td>\n",
       "      <td>733851.0</td>\n",
       "      <td>196861.0</td>\n",
       "      <td>4701470.0</td>\n",
       "      <td>1590075.0</td>\n",
       "    </tr>\n",
       "    <tr>\n",
       "      <td>112.0</td>\n",
       "      <td>Reis</td>\n",
       "      <td>0.0</td>\n",
       "      <td>0.0</td>\n",
       "      <td>2509.0</td>\n",
       "      <td>1987.0</td>\n",
       "    </tr>\n",
       "    <tr>\n",
       "      <td>113.0</td>\n",
       "      <td>Gemüse und Melonen sowie Wurzeln und Knollen</td>\n",
       "      <td>1090079.0</td>\n",
       "      <td>190628.0</td>\n",
       "      <td>1439456.0</td>\n",
       "      <td>1619725.0</td>\n",
       "    </tr>\n",
       "    <tr>\n",
       "      <td>114.0</td>\n",
       "      <td>Zuckerrohr</td>\n",
       "      <td>0.0</td>\n",
       "      <td>0.0</td>\n",
       "      <td>10.0</td>\n",
       "      <td>19.0</td>\n",
       "    </tr>\n",
       "    <tr>\n",
       "      <td>115.0</td>\n",
       "      <td>Tabak</td>\n",
       "      <td>2.0</td>\n",
       "      <td>15.0</td>\n",
       "      <td>1001.0</td>\n",
       "      <td>36370.0</td>\n",
       "    </tr>\n",
       "    <tr>\n",
       "      <td>...</td>\n",
       "      <td>...</td>\n",
       "      <td>...</td>\n",
       "      <td>...</td>\n",
       "      <td>...</td>\n",
       "      <td>...</td>\n",
       "      <td>...</td>\n",
       "    </tr>\n",
       "    <tr>\n",
       "      <td rowspan=\"5\" valign=\"top\">2008</td>\n",
       "      <td>3511.0</td>\n",
       "      <td>Elektrischer Strom</td>\n",
       "      <td>0.0</td>\n",
       "      <td>1533628.0</td>\n",
       "      <td>0.0</td>\n",
       "      <td>302490.0</td>\n",
       "    </tr>\n",
       "    <tr>\n",
       "      <td>3521.0</td>\n",
       "      <td>Industriell erzeugte Gase</td>\n",
       "      <td>0.0</td>\n",
       "      <td>0.0</td>\n",
       "      <td>0.0</td>\n",
       "      <td>0.0</td>\n",
       "    </tr>\n",
       "    <tr>\n",
       "      <td>8900.0</td>\n",
       "      <td>Sonstige Waren</td>\n",
       "      <td>7092949.0</td>\n",
       "      <td>10494233.0</td>\n",
       "      <td>7628559.0</td>\n",
       "      <td>11719562.0</td>\n",
       "    </tr>\n",
       "    <tr>\n",
       "      <td>8988.0</td>\n",
       "      <td>Sperrungen in der Außenhandelsstatistik</td>\n",
       "      <td>0.0</td>\n",
       "      <td>0.0</td>\n",
       "      <td>0.0</td>\n",
       "      <td>0.0</td>\n",
       "    </tr>\n",
       "    <tr>\n",
       "      <td>NaN</td>\n",
       "      <td>Insgesamt</td>\n",
       "      <td>108051834.0</td>\n",
       "      <td>171294326.0</td>\n",
       "      <td>179419412.0</td>\n",
       "      <td>186328767.0</td>\n",
       "    </tr>\n",
       "  </tbody>\n",
       "</table>\n",
       "<p>2739 rows × 4 columns</p>\n",
       "</div>"
      ],
      "text/plain": [
       "                                                             Ausfuhr: Gewicht  \\\n",
       "                                                                            t   \n",
       "2018 111.0  Getreide (ohne Reis), Hülsenfrüchte und Ölsaaten         733851.0   \n",
       "     112.0  Reis                                                          0.0   \n",
       "     113.0  Gemüse und Melonen sowie Wurzeln und Knollen            1090079.0   \n",
       "     114.0  Zuckerrohr                                                    0.0   \n",
       "     115.0  Tabak                                                         2.0   \n",
       "...                                                                       ...   \n",
       "2008 3511.0 Elektrischer Strom                                            0.0   \n",
       "     3521.0 Industriell erzeugte Gase                                     0.0   \n",
       "     8900.0 Sonstige Waren                                          7092949.0   \n",
       "     8988.0 Sperrungen in der Außenhandelsstatistik                       0.0   \n",
       "     NaN    Insgesamt                                             108051834.0   \n",
       "\n",
       "                                                                  Ausfuhr  \\\n",
       "                                                                 Tsd. EUR   \n",
       "2018 111.0  Getreide (ohne Reis), Hülsenfrüchte und Ölsaaten     196861.0   \n",
       "     112.0  Reis                                                      0.0   \n",
       "     113.0  Gemüse und Melonen sowie Wurzeln und Knollen         190628.0   \n",
       "     114.0  Zuckerrohr                                                0.0   \n",
       "     115.0  Tabak                                                    15.0   \n",
       "...                                                                   ...   \n",
       "2008 3511.0 Elektrischer Strom                                  1533628.0   \n",
       "     3521.0 Industriell erzeugte Gase                                 0.0   \n",
       "     8900.0 Sonstige Waren                                     10494233.0   \n",
       "     8988.0 Sperrungen in der Außenhandelsstatistik                   0.0   \n",
       "     NaN    Insgesamt                                         171294326.0   \n",
       "\n",
       "                                                             Einfuhr: Gewicht  \\\n",
       "                                                                            t   \n",
       "2018 111.0  Getreide (ohne Reis), Hülsenfrüchte und Ölsaaten        4701470.0   \n",
       "     112.0  Reis                                                       2509.0   \n",
       "     113.0  Gemüse und Melonen sowie Wurzeln und Knollen            1439456.0   \n",
       "     114.0  Zuckerrohr                                                   10.0   \n",
       "     115.0  Tabak                                                      1001.0   \n",
       "...                                                                       ...   \n",
       "2008 3511.0 Elektrischer Strom                                            0.0   \n",
       "     3521.0 Industriell erzeugte Gase                                     0.0   \n",
       "     8900.0 Sonstige Waren                                          7628559.0   \n",
       "     8988.0 Sperrungen in der Außenhandelsstatistik                       0.0   \n",
       "     NaN    Insgesamt                                             179419412.0   \n",
       "\n",
       "                                                                  Einfuhr  \n",
       "                                                                 Tsd. EUR  \n",
       "2018 111.0  Getreide (ohne Reis), Hülsenfrüchte und Ölsaaten    1590075.0  \n",
       "     112.0  Reis                                                   1987.0  \n",
       "     113.0  Gemüse und Melonen sowie Wurzeln und Knollen        1619725.0  \n",
       "     114.0  Zuckerrohr                                               19.0  \n",
       "     115.0  Tabak                                                 36370.0  \n",
       "...                                                                   ...  \n",
       "2008 3511.0 Elektrischer Strom                                   302490.0  \n",
       "     3521.0 Industriell erzeugte Gase                                 0.0  \n",
       "     8900.0 Sonstige Waren                                     11719562.0  \n",
       "     8988.0 Sperrungen in der Außenhandelsstatistik                   0.0  \n",
       "     NaN    Insgesamt                                         186328767.0  \n",
       "\n",
       "[2739 rows x 4 columns]"
      ]
     },
     "execution_count": 152,
     "metadata": {},
     "output_type": "execute_result"
    }
   ],
   "source": [
    "import math\n",
    "import pandas\n",
    "\n",
    "file = \"51000-22i.csv\"\n",
    "\n",
    "def keyconv(s):\n",
    "    if int(s) > 0:\n",
    "        return 10\n",
    "    else:\n",
    "        return 0\n",
    "    \n",
    "def convert(s):\n",
    "    #print(s)\n",
    "    if s == '-':\n",
    "        return 0\n",
    "    return float(s)\n",
    "\n",
    "\n",
    "frame = pandas.read_csv(file, sep=\";\", header=[6, 7], converters={1: keyconv, 3: convert, 4: convert, 5: convert, 6: convert}, index_col=[0, 1, 2], skipfooter=3, engine='python')\n",
    "frame"
   ]
  },
  {
   "cell_type": "code",
   "execution_count": 128,
   "metadata": {},
   "outputs": [
    {
     "data": {
      "text/plain": [
       "2018  111.0   Getreide (ohne Reis), Hülsenfrüchte und Ölsaaten       196861.0\n",
       "      112.0   Reis                                                        0.0\n",
       "      113.0   Gemüse und Melonen sowie Wurzeln und Knollen           190628.0\n",
       "      114.0   Zuckerrohr                                                  0.0\n",
       "      115.0   Tabak                                                      15.0\n",
       "                                                                     ...     \n",
       "2008  3511.0  Elektrischer Strom                                    1533628.0\n",
       "      3521.0  Industriell erzeugte Gase                                   0.0\n",
       "      8900.0  Sonstige Waren                                       10494233.0\n",
       "      8988.0  Sperrungen in der Außenhandelsstatistik                     0.0\n",
       "      NaN     Insgesamt                                           171294326.0\n",
       "Name: (Ausfuhr, Tsd. EUR), Length: 2739, dtype: float64"
      ]
     },
     "execution_count": 128,
     "metadata": {},
     "output_type": "execute_result"
    }
   ],
   "source": [
    "frame[('Ausfuhr', 'Tsd. EUR')]"
   ]
  },
  {
   "cell_type": "code",
   "execution_count": 132,
   "metadata": {},
   "outputs": [
    {
     "data": {
      "text/plain": [
       "Index([ (2018, 111),  (2018, 112),  (2018, 113),  (2018, 114),  (2018, 115),\n",
       "        (2018, 116),  (2018, 119),  (2018, 121),  (2018, 122),  (2018, 123),\n",
       "       ...\n",
       "       (2008, 3100), (2008, 3101), (2008, 3102), (2008, 3103), (2008, 3109),\n",
       "       (2008, 3511), (2008, 3521), (2008, 8900), (2008, 8988),    (2008, 0)],\n",
       "      dtype='object', length=2739)"
      ]
     },
     "execution_count": 132,
     "metadata": {},
     "output_type": "execute_result"
    }
   ],
   "source": [
    "frame.index"
   ]
  },
  {
   "cell_type": "code",
   "execution_count": 131,
   "metadata": {},
   "outputs": [],
   "source": [
    "new_index = []\n",
    "for idx in frame.index:\n",
    "    x, y, z = idx\n",
    "    if math.isnan(y):\n",
    "        y = 0\n",
    "    else:\n",
    "        y = int(y)\n",
    "    new_index.append((x, y))\n",
    "\n",
    "frame.index = new_index"
   ]
  },
  {
   "cell_type": "code",
   "execution_count": 134,
   "metadata": {},
   "outputs": [
    {
     "data": {
      "text/plain": [
       "(2018, 111)        196861.0\n",
       "(2018, 112)             0.0\n",
       "(2018, 113)        190628.0\n",
       "(2018, 114)             0.0\n",
       "(2018, 115)            15.0\n",
       "                   ...     \n",
       "(2008, 3511)      1533628.0\n",
       "(2008, 3521)            0.0\n",
       "(2008, 8900)     10494233.0\n",
       "(2008, 8988)            0.0\n",
       "(2008, 0)       171294326.0\n",
       "Name: (Ausfuhr, Tsd. EUR), Length: 2739, dtype: float64"
      ]
     },
     "execution_count": 134,
     "metadata": {},
     "output_type": "execute_result"
    }
   ],
   "source": [
    "frame[('Ausfuhr', 'Tsd. EUR')]"
   ]
  },
  {
   "cell_type": "code",
   "execution_count": 142,
   "metadata": {},
   "outputs": [
    {
     "data": {
      "text/html": [
       "<div>\n",
       "<style scoped>\n",
       "    .dataframe tbody tr th:only-of-type {\n",
       "        vertical-align: middle;\n",
       "    }\n",
       "\n",
       "    .dataframe tbody tr th {\n",
       "        vertical-align: top;\n",
       "    }\n",
       "\n",
       "    .dataframe thead tr th {\n",
       "        text-align: left;\n",
       "    }\n",
       "</style>\n",
       "<table border=\"1\" class=\"dataframe\">\n",
       "  <thead>\n",
       "    <tr>\n",
       "      <th></th>\n",
       "      <th>Ausfuhr: Gewicht</th>\n",
       "      <th>Ausfuhr</th>\n",
       "      <th>Einfuhr: Gewicht</th>\n",
       "      <th>Einfuhr</th>\n",
       "    </tr>\n",
       "    <tr>\n",
       "      <th></th>\n",
       "      <th>t</th>\n",
       "      <th>Tsd. EUR</th>\n",
       "      <th>t</th>\n",
       "      <th>Tsd. EUR</th>\n",
       "    </tr>\n",
       "  </thead>\n",
       "  <tbody>\n",
       "    <tr>\n",
       "      <td>(2008, 520)</td>\n",
       "      <td>374849.0</td>\n",
       "      <td>22407.0</td>\n",
       "      <td>32840.0</td>\n",
       "      <td>575.0</td>\n",
       "    </tr>\n",
       "    <tr>\n",
       "      <td>(2009, 520)</td>\n",
       "      <td>389830.0</td>\n",
       "      <td>29438.0</td>\n",
       "      <td>11530.0</td>\n",
       "      <td>273.0</td>\n",
       "    </tr>\n",
       "    <tr>\n",
       "      <td>(2010, 520)</td>\n",
       "      <td>567752.0</td>\n",
       "      <td>42316.0</td>\n",
       "      <td>1798.0</td>\n",
       "      <td>134.0</td>\n",
       "    </tr>\n",
       "    <tr>\n",
       "      <td>(2011, 520)</td>\n",
       "      <td>607096.0</td>\n",
       "      <td>48740.0</td>\n",
       "      <td>60.0</td>\n",
       "      <td>5.0</td>\n",
       "    </tr>\n",
       "    <tr>\n",
       "      <td>(2012, 520)</td>\n",
       "      <td>612841.0</td>\n",
       "      <td>52235.0</td>\n",
       "      <td>75.0</td>\n",
       "      <td>6.0</td>\n",
       "    </tr>\n",
       "    <tr>\n",
       "      <td>(2013, 520)</td>\n",
       "      <td>559520.0</td>\n",
       "      <td>49577.0</td>\n",
       "      <td>29479.0</td>\n",
       "      <td>1661.0</td>\n",
       "    </tr>\n",
       "    <tr>\n",
       "      <td>(2014, 520)</td>\n",
       "      <td>854530.0</td>\n",
       "      <td>71076.0</td>\n",
       "      <td>45375.0</td>\n",
       "      <td>2760.0</td>\n",
       "    </tr>\n",
       "    <tr>\n",
       "      <td>(2015, 520)</td>\n",
       "      <td>789357.0</td>\n",
       "      <td>68418.0</td>\n",
       "      <td>18872.0</td>\n",
       "      <td>1092.0</td>\n",
       "    </tr>\n",
       "    <tr>\n",
       "      <td>(2016, 520)</td>\n",
       "      <td>669318.0</td>\n",
       "      <td>52907.0</td>\n",
       "      <td>10661.0</td>\n",
       "      <td>539.0</td>\n",
       "    </tr>\n",
       "    <tr>\n",
       "      <td>(2017, 520)</td>\n",
       "      <td>684832.0</td>\n",
       "      <td>55494.0</td>\n",
       "      <td>5474.0</td>\n",
       "      <td>287.0</td>\n",
       "    </tr>\n",
       "    <tr>\n",
       "      <td>(2018, 520)</td>\n",
       "      <td>743884.0</td>\n",
       "      <td>62275.0</td>\n",
       "      <td>161.0</td>\n",
       "      <td>13.0</td>\n",
       "    </tr>\n",
       "  </tbody>\n",
       "</table>\n",
       "</div>"
      ],
      "text/plain": [
       "            Ausfuhr: Gewicht  Ausfuhr Einfuhr: Gewicht  Einfuhr\n",
       "                           t Tsd. EUR                t Tsd. EUR\n",
       "(2008, 520)         374849.0  22407.0          32840.0    575.0\n",
       "(2009, 520)         389830.0  29438.0          11530.0    273.0\n",
       "(2010, 520)         567752.0  42316.0           1798.0    134.0\n",
       "(2011, 520)         607096.0  48740.0             60.0      5.0\n",
       "(2012, 520)         612841.0  52235.0             75.0      6.0\n",
       "(2013, 520)         559520.0  49577.0          29479.0   1661.0\n",
       "(2014, 520)         854530.0  71076.0          45375.0   2760.0\n",
       "(2015, 520)         789357.0  68418.0          18872.0   1092.0\n",
       "(2016, 520)         669318.0  52907.0          10661.0    539.0\n",
       "(2017, 520)         684832.0  55494.0           5474.0    287.0\n",
       "(2018, 520)         743884.0  62275.0            161.0     13.0"
      ]
     },
     "execution_count": 142,
     "metadata": {},
     "output_type": "execute_result"
    }
   ],
   "source": [
    "# Aus- und Einfuhr von Braunkohle\n",
    "\n",
    "frame.filter(items=[(x, 520) for x in range(2008,2019) ], axis=0)"
   ]
  },
  {
   "cell_type": "code",
   "execution_count": 143,
   "metadata": {},
   "outputs": [
    {
     "data": {
      "text/plain": [
       "<matplotlib.axes._subplots.AxesSubplot at 0x7fb62ca5f320>"
      ]
     },
     "execution_count": 143,
     "metadata": {},
     "output_type": "execute_result"
    },
    {
     "data": {
      "image/png": "[encoded data removed]",
      "text/plain": [
       "<Figure size 432x288 with 1 Axes>"
      ]
     },
     "metadata": {
      "needs_background": "light"
     },
     "output_type": "display_data"
    }
   ],
   "source": [
    "frame.plot.scatter('Ausfuhr', 'Einfuhr')"
   ]
  },
  {
   "cell_type": "code",
   "execution_count": 144,
   "metadata": {},
   "outputs": [],
   "source": [
    "exports = [ frame.at[(year, 0), ('Ausfuhr', 'Tsd. EUR')] for year in range(2008, 2019) ]\n",
    "imports = [ frame.at[(year, 0), ('Einfuhr', 'Tsd. EUR')] for year in range(2008, 2019) ]"
   ]
  },
  {
   "cell_type": "code",
   "execution_count": 145,
   "metadata": {},
   "outputs": [
    {
     "data": {
      "text/plain": [
       "[<matplotlib.lines.Line2D at 0x7fb62c8eed68>]"
      ]
     },
     "execution_count": 145,
     "metadata": {},
     "output_type": "execute_result"
    },
    {
     "data": {
      "image/png": "[encoded data removed]",
      "text/plain": [
       "<Figure size 432x288 with 1 Axes>"
      ]
     },
     "metadata": {
      "needs_background": "light"
     },
     "output_type": "display_data"
    }
   ],
   "source": [
    "import matplotlib.pyplot as plt\n",
    "\n",
    "plt.plot(range(2008, 2019), exports)\n",
    "plt.plot(range(2008, 2019), imports)"
   ]
  },
  {
   "cell_type": "code",
   "execution_count": null,
   "metadata": {},
   "outputs": [],
   "source": []
  }
 ],
 "metadata": {
  "kernelspec": {
   "display_name": "Python 3",
   "language": "python",
   "name": "python3"
  },
  "language_info": {
   "codemirror_mode": {
    "name": "ipython",
    "version": 3
   },
   "file_extension": ".py",
   "mimetype": "text/x-python",
   "name": "python",
   "nbconvert_exporter": "python",
   "pygments_lexer": "ipython3",
   "version": "3.7.3"
  }
 },
 "nbformat": 4,
 "nbformat_minor": 2
}
