{
 "cells": [
  {
   "cell_type": "markdown",
   "metadata": {},
   "source": [
    "# Die `collections` Library\n",
    "\n",
    "## Zählen mit `Counter` oder `defaultdict`\n",
    "\n",
    "In der letzten Vorlesung haben wir unter anderem Buchstabenhäufigkeiten \"von Hand\" über `dict` gezählt.\n",
    "Dabei mussten wir uns unter anderem darum kümmern, dass `dict` Zugriffe auf nicht existierende Einträge mit einer Exception quittiert.\n",
    "\n",
    "Dieses Problem löst `defaultdict`."
   ]
  },
  {
   "cell_type": "code",
   "execution_count": null,
   "metadata": {},
   "outputs": [],
   "source": [
    "import random\n",
    "\n",
    "count = defaultdict(int)\n",
    "\n",
    "for i in range(100):\n",
    "    count[random.choice(range(6))] += 1\n",
    "    \n",
    "print(count)"
   ]
  },
  {
   "cell_type": "markdown",
   "metadata": {},
   "source": [
    "Noch einfacher geht das reine Zählen mit der Klasse `Counter`.\n",
    "\n",
    "Im Folgenden verwenden wir sie, um die Häufigkeitsverteilung von Wörten zu bestimmen. Als \"Testobjekt\" verwenden wir den Roman *Dracula* von Bram Stoker."
   ]
  },
  {
   "cell_type": "code",
   "execution_count": null,
   "metadata": {},
   "outputs": [],
   "source": [
    "from collections import Counter\n",
    "import re\n",
    "\n",
    "with open(\"dracula.txt\", \"r\") as file:\n",
    "    text = file.read()\n",
    "    \n",
    "    print(text[10000:11000])"
   ]
  },
  {
   "cell_type": "code",
   "execution_count": null,
   "metadata": {},
   "outputs": [],
   "source": [
    "text = re.sub(\"[.,;_=:!?\\\"\\'»«]+\", \"\", text)\n",
    "words = re.sub(\"[^\\w]+\", \" \", text.lower()).split(' ')\n",
    "print(words[1000:1010])"
   ]
  },
  {
   "cell_type": "code",
   "execution_count": null,
   "metadata": {},
   "outputs": [],
   "source": [
    "counter = Counter(words)\n",
    "counter.most_common(100)"
   ]
  },
  {
   "cell_type": "code",
   "execution_count": null,
   "metadata": {},
   "outputs": [],
   "source": [
    "import matplotlib.pyplot as plt\n",
    "\n",
    "N = 1000\n",
    "x = range(1, N+1)\n",
    "y = [ y for (x, y) in counter.most_common(N) ]\n",
    "plt.figure(figsize=(20,10))\n",
    "plt.title('Worthäufigkeitsverteilung in \"Dracula\"')\n",
    "plt.yscale('log')\n",
    "#plt.xscale('log')\n",
    "plt.plot(x, y, linewidth=2, color='b')\n",
    "plt.plot(x, [ 2.5*max(y)/x for x in range(1, N+1) ], linewidth=2, color='r')\n",
    "plt.show()"
   ]
  },
  {
   "cell_type": "code",
   "execution_count": null,
   "metadata": {},
   "outputs": [],
   "source": []
  }
 ],
 "metadata": {
  "kernelspec": {
   "display_name": "Python 3",
   "language": "python",
   "name": "python3"
  },
  "language_info": {
   "codemirror_mode": {
    "name": "ipython",
    "version": 3
   },
   "file_extension": ".py",
   "mimetype": "text/x-python",
   "name": "python",
   "nbconvert_exporter": "python",
   "pygments_lexer": "ipython3",
   "version": "3.7.3"
  }
 },
 "nbformat": 4,
 "nbformat_minor": 2
}
