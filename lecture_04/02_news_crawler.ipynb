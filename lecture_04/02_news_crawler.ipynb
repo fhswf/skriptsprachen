{
 "cells": [
  {
   "cell_type": "markdown",
   "metadata": {},
   "source": [
    "# Anwendungsbeispiel: Nachrichten-Crawler\n",
    "\n",
    "In diesem Beispiel wollen wir Nachrichten von der Webseite des Deutschlandfunk abrufen und indizieren."
   ]
  },
  {
   "cell_type": "code",
   "execution_count": null,
   "metadata": {},
   "outputs": [],
   "source": [
    "import re\n",
    "\n",
    "INDEX = dict()\n",
    "\n",
    "def index(url, doc):\n",
    "    \n",
    "    for e in doc.xpath(\"//article[@class='dlf-articledetail']//div[@class='text']\"):             \n",
    "        for word in re.sub(\"[^\\w]+\", \" \", e.text_content()).split():\n",
    "            if word in INDEX:\n",
    "                INDEX[word].add(url)\n",
    "            else:\n",
    "                INDEX[word] = { url }\n",
    "                        "
   ]
  },
  {
   "cell_type": "code",
   "execution_count": null,
   "metadata": {},
   "outputs": [],
   "source": [
    "import requests \n",
    "import lxml.html as lh\n",
    "from urllib.parse import urljoin\n",
    "\n",
    "base = 'https://deutschlandfunk.de'\n",
    "articles = set()\n",
    "\n",
    "resp = requests.get(base)\n",
    "if resp:\n",
    "    doc = lh.fromstring(resp.content)\n",
    "    for link in doc.xpath(\"//article//a\"):\n",
    "        href = urljoin(base, link.get('href'))\n",
    "        if not href.startswith(base): continue\n",
    "        articles.add(href)\n",
    "        \n",
    "for url in articles:\n",
    "    print(f\"crawling {url}\")\n",
    "    resp = requests.get(url)\n",
    "    if resp:\n",
    "        doc = lh.fromstring(resp.content)\n",
    "        index(url, doc)"
   ]
  },
  {
   "cell_type": "code",
   "execution_count": null,
   "metadata": {},
   "outputs": [],
   "source": [
    "def search(phrase):\n",
    "    hits = set()\n",
    "    for word in (phrase.split() & INDEX.keys()):\n",
    "        hits |= INDEX[word]\n",
    "    \n",
    "    return hits"
   ]
  },
  {
   "cell_type": "code",
   "execution_count": null,
   "metadata": {},
   "outputs": [],
   "source": [
    "search('Brexit') "
   ]
  }
 ],
 "metadata": {
  "kernelspec": {
   "display_name": "Python 3",
   "language": "python",
   "name": "python3"
  },
  "language_info": {
   "codemirror_mode": {
    "name": "ipython",
    "version": 3
   },
   "file_extension": ".py",
   "mimetype": "text/x-python",
   "name": "python",
   "nbconvert_exporter": "python",
   "pygments_lexer": "ipython3",
   "version": "3.7.3"
  }
 },
 "nbformat": 4,
 "nbformat_minor": 2
}
