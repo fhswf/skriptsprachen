{
 "cells": [
  {
   "cell_type": "markdown",
   "metadata": {},
   "source": [
    "# Anwendungsbeispiel: Nachrichten-Crawler\n",
    "\n",
    "In diesem Beispiel wollen wir Nachrichten von der Webseite des Deutschlandfunk abrufen und indizieren."
   ]
  },
  {
   "cell_type": "code",
   "execution_count": 131,
   "metadata": {},
   "outputs": [],
   "source": [
    "import re\n",
    "\n",
    "INDEX = dict()\n",
    "\n",
    "def index(url, doc):\n",
    "    \n",
    "    for e in doc.xpath(\"//article[@class='dlf-articledetail']//div[@class='text']\"):             \n",
    "        for word in re.sub(\"[^\\w]+\", \" \", e.text_content()).split():\n",
    "            if word in INDEX:\n",
    "                INDEX[word].add(url)\n",
    "            else:\n",
    "                INDEX[word] = { url }\n",
    "                        "
   ]
  },
  {
   "cell_type": "code",
   "execution_count": 132,
   "metadata": {},
   "outputs": [
    {
     "name": "stdout",
     "output_type": "stream",
     "text": [
      "crawling https://deutschlandfunk.de/philosoph-celikates-zu-extinction-rebellion-klimaprotest.911.de.html?dram:article_id=461210\n",
      "crawling https://deutschlandfunk.de/hans-blumenberg-posthum-der-preis-der-wahrheit.700.de.html?dram:article_id=460072\n",
      "crawling https://deutschlandfunk.de/bolivien-morales-muss-vermutlich-in-die-stichwahl.1939.de.html?drn:news_id=1061430\n",
      "crawling https://deutschlandfunk.de/armin-nassehi-muster-theorie-der-digitalen-gesellschaft-der.740.de.html?dram:article_id=461417\n",
      "crawling https://deutschlandfunk.de/presseschau-aus-deutschen-zeitungen.2287.de.html\n",
      "crawling https://deutschlandfunk.de/justin-trudeau-im-wahlkampf-mr-kanada-muss-kaempfen.724.de.html?dram:article_id=461430\n",
      "crawling https://deutschlandfunk.de/protest-gegen-shell-konzern-will-alte-oelplattformen-im.697.de.html?dram:article_id=461322\n",
      "crawling https://deutschlandfunk.de/gasometer-oberhausen-muss-renoviert-werden.732.de.html?dram:article_id=461127\n",
      "crawling https://deutschlandfunk.de/herausforderungen-fuer-die-weltwirtschaft-die-unsicherheit.720.de.html?dram:article_id=461442\n",
      "crawling https://deutschlandfunk.de/informationsgewinnung-wozu-noch-bibliotheken.1184.de.html?dram:article_id=458479\n",
      "crawling https://deutschlandfunk.de/brexit-heute-abstimmung-in-london-uber-austrittsvertrag.1939.de.html?drn:news_id=1061422\n",
      "crawling https://deutschlandfunk.de/ehemaliger-us-botschafter-zu-trump-eine-administration-die.694.de.html?dram:article_id=461372\n",
      "crawling https://deutschlandfunk.de/reidar-mueller-wolfsspur-entdeckungsreise-in-die-tiefen.740.de.html?dram:article_id=461408\n",
      "crawling https://deutschlandfunk.de/konflikte-zwischen-polizei-und-fans-fan-wehrt-sich.1346.de.html?dram:article_id=461426\n",
      "crawling https://deutschlandfunk.de/rechtsextreme-online-angebote-rechte-esoteriker-im-krieg.724.de.html?dram:article_id=461384\n",
      "crawling https://deutschlandfunk.de\n",
      "crawling https://deutschlandfunk.de/britische-eu-abgeordnete-zum-brexit-aufschub-wir-brauchen.868.de.html?dram:article_id=461286\n",
      "crawling https://deutschlandfunk.de/chile-ausnahmezustand-in-weiteren-stadten.1939.de.html?drn:news_id=1061460\n",
      "crawling https://deutschlandfunk.de/brexit-heute-abstimmung-in-london-ueber-austrittsvertrag.1939.de.html?drn:news_id=1061422\n",
      "crawling https://deutschlandfunk.de/irak-anghoerige-von-is-kaempfern-stigmatisiert-und.799.de.html?dram:article_id=461380\n",
      "crawling https://deutschlandfunk.de/vor-50-jahren-brandt-wird-kanzler-mehr-raumfahrt-wagen.732.de.html?dram:article_id=461412\n",
      "crawling https://deutschlandfunk.de/ukraine-der-praesident-und-sein-presse-marathon.1773.de.html?dram:article_id=461365\n",
      "crawling https://deutschlandfunk.de/grossbritannien-wie-der-brexit-spaltet.1773.de.html?dram:article_id=461443\n",
      "crawling https://deutschlandfunk.de/koalitionsausschuss-prozedere-fur-halbzeitbilanz-beschlossen.1939.de.html?drn:news_id=1061411\n",
      "crawling https://deutschlandfunk.de/willy-brandt-spd-idol-bis-heute.1773.de.html?dram:article_id=461423\n",
      "crawling https://deutschlandfunk.de/wirtschaftsbuchpreis-2019-armutsforscher-paul-collier.766.de.html?dram:article_id=461319\n",
      "crawling https://deutschlandfunk.de/ausschreitungen-in-katalonien-regionalpraesident-torra-hat.720.de.html?dram:article_id=461394\n",
      "crawling https://deutschlandfunk.de/abschluss-der-iwf-tagung-lob-zum-schluss.1766.de.html?dram:article_id=461438\n",
      "crawling https://deutschlandfunk.de/willy-brandt-wird-1969-kanzler-der-beginn-einer.871.de.html?dram:article_id=461422\n",
      "crawling https://deutschlandfunk.de/schubert-sonaten-natuerlichkeit-und-anmut.727.de.html?dram:article_id=461294\n",
      "crawling https://deutschlandfunk.de/graubuenden-auf-kirchners-spuren-durch-davos.1242.de.html?dram:article_id=461359\n",
      "crawling https://deutschlandfunk.de/friedenspreis-des-deutschen-buchhandels-meine-sprache-ist.691.de.html?dram:article_id=461419\n",
      "crawling https://deutschlandfunk.de/wirtschaftspolitik-fdp-fur-steueroase-ostdeutschland.1939.de.html?drn:news_id=1061441\n",
      "crawling https://deutschlandfunk.de/debatte-um-salutgruss-in-der-tuerkei-niemand-wird-beleidigt.1346.de.html?dram:article_id=461428\n",
      "crawling https://deutschlandfunk.de/kanadas-co2-emissionen-klimastatistik-mit-schoenheitsfehlern.697.de.html?dram:article_id=441998\n"
     ]
    }
   ],
   "source": [
    "import requests \n",
    "import lxml.html as lh\n",
    "from urllib.parse import urljoin\n",
    "\n",
    "base = 'https://deutschlandfunk.de'\n",
    "articles = set()\n",
    "\n",
    "resp = requests.get(base)\n",
    "if resp:\n",
    "    doc = lh.fromstring(resp.content)\n",
    "    for link in doc.xpath(\"//article//a\"):\n",
    "        href = urljoin(base, link.get('href'))\n",
    "        if not href.startswith(base): continue\n",
    "        articles.add(href)\n",
    "        \n",
    "for url in articles:\n",
    "    print(f\"crawling {url}\")\n",
    "    resp = requests.get(url)\n",
    "    if resp:\n",
    "        doc = lh.fromstring(resp.content)\n",
    "        index(url, doc)"
   ]
  },
  {
   "cell_type": "code",
   "execution_count": 133,
   "metadata": {},
   "outputs": [],
   "source": [
    "def search(phrase):\n",
    "    hits = set()\n",
    "    for word in (phrase.split() & INDEX.keys()):\n",
    "        hits |= INDEX[word]\n",
    "    \n",
    "    return hits"
   ]
  },
  {
   "cell_type": "code",
   "execution_count": 134,
   "metadata": {},
   "outputs": [
    {
     "data": {
      "text/plain": [
       "{'https://deutschlandfunk.de/abschluss-der-iwf-tagung-lob-zum-schluss.1766.de.html?dram:article_id=461438',\n",
       " 'https://deutschlandfunk.de/britische-eu-abgeordnete-zum-brexit-aufschub-wir-brauchen.868.de.html?dram:article_id=461286',\n",
       " 'https://deutschlandfunk.de/grossbritannien-wie-der-brexit-spaltet.1773.de.html?dram:article_id=461443',\n",
       " 'https://deutschlandfunk.de/herausforderungen-fuer-die-weltwirtschaft-die-unsicherheit.720.de.html?dram:article_id=461442'}"
      ]
     },
     "execution_count": 134,
     "metadata": {},
     "output_type": "execute_result"
    }
   ],
   "source": [
    "#print(INDEX)\n",
    "\n",
    "search('Brexit')\n",
    "    "
   ]
  },
  {
   "cell_type": "code",
   "execution_count": null,
   "metadata": {},
   "outputs": [],
   "source": [
    "\n",
    "\n",
    "help(links[0])"
   ]
  },
  {
   "cell_type": "code",
   "execution_count": null,
   "metadata": {},
   "outputs": [],
   "source": [
    "help(doc)"
   ]
  },
  {
   "cell_type": "code",
   "execution_count": null,
   "metadata": {},
   "outputs": [],
   "source": [
    "resp.url"
   ]
  },
  {
   "cell_type": "code",
   "execution_count": null,
   "metadata": {},
   "outputs": [],
   "source": [
    "for t in doc.itertext():\n",
    "    print(t)"
   ]
  },
  {
   "cell_type": "code",
   "execution_count": null,
   "metadata": {},
   "outputs": [],
   "source": []
  }
 ],
 "metadata": {
  "kernelspec": {
   "display_name": "Python 3",
   "language": "python",
   "name": "python3"
  },
  "language_info": {
   "codemirror_mode": {
    "name": "ipython",
    "version": 3
   },
   "file_extension": ".py",
   "mimetype": "text/x-python",
   "name": "python",
   "nbconvert_exporter": "python",
   "pygments_lexer": "ipython3",
   "version": "3.7.3"
  }
 },
 "nbformat": 4,
 "nbformat_minor": 2
}
