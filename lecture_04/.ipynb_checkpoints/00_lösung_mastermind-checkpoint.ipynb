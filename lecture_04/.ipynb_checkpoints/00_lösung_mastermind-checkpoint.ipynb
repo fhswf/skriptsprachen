{
 "cells": [
  {
   "cell_type": "markdown",
   "metadata": {},
   "source": [
    "# Musterlösung zur Aufgabe „Mastermind“\n",
    "\n",
    "Diese Musterlösung enthält einen *Code Maker* und einen (allerdings nicht optimalen) *Code Breaker*."
   ]
  },
  {
   "cell_type": "code",
   "execution_count": 3,
   "metadata": {},
   "outputs": [],
   "source": [
    "import random\n",
    "\n",
    "COLORS = ( 'r', 'g', 'b', 'o', 'w', 's')\n",
    "COUNT = 4"
   ]
  },
  {
   "cell_type": "markdown",
   "metadata": {},
   "source": [
    "# Scoring\n",
    "\n",
    "Sowohl der *Code Maker* als auch der *Code Breaker* benötigen eine Funktion zur Bewertung eines Versuchs. "
   ]
  },
  {
   "cell_type": "code",
   "execution_count": 32,
   "metadata": {},
   "outputs": [],
   "source": [
    "def score(guess, secret):\n",
    "    \"\"\" Evaluate a guess against the secret and return a tuple \n",
    "    containing the number of black and white pins. \n",
    "      \n",
    "    The secret and guess remain unchanged. \n",
    "    \n",
    "    >>> score(list(\"bbbb\"), list(\"brrb\"))\n",
    "    (2, 0)\n",
    "    >>> score(\"rbbr\", \"brrb\")\n",
    "    (0, 4)\n",
    "    >>> score(\"rbrb\", \"brrb\")\n",
    "    (2, 2)\n",
    "    \"\"\"\n",
    "    \n",
    "    count = len(secret)\n",
    "    black, white = (0, 0)\n",
    "    \n",
    "    # count black pins\n",
    "    black = len({ i if guess[i] == secret[i] for i in range(count) })\n",
    "\n",
    "    white = 0\n",
    "    # count black + white pins\n",
    "    for c in COLORS:\n",
    "        white += min(guess.count(c), secret.count(c))\n",
    "    white -= black\n",
    "        \n",
    "    return (black, white)"
   ]
  },
  {
   "cell_type": "markdown",
   "metadata": {},
   "source": [
    "## Testen mit `doctest`\n",
    "\n",
    "Die merkwürdigen Kommentarzeilen sind Testfälle, die wir wie folgt aufrufen können:"
   ]
  },
  {
   "cell_type": "code",
   "execution_count": 33,
   "metadata": {},
   "outputs": [
    {
     "name": "stdout",
     "output_type": "stream",
     "text": [
      "Trying:\n",
      "    maker = CodeMaker()\n",
      "Expecting nothing\n",
      "ok\n",
      "Trying:\n",
      "    len(maker.get_secret()) == COUNT\n",
      "Expecting:\n",
      "    True\n",
      "ok\n",
      "Trying:\n",
      "    maker = CodeMaker()\n",
      "Expecting nothing\n",
      "ok\n",
      "Trying:\n",
      "    maker.score(maker.secret)\n",
      "Expecting:\n",
      "    (4, 0)\n",
      "**********************************************************************\n",
      "File \"__main__\", line 23, in __main__.CodeMaker.score\n",
      "Failed example:\n",
      "    maker.score(maker.secret)\n",
      "Exception raised:\n",
      "    Traceback (most recent call last):\n",
      "      File \"/opt/tljh/user/lib/python3.7/doctest.py\", line 1329, in __run\n",
      "        compileflags, 1), test.globs)\n",
      "      File \"<doctest __main__.CodeMaker.score[1]>\", line 1, in <module>\n",
      "        maker.score(maker.secret)\n",
      "      File \"<ipython-input-25-736fe4941816>\", line 26, in score\n",
      "        return score(guess, self.secret)\n",
      "      File \"<ipython-input-32-227376ecb367>\", line 20, in score\n",
      "        black = sum([ 1 if guess[i] == secret[i] else 0 for i in range(count) ])\n",
      "    TypeError: 'int' object is not callable\n",
      "Trying:\n",
      "    score(list(\"bbbb\"), list(\"brrb\"))\n",
      "Expecting:\n",
      "    (2, 0)\n",
      "**********************************************************************\n",
      "File \"__main__\", line 7, in __main__.score\n",
      "Failed example:\n",
      "    score(list(\"bbbb\"), list(\"brrb\"))\n",
      "Exception raised:\n",
      "    Traceback (most recent call last):\n",
      "      File \"/opt/tljh/user/lib/python3.7/doctest.py\", line 1329, in __run\n",
      "        compileflags, 1), test.globs)\n",
      "      File \"<doctest __main__.score[0]>\", line 1, in <module>\n",
      "        score(list(\"bbbb\"), list(\"brrb\"))\n",
      "      File \"<ipython-input-32-227376ecb367>\", line 20, in score\n",
      "        black = sum([ 1 if guess[i] == secret[i] else 0 for i in range(count) ])\n",
      "    TypeError: 'int' object is not callable\n",
      "Trying:\n",
      "    score(\"rbbr\", \"brrb\")\n",
      "Expecting:\n",
      "    (0, 4)\n",
      "**********************************************************************\n",
      "File \"__main__\", line 9, in __main__.score\n",
      "Failed example:\n",
      "    score(\"rbbr\", \"brrb\")\n",
      "Exception raised:\n",
      "    Traceback (most recent call last):\n",
      "      File \"/opt/tljh/user/lib/python3.7/doctest.py\", line 1329, in __run\n",
      "        compileflags, 1), test.globs)\n",
      "      File \"<doctest __main__.score[1]>\", line 1, in <module>\n",
      "        score(\"rbbr\", \"brrb\")\n",
      "      File \"<ipython-input-32-227376ecb367>\", line 20, in score\n",
      "        black = sum([ 1 if guess[i] == secret[i] else 0 for i in range(count) ])\n",
      "    TypeError: 'int' object is not callable\n",
      "Trying:\n",
      "    score(\"rbrb\", \"brrb\")\n",
      "Expecting:\n",
      "    (2, 2)\n",
      "**********************************************************************\n",
      "File \"__main__\", line 11, in __main__.score\n",
      "Failed example:\n",
      "    score(\"rbrb\", \"brrb\")\n",
      "Exception raised:\n",
      "    Traceback (most recent call last):\n",
      "      File \"/opt/tljh/user/lib/python3.7/doctest.py\", line 1329, in __run\n",
      "        compileflags, 1), test.globs)\n",
      "      File \"<doctest __main__.score[2]>\", line 1, in <module>\n",
      "        score(\"rbrb\", \"brrb\")\n",
      "      File \"<ipython-input-32-227376ecb367>\", line 20, in score\n",
      "        black = sum([ 1 if guess[i] == secret[i] else 0 for i in range(count) ])\n",
      "    TypeError: 'int' object is not callable\n",
      "7 items had no tests:\n",
      "    __main__\n",
      "    __main__.CodeBreaker\n",
      "    __main__.CodeBreaker.__init__\n",
      "    __main__.CodeBreaker.play\n",
      "    __main__.CodeMaker\n",
      "    __main__.CodeMaker.__init__\n",
      "    __main__.scorer\n",
      "1 items passed all tests:\n",
      "   2 tests in __main__.CodeMaker.get_secret\n",
      "**********************************************************************\n",
      "2 items had failures:\n",
      "   1 of   2 in __main__.CodeMaker.score\n",
      "   3 of   3 in __main__.score\n",
      "7 tests in 10 items.\n",
      "3 passed and 4 failed.\n",
      "***Test Failed*** 4 failures.\n"
     ]
    },
    {
     "data": {
      "text/plain": [
       "TestResults(failed=4, attempted=7)"
      ]
     },
     "execution_count": 33,
     "metadata": {},
     "output_type": "execute_result"
    }
   ],
   "source": [
    "import doctest\n",
    "doctest.testmod(verbose=True)"
   ]
  },
  {
   "cell_type": "markdown",
   "metadata": {},
   "source": [
    "## Code Maker\n",
    "\n",
    "Der *Code Maker* besteht im wesentlichen aus einer Methode zur Generierung des Codes und einer zur Bewertung."
   ]
  },
  {
   "cell_type": "code",
   "execution_count": 25,
   "metadata": {},
   "outputs": [],
   "source": [
    "class CodeMaker:\n",
    "    \"\"\" The code maker part: Choose a secret code and evaluate guesses. \"\"\"\n",
    "\n",
    "    def __init__(self, count=COUNT, colors=COLORS):\n",
    "        self.count = count\n",
    "        self.colors = list(colors)\n",
    "        self.secret = self.get_secret()\n",
    "\n",
    "    def get_secret(self):\n",
    "        \"\"\" Choose the secret code \n",
    "        \n",
    "        >>> maker = CodeMaker()\n",
    "        >>> len(maker.get_secret()) == COUNT\n",
    "        True\n",
    "        \"\"\"\n",
    "        secret = tuple(random.choice(self.colors) for i in range(self.count) )\n",
    "        return secret\n",
    "\n",
    "    def score(self, guess):\n",
    "        \"\"\" Evaluate a guess \n",
    "        \n",
    "        >>> maker = CodeMaker()\n",
    "        >>> maker.score(maker.secret)\n",
    "        (4, 0)\n",
    "        \"\"\"\n",
    "        return score(guess, self.secret)"
   ]
  },
  {
   "cell_type": "code",
   "execution_count": 19,
   "metadata": {},
   "outputs": [
    {
     "name": "stdout",
     "output_type": "stream",
     "text": [
      "('r', 'o', 'r', 'r')\n"
     ]
    }
   ],
   "source": [
    "#cm = CodeMaker()"
   ]
  },
  {
   "cell_type": "markdown",
   "metadata": {},
   "source": [
    "## Code Breaker\n",
    "\n",
    "Der *Code Breaker* benutzt einen sehr einfachen (und daher nicht optimalen) Algorithmus:\n",
    "- Nehme die Menge aller möglichen Codes.\n",
    "- Entferne die Codes, die mit den bisherigen Antworten des *Code Makers* im Widerspruch stehen. Dies sind die Codes, die im Vergleich mit den bisher geratenen Codes einen anderen Score ergeben als der vom *Code Maker* gegebene.\n",
    "- Probiere aus dieser Menge einen zufälligen Code.\n",
    "\n",
    "Ein besserer Algorithmus würde einen Code wählen, für den eine Antwort des *Code Makers* möglichst viel zusätzliche Information bringt."
   ]
  },
  {
   "cell_type": "code",
   "execution_count": 20,
   "metadata": {},
   "outputs": [],
   "source": [
    "ALL_CODES = { (a, b, c, d) for a  in COLORS for b in COLORS for c in COLORS for d in COLORS }\n",
    "\n",
    "class CodeBreaker:\n",
    "    \"\"\" The code breaker tries to guess the code. \"\"\"\n",
    "\n",
    "    def __init__(self, scorer, count=COUNT, colors=COLORS):\n",
    "        \"\"\" Create a code breaker with a scorer function \"\"\"\n",
    "        self.count = count\n",
    "        self.colors = list(colors)\n",
    "        self.scorer = scorer\n",
    "\n",
    "    def play(self): \n",
    "        \"\"\" Play a game using the scorer function.\n",
    "        \n",
    "        Returns the number of guesses needed to break the code.\n",
    "        \"\"\"\n",
    "        guesses = []\n",
    "        guesses.append(random.choice(list(ALL_CODES)))\n",
    "        scores = { guesses[0]: scorer(guesses[0]) }\n",
    "        if scores[guesses[0]][0] == self.count:\n",
    "            return 1\n",
    "\n",
    "        candidates = set(ALL_CODES) - set(guesses)\n",
    "        while len(candidates) > 0:\n",
    "            invalid = set()\n",
    "            for candidate in candidates:\n",
    "                # check whether the candidate is consistent with the guesses we made\n",
    "                # a consistent candidate should reproduce the scores we already got\n",
    "\n",
    "                for guess in guesses:\n",
    "                    sc = score(guess, candidate, self.count)\n",
    "                    if sc != scores[guess]:\n",
    "                       # different score - the candidate is not consistent with what we know\n",
    "                       invalid.add(candidate) \n",
    "                       break\n",
    "             \n",
    "            candidates -= invalid\n",
    "            candidate = random.choice(list(candidates))\n",
    "\n",
    "            guesses.append(candidate)\n",
    "            scores[candidate] = scorer(candidate)\n",
    "            if scores[candidate][0] == self.count:\n",
    "                return len(guesses)"
   ]
  },
  {
   "cell_type": "markdown",
   "metadata": {},
   "source": [
    "## Auswertung\n",
    "\n",
    "Wir spielen nun 1000 Partien und werten aus, wie viele Versuche der *Code Breaker* benötigt hat."
   ]
  },
  {
   "cell_type": "code",
   "execution_count": 21,
   "metadata": {},
   "outputs": [
    {
     "name": "stdout",
     "output_type": "stream",
     "text": [
      "('o', 'w', 'r', 'o')\n"
     ]
    },
    {
     "ename": "TypeError",
     "evalue": "'int' object is not callable",
     "output_type": "error",
     "traceback": [
      "\u001b[0;31m---------------------------------------------------------------------------\u001b[0m",
      "\u001b[0;31mTypeError\u001b[0m                                 Traceback (most recent call last)",
      "\u001b[0;32m<ipython-input-21-2a30f085fd08>\u001b[0m in \u001b[0;36m<module>\u001b[0;34m\u001b[0m\n\u001b[1;32m     11\u001b[0m \u001b[0;34m\u001b[0m\u001b[0m\n\u001b[1;32m     12\u001b[0m     \u001b[0mbreaker\u001b[0m \u001b[0;34m=\u001b[0m \u001b[0mCodeBreaker\u001b[0m\u001b[0;34m(\u001b[0m\u001b[0mscorer\u001b[0m\u001b[0;34m)\u001b[0m\u001b[0;34m\u001b[0m\u001b[0;34m\u001b[0m\u001b[0m\n\u001b[0;32m---> 13\u001b[0;31m     \u001b[0mrounds\u001b[0m \u001b[0;34m=\u001b[0m \u001b[0mbreaker\u001b[0m\u001b[0;34m.\u001b[0m\u001b[0mplay\u001b[0m\u001b[0;34m(\u001b[0m\u001b[0;34m)\u001b[0m\u001b[0;34m\u001b[0m\u001b[0;34m\u001b[0m\u001b[0m\n\u001b[0m\u001b[1;32m     14\u001b[0m     \u001b[0msum\u001b[0m \u001b[0;34m+=\u001b[0m \u001b[0mrounds\u001b[0m\u001b[0;34m\u001b[0m\u001b[0;34m\u001b[0m\u001b[0m\n\u001b[1;32m     15\u001b[0m     \u001b[0;32mif\u001b[0m \u001b[0mrounds\u001b[0m \u001b[0;32min\u001b[0m \u001b[0mstat\u001b[0m\u001b[0;34m:\u001b[0m\u001b[0;34m\u001b[0m\u001b[0;34m\u001b[0m\u001b[0m\n",
      "\u001b[0;32m<ipython-input-20-461b0e231d40>\u001b[0m in \u001b[0;36mplay\u001b[0;34m(self)\u001b[0m\n\u001b[1;32m     17\u001b[0m         \u001b[0mguesses\u001b[0m \u001b[0;34m=\u001b[0m \u001b[0;34m[\u001b[0m\u001b[0;34m]\u001b[0m\u001b[0;34m\u001b[0m\u001b[0;34m\u001b[0m\u001b[0m\n\u001b[1;32m     18\u001b[0m         \u001b[0mguesses\u001b[0m\u001b[0;34m.\u001b[0m\u001b[0mappend\u001b[0m\u001b[0;34m(\u001b[0m\u001b[0mrandom\u001b[0m\u001b[0;34m.\u001b[0m\u001b[0mchoice\u001b[0m\u001b[0;34m(\u001b[0m\u001b[0mlist\u001b[0m\u001b[0;34m(\u001b[0m\u001b[0mALL_CODES\u001b[0m\u001b[0;34m)\u001b[0m\u001b[0;34m)\u001b[0m\u001b[0;34m)\u001b[0m\u001b[0;34m\u001b[0m\u001b[0;34m\u001b[0m\u001b[0m\n\u001b[0;32m---> 19\u001b[0;31m         \u001b[0mscores\u001b[0m \u001b[0;34m=\u001b[0m \u001b[0;34m{\u001b[0m \u001b[0mguesses\u001b[0m\u001b[0;34m[\u001b[0m\u001b[0;36m0\u001b[0m\u001b[0;34m]\u001b[0m\u001b[0;34m:\u001b[0m \u001b[0mscorer\u001b[0m\u001b[0;34m(\u001b[0m\u001b[0mguesses\u001b[0m\u001b[0;34m[\u001b[0m\u001b[0;36m0\u001b[0m\u001b[0;34m]\u001b[0m\u001b[0;34m)\u001b[0m \u001b[0;34m}\u001b[0m\u001b[0;34m\u001b[0m\u001b[0;34m\u001b[0m\u001b[0m\n\u001b[0m\u001b[1;32m     20\u001b[0m         \u001b[0;32mif\u001b[0m \u001b[0mscores\u001b[0m\u001b[0;34m[\u001b[0m\u001b[0mguesses\u001b[0m\u001b[0;34m[\u001b[0m\u001b[0;36m0\u001b[0m\u001b[0;34m]\u001b[0m\u001b[0;34m]\u001b[0m\u001b[0;34m[\u001b[0m\u001b[0;36m0\u001b[0m\u001b[0;34m]\u001b[0m \u001b[0;34m==\u001b[0m \u001b[0mself\u001b[0m\u001b[0;34m.\u001b[0m\u001b[0mcount\u001b[0m\u001b[0;34m:\u001b[0m\u001b[0;34m\u001b[0m\u001b[0;34m\u001b[0m\u001b[0m\n\u001b[1;32m     21\u001b[0m             \u001b[0;32mreturn\u001b[0m \u001b[0;36m1\u001b[0m\u001b[0;34m\u001b[0m\u001b[0;34m\u001b[0m\u001b[0m\n",
      "\u001b[0;32m<ipython-input-21-2a30f085fd08>\u001b[0m in \u001b[0;36mscorer\u001b[0;34m(guess)\u001b[0m\n\u001b[1;32m      7\u001b[0m \u001b[0;34m\u001b[0m\u001b[0m\n\u001b[1;32m      8\u001b[0m     \u001b[0;32mdef\u001b[0m \u001b[0mscorer\u001b[0m\u001b[0;34m(\u001b[0m\u001b[0mguess\u001b[0m\u001b[0;34m)\u001b[0m\u001b[0;34m:\u001b[0m\u001b[0;34m\u001b[0m\u001b[0;34m\u001b[0m\u001b[0m\n\u001b[0;32m----> 9\u001b[0;31m         \u001b[0mres\u001b[0m \u001b[0;34m=\u001b[0m \u001b[0mcoder\u001b[0m\u001b[0;34m.\u001b[0m\u001b[0mscore\u001b[0m\u001b[0;34m(\u001b[0m\u001b[0mguess\u001b[0m\u001b[0;34m)\u001b[0m\u001b[0;34m\u001b[0m\u001b[0;34m\u001b[0m\u001b[0m\n\u001b[0m\u001b[1;32m     10\u001b[0m         \u001b[0;32mreturn\u001b[0m \u001b[0mres\u001b[0m\u001b[0;34m\u001b[0m\u001b[0;34m\u001b[0m\u001b[0m\n\u001b[1;32m     11\u001b[0m \u001b[0;34m\u001b[0m\u001b[0m\n",
      "\u001b[0;32m<ipython-input-18-e5aaf9af1fc2>\u001b[0m in \u001b[0;36mscore\u001b[0;34m(self, guess)\u001b[0m\n\u001b[1;32m     25\u001b[0m         \u001b[0;34m(\u001b[0m\u001b[0;36m4\u001b[0m\u001b[0;34m,\u001b[0m \u001b[0;36m0\u001b[0m\u001b[0;34m)\u001b[0m\u001b[0;34m\u001b[0m\u001b[0;34m\u001b[0m\u001b[0m\n\u001b[1;32m     26\u001b[0m         \"\"\"\n\u001b[0;32m---> 27\u001b[0;31m         \u001b[0;32mreturn\u001b[0m \u001b[0mscore\u001b[0m\u001b[0;34m(\u001b[0m\u001b[0mguess\u001b[0m\u001b[0;34m,\u001b[0m \u001b[0mself\u001b[0m\u001b[0;34m.\u001b[0m\u001b[0msecret\u001b[0m\u001b[0;34m)\u001b[0m\u001b[0;34m\u001b[0m\u001b[0;34m\u001b[0m\u001b[0m\n\u001b[0m",
      "\u001b[0;32m<ipython-input-4-635ab4d6e2aa>\u001b[0m in \u001b[0;36mscore\u001b[0;34m(guess, secret)\u001b[0m\n\u001b[1;32m     19\u001b[0m \u001b[0;34m\u001b[0m\u001b[0m\n\u001b[1;32m     20\u001b[0m     \u001b[0;31m# count black pins\u001b[0m\u001b[0;34m\u001b[0m\u001b[0;34m\u001b[0m\u001b[0;34m\u001b[0m\u001b[0m\n\u001b[0;32m---> 21\u001b[0;31m     \u001b[0mblack\u001b[0m \u001b[0;34m=\u001b[0m \u001b[0msum\u001b[0m\u001b[0;34m(\u001b[0m\u001b[0;34m[\u001b[0m \u001b[0;36m1\u001b[0m \u001b[0;32mfor\u001b[0m \u001b[0mi\u001b[0m \u001b[0;32min\u001b[0m \u001b[0mrange\u001b[0m\u001b[0;34m(\u001b[0m\u001b[0mcount\u001b[0m\u001b[0;34m)\u001b[0m \u001b[0;32mif\u001b[0m \u001b[0mguess\u001b[0m\u001b[0;34m[\u001b[0m\u001b[0mi\u001b[0m\u001b[0;34m]\u001b[0m \u001b[0;34m==\u001b[0m \u001b[0msecret\u001b[0m\u001b[0;34m[\u001b[0m\u001b[0mi\u001b[0m\u001b[0;34m]\u001b[0m \u001b[0;34m]\u001b[0m\u001b[0;34m)\u001b[0m\u001b[0;34m\u001b[0m\u001b[0;34m\u001b[0m\u001b[0m\n\u001b[0m\u001b[1;32m     22\u001b[0m \u001b[0;34m\u001b[0m\u001b[0m\n\u001b[1;32m     23\u001b[0m     \u001b[0mwhite\u001b[0m \u001b[0;34m=\u001b[0m \u001b[0;36m0\u001b[0m\u001b[0;34m\u001b[0m\u001b[0;34m\u001b[0m\u001b[0m\n",
      "\u001b[0;31mTypeError\u001b[0m: 'int' object is not callable"
     ]
    }
   ],
   "source": [
    "N = 1000\n",
    "sum = 0\n",
    "stat = dict()\n",
    "\n",
    "for i in range(N):\n",
    "    coder = CodeMaker()\n",
    "\n",
    "    def scorer(guess):\n",
    "        res = coder.score(guess)\n",
    "        return res\n",
    "\n",
    "    breaker = CodeBreaker(scorer)\n",
    "    rounds = breaker.play()\n",
    "    sum += rounds\n",
    "    if rounds in stat:\n",
    "        stat[rounds] += 1\n",
    "    else:\n",
    "        stat[rounds] = 1\n",
    "\n",
    "for i in sorted(stat.keys()):\n",
    "    print(f\"guessed in {i}: {stat[i]}\")\n",
    "print(f\"average guesses needed: {sum/N:.2f}\")"
   ]
  },
  {
   "cell_type": "code",
   "execution_count": null,
   "metadata": {},
   "outputs": [],
   "source": []
  }
 ],
 "metadata": {
  "kernelspec": {
   "display_name": "Python 3",
   "language": "python",
   "name": "python3"
  },
  "language_info": {
   "codemirror_mode": {
    "name": "ipython",
    "version": 3
   },
   "file_extension": ".py",
   "mimetype": "text/x-python",
   "name": "python",
   "nbconvert_exporter": "python",
   "pygments_lexer": "ipython3",
   "version": "3.7.3"
  }
 },
 "nbformat": 4,
 "nbformat_minor": 4
}
