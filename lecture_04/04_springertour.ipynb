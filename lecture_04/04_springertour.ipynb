{
 "cells": [
  {
   "cell_type": "markdown",
   "metadata": {},
   "source": [
    "# Das Springerproblem\n",
    "\n",
    "Beim [Springerproblem](https://de.wikipedia.org/wiki/Springerproblem) geht es darum, mit dem Springer auf dem Schachbrett nacheinander aller Felder zu besuchen, ohne eines doppelt zu betreten.\n",
    "\n",
    "Dabei handelt es sich um eines der ältesten kombinatorischen Probleme der Welt, das mittlerweile auch theoretisch sehr gut untersucht ist.\n",
    "\n",
    "Wir werden es in diesem Beispiel mithilfe von Python zu lösen versuchen."
   ]
  },
  {
   "cell_type": "markdown",
   "metadata": {},
   "source": [
    "## Backtracking-Algorithmus\n",
    "\n",
    "Der einfachste Ansatz ist, jeweils irgendeinen Zug zu machen und bei Bedarf – wenn man in einer Sackgasse gelandet ist – Züge zurückzunehmen. "
   ]
  },
  {
   "cell_type": "code",
   "execution_count": null,
   "metadata": {},
   "outputs": [],
   "source": [
    "# Wir betrachten der Einfachheit halber nur quadratische Bretter\n",
    "SIZE = 6\n"
   ]
  },
  {
   "cell_type": "markdown",
   "metadata": {},
   "source": [
    "### Generatorfunktion für mögliche Züge\n",
    "\n",
    "Wir stellen Koordinaten auf dem Brett als Tupel `(x, y)` dar und definieren eine Generatorfunktion `knight_moves(p)`, die alle möglichen Züge eines Springers liefert."
   ]
  },
  {
   "cell_type": "code",
   "execution_count": null,
   "metadata": {},
   "outputs": [],
   "source": [
    "def knight_moves(p):\n",
    "    \"\"\" Generiere alle möglichen Züge eines Springers auf p \n",
    "    \n",
    "    >>> { p for p in knight_moves( (0, 0) ) }\n",
    "    {(1, 2), (2, 1)}\n",
    "    \n",
    "    >>> { p for p in knight_moves( (2, 2) ) }\n",
    "    {(0, 1), (4, 1), (3, 0), (1, 4), (4, 3), (1, 0), (3, 4), (0, 3)}\n",
    "    \"\"\"\n",
    "    (x, y) = p\n",
    "    for (dx, dy) in [ (1, 2), (2, 1) ]:\n",
    "        for (mx, my) in [ (x, y) for x in [ -1, 1 ] for y in [ -1, 1 ] ]:\n",
    "            if x + dx*mx < 0 or x + dx*mx >= SIZE: continue\n",
    "            if y + dy*my < 0 or y + dy*my >= SIZE: continue\n",
    "            yield (x + dx*mx, y + dy*my)"
   ]
  },
  {
   "cell_type": "code",
   "execution_count": null,
   "metadata": {},
   "outputs": [],
   "source": [
    "import doctest\n",
    "doctest.testmod(verbose=True)"
   ]
  },
  {
   "cell_type": "markdown",
   "metadata": {},
   "source": [
    "## Timing via Decorator\n",
    "\n",
    "Wir wollen die Zeit messen, die der Algorithmus (in zwei verschiedenen Varianten) benötigt. Dazu definieren wir einen passenden Decorator `@timeit` "
   ]
  },
  {
   "cell_type": "code",
   "execution_count": 29,
   "metadata": {},
   "outputs": [],
   "source": [
    "import time\n",
    "\n",
    "def timeit(method):\n",
    "    \"\"\" Messe die Ausführungszeit der Methode method \"\"\"\n",
    "    \n",
    "    def timed(*args, **kw):\n",
    "        ts = time.time()\n",
    "        result = method(*args, **kw)\n",
    "        te = time.time()\n",
    "        print(f\"execution time for {method.__name__}: {te - ts :.3f}\")\n",
    "        return result\n",
    "    return timed"
   ]
  },
  {
   "cell_type": "markdown",
   "metadata": {},
   "source": [
    "## Backtracking mit Rekursion\n",
    "\n",
    "Für das Backtracking definieren wir eine rekursive Suchfunktion."
   ]
  },
  {
   "cell_type": "code",
   "execution_count": 42,
   "metadata": {},
   "outputs": [
    {
     "name": "stdout",
     "output_type": "stream",
     "text": [
      "execution time for timed_search: 0.010\n"
     ]
    },
    {
     "data": {
      "text/plain": [
       "(False, [])"
      ]
     },
     "execution_count": 42,
     "metadata": {},
     "output_type": "execute_result"
    }
   ],
   "source": [
    "import random \n",
    "\n",
    "backtracks = 0\n",
    "best = SIZE * SIZE\n",
    "\n",
    "def search(p, visited, depth=0):\n",
    "    \"\"\" Suche einen Pfad ab Punkt p, der die verbleibenden nicht besuchten Felder abdeckt.\n",
    "    \n",
    "    Wenn ein Pfad gefunden wurde, gebe True und den Pfad zurück.\n",
    "    \"\"\"\n",
    "    global backtracks\n",
    "    global best\n",
    "    \n",
    "    visited[p[0] * SIZE + p[1]] = True\n",
    "    \n",
    "    if visited.count(False) == 0:\n",
    "        return (True, [p])\n",
    "    \n",
    "    else:\n",
    "        possible_moves = [ q for q in knight_moves(p)]\n",
    "        for q in possible_moves:\n",
    "            if visited[q[0] * SIZE + q[1]]: continue     # q wurde chon besucht!\n",
    "            (res, path) = search(q, visited[:], depth+1) # Suche weiter mit Kopie von visited!\n",
    "            if res:\n",
    "                path.append(p)\n",
    "                return (True, path)\n",
    "            else:\n",
    "                backtracks += 1\n",
    "                remain = visited.count(False)\n",
    "                if remain < best:\n",
    "                    best = remain\n",
    "                if backtracks % 1000000 == 0:\n",
    "                    print(f\"backtracks={backtracks:,d}, depth={depth}, best={best}\")\n",
    "        else:\n",
    "            return (False, [])\n",
    "        \n",
    "@timeit\n",
    "def timed_search(size=6):\n",
    "    global SIZE\n",
    "    global backtracks\n",
    "    global best\n",
    "    SIZE = size\n",
    "    backtracks = 0\n",
    "    best = SIZE * SIZE\n",
    "    visited = [ False for i in range(SIZE * SIZE) ]\n",
    "    p = (0, 0)\n",
    "    return search(p, visited)\n",
    "\n",
    "timed_search(4)"
   ]
  },
  {
   "cell_type": "code",
   "execution_count": 43,
   "metadata": {},
   "outputs": [
    {
     "name": "stdout",
     "output_type": "stream",
     "text": [
      "backtracks=1,000,000, depth=27, best=2\n",
      "backtracks=2,000,000, depth=26, best=2\n",
      "backtracks=3,000,000, depth=25, best=2\n",
      "backtracks=4,000,000, depth=21, best=2\n",
      "backtracks=5,000,000, depth=28, best=2\n",
      "backtracks=6,000,000, depth=20, best=2\n",
      "backtracks=7,000,000, depth=23, best=2\n",
      "backtracks=8,000,000, depth=26, best=2\n",
      "backtracks=9,000,000, depth=24, best=2\n",
      "backtracks=10,000,000, depth=26, best=2\n",
      "backtracks=11,000,000, depth=22, best=2\n",
      "backtracks=12,000,000, depth=27, best=2\n",
      "backtracks=13,000,000, depth=25, best=2\n",
      "backtracks=14,000,000, depth=26, best=2\n",
      "backtracks=15,000,000, depth=21, best=2\n",
      "execution time for timed_search: 57.016\n"
     ]
    },
    {
     "data": {
      "text/plain": [
       "(True,\n",
       " [(5, 0),\n",
       "  (4, 2),\n",
       "  (3, 0),\n",
       "  (5, 1),\n",
       "  (3, 2),\n",
       "  (2, 0),\n",
       "  (0, 1),\n",
       "  (2, 2),\n",
       "  (4, 1),\n",
       "  (5, 3),\n",
       "  (4, 5),\n",
       "  (2, 4),\n",
       "  (0, 5),\n",
       "  (1, 3),\n",
       "  (2, 5),\n",
       "  (4, 4),\n",
       "  (5, 2),\n",
       "  (4, 0),\n",
       "  (2, 1),\n",
       "  (3, 3),\n",
       "  (5, 4),\n",
       "  (3, 5),\n",
       "  (1, 4),\n",
       "  (0, 2),\n",
       "  (1, 0),\n",
       "  (3, 1),\n",
       "  (4, 3),\n",
       "  (5, 5),\n",
       "  (3, 4),\n",
       "  (1, 5),\n",
       "  (0, 3),\n",
       "  (1, 1),\n",
       "  (2, 3),\n",
       "  (0, 4),\n",
       "  (1, 2),\n",
       "  (0, 0)])"
      ]
     },
     "execution_count": 43,
     "metadata": {},
     "output_type": "execute_result"
    }
   ],
   "source": [
    "timed_search(6)"
   ]
  },
  {
   "cell_type": "markdown",
   "metadata": {},
   "source": [
    "## Warnsdorf-Heuristik\n",
    "\n",
    "Bereits im Jahr 1823 (!) schlug H. C. von Warnsdorf eine Heuristik vor, die das Problem vereinfacht: \n",
    "\n",
    "> In jedem Zug wählt der Springer das Feld aus, von dem aus er die wenigsten weiteren unbesuchten Felder zur\n",
    "> Auswahl hat.  "
   ]
  },
  {
   "cell_type": "code",
   "execution_count": 21,
   "metadata": {},
   "outputs": [
    {
     "data": {
      "text/plain": [
       "[(0, 0), (0, 4), (2, 0), (2, 4), (3, 1), (3, 3)]"
      ]
     },
     "execution_count": 21,
     "metadata": {},
     "output_type": "execute_result"
    }
   ],
   "source": [
    "def warnsdorf(moves, visited):\n",
    "    \"\"\" Sortiere moves nach der Warnsdorf-Heuristik \n",
    "    Sortiere die Züge aufsteigend nach der Anzahl verbleibender Felder vom Zielfeld aus\n",
    "    \"\"\"\n",
    "    counts = {}\n",
    "    for q in moves:\n",
    "        count = 0\n",
    "        for s in knight_moves(q):\n",
    "            if not visited[s[0] * SIZE + s[1]]:\n",
    "                count += 1\n",
    "        counts[q] = count\n",
    "    \n",
    "    return sorted(moves, key = lambda p : counts[p])\n",
    "    \n",
    "visited = [ False for i in range(SIZE * SIZE) ]\n",
    "moves = [ p for p in knight_moves( (1, 2) ) ]\n",
    "warnsdorf(moves, visited)"
   ]
  },
  {
   "cell_type": "code",
   "execution_count": 47,
   "metadata": {},
   "outputs": [
    {
     "name": "stdout",
     "output_type": "stream",
     "text": [
      "execution time for timed_search: 0.001\n"
     ]
    },
    {
     "data": {
      "text/plain": [
       "(True,\n",
       " [(4, 3),\n",
       "  (5, 5),\n",
       "  (3, 4),\n",
       "  (2, 2),\n",
       "  (1, 4),\n",
       "  (3, 5),\n",
       "  (2, 3),\n",
       "  (1, 5),\n",
       "  (0, 3),\n",
       "  (1, 1),\n",
       "  (3, 0),\n",
       "  (5, 1),\n",
       "  (3, 2),\n",
       "  (2, 4),\n",
       "  (0, 5),\n",
       "  (1, 3),\n",
       "  (0, 1),\n",
       "  (2, 0),\n",
       "  (4, 1),\n",
       "  (5, 3),\n",
       "  (4, 5),\n",
       "  (3, 3),\n",
       "  (5, 4),\n",
       "  (4, 2),\n",
       "  (5, 0),\n",
       "  (3, 1),\n",
       "  (1, 0),\n",
       "  (0, 2),\n",
       "  (2, 1),\n",
       "  (4, 0),\n",
       "  (5, 2),\n",
       "  (4, 4),\n",
       "  (2, 5),\n",
       "  (0, 4),\n",
       "  (1, 2),\n",
       "  (0, 0)])"
      ]
     },
     "execution_count": 47,
     "metadata": {},
     "output_type": "execute_result"
    }
   ],
   "source": [
    "import random \n",
    "\n",
    "backtracks = 0\n",
    "best = SIZE * SIZE\n",
    "\n",
    "\n",
    "def search(p, visited, depth=0):\n",
    "    \"\"\" Suche einen Pfad ab Punkt p, der die verbleibenden nicht besuchten Felder abdeckt.\n",
    "    \n",
    "    Wenn ein Pfad gefunden wurde, gebe True und den Pfad zurück.\n",
    "    \"\"\"\n",
    "    global backtracks\n",
    "    global best\n",
    "    \n",
    "    visited[p[0] * SIZE + p[1]] = True\n",
    "    \n",
    "    if visited.count(False) == 0:\n",
    "        return (True, [p])\n",
    "    \n",
    "    else:\n",
    "        possible_moves = warnsdorf([ q for q in knight_moves(p)], visited)\n",
    "        for q in possible_moves:\n",
    "            if visited[q[0] * SIZE + q[1]]: continue     # q wurde chon besucht!\n",
    "            (res, path) = search(q, visited[:], depth+1) # Suche weiter mit Kopie von visited!\n",
    "            if res:\n",
    "                path.append(p)\n",
    "                return (True, path)\n",
    "            else:\n",
    "                backtracks += 1\n",
    "                remain = visited.count(False)\n",
    "                if remain < best:\n",
    "                    best = remain\n",
    "                if backtracks % 1000000 == 0:\n",
    "                    print(f\"backtracks={backtracks:,d}, depth={depth}, left={best}\")\n",
    "        else:\n",
    "            return (False, [])\n",
    "        \n",
    "\n",
    "\n",
    "        \n",
    "@timeit\n",
    "def timed_search(size=6):\n",
    "    global SIZE\n",
    "    SIZE = size\n",
    "    visited = [ False for i in range(SIZE * SIZE) ]\n",
    "    p = (0, 0)\n",
    "    return search(p, visited)\n",
    "\n",
    "timed_search(6)"
   ]
  },
  {
   "cell_type": "code",
   "execution_count": 48,
   "metadata": {},
   "outputs": [
    {
     "name": "stdout",
     "output_type": "stream",
     "text": [
      "execution time for timed_search: 0.006\n"
     ]
    },
    {
     "data": {
      "text/plain": [
       "(True,\n",
       " [(4, 3),\n",
       "  (3, 1),\n",
       "  (2, 3),\n",
       "  (3, 5),\n",
       "  (1, 4),\n",
       "  (0, 2),\n",
       "  (1, 0),\n",
       "  (2, 2),\n",
       "  (3, 4),\n",
       "  (4, 2),\n",
       "  (2, 1),\n",
       "  (3, 3),\n",
       "  (5, 4),\n",
       "  (7, 3),\n",
       "  (6, 1),\n",
       "  (4, 0),\n",
       "  (5, 2),\n",
       "  (4, 4),\n",
       "  (3, 2),\n",
       "  (5, 3),\n",
       "  (4, 5),\n",
       "  (2, 4),\n",
       "  (3, 6),\n",
       "  (5, 5),\n",
       "  (7, 4),\n",
       "  (6, 6),\n",
       "  (4, 7),\n",
       "  (2, 6),\n",
       "  (0, 7),\n",
       "  (1, 5),\n",
       "  (0, 3),\n",
       "  (1, 1),\n",
       "  (3, 0),\n",
       "  (5, 1),\n",
       "  (7, 0),\n",
       "  (6, 2),\n",
       "  (5, 0),\n",
       "  (7, 1),\n",
       "  (6, 3),\n",
       "  (7, 5),\n",
       "  (6, 7),\n",
       "  (4, 6),\n",
       "  (2, 7),\n",
       "  (0, 6),\n",
       "  (2, 5),\n",
       "  (1, 7),\n",
       "  (0, 5),\n",
       "  (1, 3),\n",
       "  (0, 1),\n",
       "  (2, 0),\n",
       "  (4, 1),\n",
       "  (6, 0),\n",
       "  (7, 2),\n",
       "  (6, 4),\n",
       "  (7, 6),\n",
       "  (5, 7),\n",
       "  (6, 5),\n",
       "  (7, 7),\n",
       "  (5, 6),\n",
       "  (3, 7),\n",
       "  (1, 6),\n",
       "  (0, 4),\n",
       "  (1, 2),\n",
       "  (0, 0)])"
      ]
     },
     "execution_count": 48,
     "metadata": {},
     "output_type": "execute_result"
    }
   ],
   "source": [
    "timed_search(8)"
   ]
  },
  {
   "cell_type": "code",
   "execution_count": null,
   "metadata": {},
   "outputs": [],
   "source": []
  }
 ],
 "metadata": {
  "kernelspec": {
   "display_name": "Python 3",
   "language": "python",
   "name": "python3"
  },
  "language_info": {
   "codemirror_mode": {
    "name": "ipython",
    "version": 3
   },
   "file_extension": ".py",
   "mimetype": "text/x-python",
   "name": "python",
   "nbconvert_exporter": "python",
   "pygments_lexer": "ipython3",
   "version": "3.7.3"
  }
 },
 "nbformat": 4,
 "nbformat_minor": 2
}
