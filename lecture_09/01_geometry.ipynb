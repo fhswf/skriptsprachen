{
 "cells": [
  {
   "cell_type": "markdown",
   "metadata": {},
   "source": [
    "# Ebene Geometrie und Gitterpolygone\n",
    "\n",
    "Heute wollen wir Dreiecke auf einem Gitter mit ganzzahligen Koordinaten und gegebenem Flächeninhalt zählen.\n",
    "\n",
    "![Geobrett](https://upload.wikimedia.org/wikipedia/commons/9/99/Quadrate_auf_dem_Geobrett_Schr%C3%A4gsicht.jpg)\n",
    "\n",
    "Dies ist eine gute Gelegenheit, Klassen mit überladenen arithmetischen Funktionen und einem eigenen Gleichheitsbegriff kennen zu lernrn."
   ]
  },
  {
   "cell_type": "code",
   "execution_count": null,
   "metadata": {},
   "outputs": [],
   "source": []
  },
  {
   "cell_type": "code",
   "execution_count": 1,
   "metadata": {},
   "outputs": [],
   "source": [
    "class Vector(tuple):\n",
    "    \"\"\"Beschreibt einen Vektor in der zweidimensionalen\n",
    "    euklidischen Ebene\"\"\"\n",
    "    \n",
    "    def __new__(cls, *coords): \n",
    "        if len(coords) != 2: \n",
    "            raise ValueError(f\"Dimension must be 2: {coords}\")\n",
    "        return super().__new__(cls, coords)\n",
    "        \n",
    "    def __add__(self, q):\n",
    "        return Vector(self[0] + q[0], self[1] + q[1])\n",
    "    \n",
    "    def __sub__(self, q):\n",
    "        return Vector(self[0] - q[0], self[1] - q[1])\n",
    "    \n",
    "    def __mul__(self, q):\n",
    "        \"\"\"Berechne das Skalarprodukt\"\"\"\n",
    "        return self[0] * q[0] + self[1] * q[1]\n",
    "    \n",
    "    def normal(self):\n",
    "        \"\"\"Berechne den Normalenvektor\"\"\"\n",
    "        return Vector(self[1], -self[0])    \n",
    "    \n",
    "    def len2(self):\n",
    "        \"\"\"Berechne das Quadrat der Länge des Vektors\"\"\"\n",
    "        return self[0]*self[0] + self[1]*self[1]"
   ]
  },
  {
   "cell_type": "code",
   "execution_count": 2,
   "metadata": {},
   "outputs": [
    {
     "data": {
      "text/plain": [
       "GeoBoard(4): ((0, 0), (0, 1), (0, 2), (0, 3), (1, 0), (1, 1), (1, 2), (1, 3), (2, 0), (2, 1), (2, 2), (2, 3), (3, 0), (3, 1), (3, 2), (3, 3))"
      ]
     },
     "execution_count": 2,
     "metadata": {},
     "output_type": "execute_result"
    }
   ],
   "source": [
    "class GeoBoard(tuple):\n",
    "    \"\"\"Beschreibt ein GeoBoard mit n*n Punkten.\n",
    "    \"\"\"\n",
    "    \n",
    "    def __new__(cls, n):\n",
    "        points = [ Vector(x, y) for x in range(n) for y in range(n) ]\n",
    "        return super().__new__(cls, points)\n",
    "    \n",
    "    def __init__(self, n):\n",
    "        self.size = n\n",
    "    \n",
    "    def __repr__(self):\n",
    "        return f\"GeoBoard({self.size}): {super().__repr__()}\"\n",
    "\n",
    "GeoBoard(4)"
   ]
  },
  {
   "cell_type": "code",
   "execution_count": 3,
   "metadata": {},
   "outputs": [],
   "source": [
    "from collections import defaultdict\n",
    "\n",
    "class Triangle(tuple):\n",
    "    \"\"\"Beschreibt Dreiecke in der Ebene.\"\"\"\n",
    "    \n",
    "    def _ensure_vector_(p):\n",
    "        if isinstance(p, Vector): \n",
    "            return p \n",
    "        elif isinstance(p[0], tuple):\n",
    "            return [ Triangle._ensure_vector_(q) for q in p[0]]\n",
    "        else: \n",
    "            return Vector(*p)\n",
    "    \n",
    "    def __new__(cls, *points):\n",
    "        \"\"\"Erzeuge ein Dreieck aus den übergebenen Punkten.\n",
    "        \n",
    "        Die Punkte werden ggf. \"positiv orientiert\", damit wir \n",
    "        einfacher bestimmen können, ob ein Punkt im Inneren des\n",
    "        Dreiecks liegt.\n",
    "        \"\"\"\n",
    "        points = list(map(Triangle._ensure_vector_, points))\n",
    "        \n",
    "        # Check we have three points\n",
    "        if len(points) != 3 or len(set(points)) != 3: \n",
    "            raise ValueError(\"Three different points needed to create a triangle\")\n",
    "        \n",
    "        # Check that the points are not colinear and in positive order\n",
    "        dot = (points[1] - points[0]).normal() * (points[2] - points[1])\n",
    "        if dot == 0:\n",
    "            raise ValueError(f\"These points are on a line: {points}\")\n",
    "        elif dot < 0:\n",
    "            # The points are in wrong order and need to be reversed\n",
    "            points = reversed(points)\n",
    "        \n",
    "        return super().__new__(cls, points)\n",
    "    \n",
    "    def __init__(self, *points):\n",
    "        \"\"\"Initialisiere das Dreieck.\n",
    "        \n",
    "        Berechne die Seitenlängen.\n",
    "        \"\"\"        \n",
    "        sides = defaultdict(int)\n",
    "        normals = []\n",
    "        for i in range(3):\n",
    "            j = (i + 1) % 3\n",
    "            sides[(self[j] - self[i]).len2()] += 1\n",
    "            normals.append(((self[j] - self[i]).normal(), self[i]))\n",
    "        \n",
    "        self.sides = tuple(sorted(sides.items()))\n",
    "        self.normals = tuple(normals)\n",
    "        self.N = max(max([x for (x, y) in self]), max([y for (x, y) in self])) + 1\n",
    "        \n",
    "    def __repr__(self):\n",
    "        return f\"Triangle(sides: {self.sides}, points: {super().__repr__()}, max: {self.N})\"\n",
    "    \n",
    "    def __hash__(self):\n",
    "        return hash(self.sides)\n",
    "    \n",
    "    def __eq__(self, other):\n",
    "        \"\"\"Check if the other triangle is equal (congruent) \n",
    "        to this one.\n",
    "        \n",
    "        According to elementary geometry, this is the case iff\n",
    "        the length of the three sides are identical.\n",
    "        \"\"\"\n",
    "        return self.sides == other.sides\n",
    "    \n",
    "    def is_boundary(self, p):\n",
    "        \"\"\"Check if p is on the boundary of the triangle.\n",
    "        \n",
    "        This is the case, if there is a side rs with rp and rs being colinear\n",
    "        and (p - r) * (p - s) <= 0.\"\"\"\n",
    "        for i in range(3):\n",
    "            #print(f\"{p} {self[i]} {i}\")\n",
    "            if p == self[i]:\n",
    "                return True\n",
    "            \n",
    "            j = (i + 1) % 3\n",
    "            if (p - self[i]) * (self[j] - self[i]).normal() != 0:\n",
    "                continue\n",
    "            else:\n",
    "                return (p - self[i]) * (p - self[j]) <= 0\n",
    "            \n",
    "        return False\n",
    "    \n",
    "    def is_inner(self, p):\n",
    "        \"\"\"Check if p is an inner or boundary point.\n",
    "        \n",
    "        These points have a positive dot product with all normals.\n",
    "        \"\"\"\n",
    "        for (n, q) in self.normals:\n",
    "            #print(f\"{p}: {n*(p-q)}\")\n",
    "            if n * (p-q) < 0:\n",
    "                return False\n",
    "    \n",
    "        return True\n",
    " \n",
    "    def area(self):\n",
    "        \"\"\"Calculate the area using Pick's theorem.\"\"\"\n",
    "        inner = []\n",
    "        boundary = []\n",
    "        for p in (Vector(x, y) for x in range(self.N) for y in range(self.N)):\n",
    "            if self.is_boundary(p):\n",
    "                boundary.append(p)\n",
    "                \n",
    "            elif self.is_inner(p):\n",
    "                inner.append(p)\n",
    "    \n",
    "        return len(inner) + len(boundary)/2 - 1\n",
    "    "
   ]
  },
  {
   "cell_type": "code",
   "execution_count": 4,
   "metadata": {},
   "outputs": [
    {
     "data": {
      "text/plain": [
       "1.0"
      ]
     },
     "execution_count": 4,
     "metadata": {},
     "output_type": "execute_result"
    }
   ],
   "source": [
    "t1 = Triangle((0, 1), (1, 2), (0, 3))\n",
    "t1.area()"
   ]
  },
  {
   "cell_type": "code",
   "execution_count": 5,
   "metadata": {},
   "outputs": [
    {
     "data": {
      "text/plain": [
       "Triangle(sides: ((2, 2), (4, 1)), points: ((0, 3), (1, 2), (0, 1)), max: 4)"
      ]
     },
     "execution_count": 5,
     "metadata": {},
     "output_type": "execute_result"
    }
   ],
   "source": [
    "t1"
   ]
  },
  {
   "cell_type": "code",
   "execution_count": 176,
   "metadata": {},
   "outputs": [
    {
     "name": "stdout",
     "output_type": "stream",
     "text": [
      "Anzahl Dreiecke mit Fläche 0.5: 4\n",
      "Anzahl Dreiecke mit Fläche 1.0: 5\n",
      "Anzahl Dreiecke mit Fläche 1.5: 6\n",
      "Anzahl Dreiecke mit Fläche 2.0: 4\n",
      "Anzahl Dreiecke mit Fläche 2.5: 2\n",
      "Anzahl Dreiecke mit Fläche 3.0: 4\n",
      "Anzahl Dreiecke mit Fläche 3.5: 1\n",
      "Anzahl Dreiecke mit Fläche 4.0: 1\n",
      "Anzahl Dreiecke mit Fläche 4.5: 2\n"
     ]
    }
   ],
   "source": [
    "from itertools import product\n",
    "gb = GeoBoard(4)\n",
    "triangles = defaultdict(set)\n",
    "\n",
    "for points in product(*[iter(gb) for i in range(3)]):\n",
    "    try: \n",
    "        tr = Triangle(*points)\n",
    "        triangles[tr.area()].add(tr)\n",
    "    except Exception:\n",
    "        pass\n",
    "    \n",
    "for k in sorted(triangles.keys()):\n",
    "    print(f\"Anzahl Dreiecke mit Fläche {k}: {len(triangles[k])}\")"
   ]
  },
  {
   "cell_type": "code",
   "execution_count": 177,
   "metadata": {},
   "outputs": [
    {
     "name": "stdout",
     "output_type": "stream",
     "text": [
      "Triangle(sides: ((1, 1), (2, 1), (5, 1)), points: ((0, 0), (0, 1), (1, 2)), max: 3)\n"
     ]
    },
    {
     "data": {
      "image/png": "[encoded data removed]",
      "text/plain": [
       "<Figure size 432x288 with 1 Axes>"
      ]
     },
     "metadata": {
      "needs_background": "light"
     },
     "output_type": "display_data"
    },
    {
     "name": "stdout",
     "output_type": "stream",
     "text": [
      "Triangle(sides: ((1, 2), (2, 1)), points: ((0, 0), (0, 1), (1, 0)), max: 2)\n"
     ]
    },
    {
     "data": {
      "image/png": "[encoded data removed]",
      "text/plain": [
       "<Figure size 432x288 with 1 Axes>"
      ]
     },
     "metadata": {
      "needs_background": "light"
     },
     "output_type": "display_data"
    },
    {
     "name": "stdout",
     "output_type": "stream",
     "text": [
      "Triangle(sides: ((2, 1), (5, 1), (13, 1)), points: ((2, 3), (1, 1), (0, 0)), max: 4)\n"
     ]
    },
    {
     "data": {
      "image/png": "[encoded data removed]",
      "text/plain": [
       "<Figure size 432x288 with 1 Axes>"
      ]
     },
     "metadata": {
      "needs_background": "light"
     },
     "output_type": "display_data"
    },
    {
     "name": "stdout",
     "output_type": "stream",
     "text": [
      "Triangle(sides: ((1, 1), (5, 1), (10, 1)), points: ((0, 0), (0, 1), (1, 3)), max: 4)\n"
     ]
    },
    {
     "data": {
      "image/png": "[encoded data removed]",
      "text/plain": [
       "<Figure size 432x288 with 1 Axes>"
      ]
     },
     "metadata": {
      "needs_background": "light"
     },
     "output_type": "display_data"
    }
   ],
   "source": [
    "%matplotlib inline\n",
    "import matplotlib.pyplot as plt\n",
    "\n",
    "for tr in list(triangles[0.5]):\n",
    "    x = []\n",
    "    y = []\n",
    "    for i in range(4):\n",
    "        i = i % 3\n",
    "        x.append(tr[i][0])\n",
    "        y.append(tr[i][1])\n",
    "        \n",
    "    print(f\"{tr}\")\n",
    "    plt.plot(x, y)\n",
    "    plt.axis([0, 6, 0, 6])\n",
    "\n",
    "    plt.show()    "
   ]
  },
  {
   "cell_type": "code",
   "execution_count": null,
   "metadata": {},
   "outputs": [],
   "source": []
  }
 ],
 "metadata": {
  "kernelspec": {
   "display_name": "Python 3",
   "language": "python",
   "name": "python3"
  },
  "language_info": {
   "codemirror_mode": {
    "name": "ipython",
    "version": 3
   },
   "file_extension": ".py",
   "mimetype": "text/x-python",
   "name": "python",
   "nbconvert_exporter": "python",
   "pygments_lexer": "ipython3",
   "version": "3.7.3"
  }
 },
 "nbformat": 4,
 "nbformat_minor": 4
}
