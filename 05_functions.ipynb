{
 "cells": [
  {
   "cell_type": "markdown",
   "metadata": {},
   "source": [
    "# Funktionen in Python\n",
    "Funktionen werden über das Schlüsselwort `def` definiert:"
   ]
  },
  {
   "cell_type": "code",
   "execution_count": 9,
   "metadata": {},
   "outputs": [
    {
     "data": {
      "text/plain": [
       "9"
      ]
     },
     "execution_count": 9,
     "metadata": {},
     "output_type": "execute_result"
    }
   ],
   "source": [
    "def square(x):\n",
    "    return x*x\n",
    "\n",
    "square(3)"
   ]
  },
  {
   "cell_type": "markdown",
   "metadata": {},
   "source": [
    "## Dokumentation von Funktionen\n",
    "Python unterstützt – ähnlich wie z.B. Lisp – die Dokumentation von Funktionen über einen String als erstes Element der Funktion. Dieser String wird im Attribut `__doc__` der Funktion gespeichert."
   ]
  },
  {
   "cell_type": "code",
   "execution_count": 14,
   "metadata": {},
   "outputs": [
    {
     "name": "stdout",
     "output_type": "stream",
     "text": [
      "Berechne die dritte Potenz von x\n",
      "{'x': <class 'int'>, 'return': <class 'int'>}\n",
      "Help on function cube in module __main__:\n",
      "\n",
      "cube(x: int) -> int\n",
      "    Berechne die dritte Potenz von x\n",
      "\n"
     ]
    },
    {
     "data": {
      "text/plain": [
       "42.875"
      ]
     },
     "execution_count": 14,
     "metadata": {},
     "output_type": "execute_result"
    }
   ],
   "source": [
    "def cube(x: int) -> int:\n",
    "    \"\"\"Berechne die dritte Potenz von x\"\"\"\n",
    "    return x*x*x\n",
    "\n",
    "print(cube.__doc__)\n",
    "print(cube.__annotations__)\n",
    "help(cube)\n",
    "type(cube)\n",
    "cube(3.5)"
   ]
  },
  {
   "cell_type": "code",
   "execution_count": null,
   "metadata": {},
   "outputs": [],
   "source": []
  }
 ],
 "metadata": {
  "kernelspec": {
   "display_name": "Python 3",
   "language": "python",
   "name": "python3"
  },
  "language_info": {
   "codemirror_mode": {
    "name": "ipython",
    "version": 3
   },
   "file_extension": ".py",
   "mimetype": "text/x-python",
   "name": "python",
   "nbconvert_exporter": "python",
   "pygments_lexer": "ipython3",
   "version": "3.7.3"
  }
 },
 "nbformat": 4,
 "nbformat_minor": 2
}
