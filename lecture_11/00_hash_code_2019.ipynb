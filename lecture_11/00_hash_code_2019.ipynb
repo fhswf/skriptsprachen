{
 "cells": [
  {
   "cell_type": "code",
   "execution_count": 1,
   "metadata": {},
   "outputs": [
    {
     "name": "stdout",
     "output_type": "stream",
     "text": [
      "a_example.txt\t\t c_memorable_moments.txt  e_shiny_selfies.txt\r\n",
      "b_lovely_landscapes.txt  d_pet_pictures.txt\r\n"
     ]
    }
   ],
   "source": [
    "!ls out"
   ]
  },
  {
   "cell_type": "code",
   "execution_count": 7,
   "metadata": {},
   "outputs": [],
   "source": [
    "from collections import defaultdict, namedtuple\n",
    "from os import path, linesep\n",
    "from tqdm.autonotebook import tqdm\n",
    "import random\n",
    "\n",
    "class HashCode2019(dict):\n",
    "\n",
    "    class record():\n",
    "        pass\n",
    "    \n",
    "    Data = namedtuple('Data', ['tags', 'orientation'])\n",
    "    \n",
    "    IN = \"in\"\n",
    "    OUT = \"out\"\n",
    "    FILES = [ 'a_example.txt',\n",
    "              'b_lovely_landscapes.txt',\n",
    "              'c_memorable_moments.txt',\n",
    "              'd_pet_pictures.txt',\n",
    "              'e_shiny_selfies.txt']\n",
    "    \n",
    "    def __init__(self):\n",
    "        total = 0\n",
    "        pbar = tqdm(self.FILES, 'loading data')\n",
    "        for file in pbar:\n",
    "            self[file] = self.record()\n",
    "            data = self.Data(*self.load_data(file))\n",
    "            self[file].data = data \n",
    "            \n",
    "            if path.exists(path.join(self.OUT, file)):\n",
    "                show, points = self.load_show(file)\n",
    "                self[file].show = show\n",
    "                self[file].points = points\n",
    "                total += points\n",
    "            else:\n",
    "                print(f\"Creating slides for {file}\")\n",
    "                slides = self.build_slides(file)\n",
    "                show, points = self.build_show(file, slides)\n",
    "                self[file].show = show\n",
    "                self[file].points = points\n",
    "                total += points\n",
    "                self.write_show(show, file)\n",
    "            pbar.set_postfix({'total': total})\n",
    "                \n",
    "    def __repr__(self):\n",
    "        return str({ file: self[file].points for file in self.FILES })\n",
    "    \n",
    "    def load_data(self, file):\n",
    "        fotos_by_tag = defaultdict(set)\n",
    "        tags = []\n",
    "        orientation = []\n",
    "\n",
    "        with open(path.join(self.IN, file), 'r') as input:\n",
    "            input.readline()\n",
    "            \n",
    "            for (id, line) in enumerate(tqdm(input, f'loading input data', postfix=file)):\n",
    "                (ori, _, *_tags) = line[:-1].split(' ')\n",
    "                #print(f\"{id} {orientation} {tags}\")\n",
    "                tags.append(set(_tags))\n",
    "                orientation.append(ori)\n",
    "                \n",
    "        return (tags, orientation)  \n",
    "         \n",
    "    def build_slides(self, file):\n",
    "        \"\"\"Build slides for input file.\n",
    "        \n",
    "        Vertical photos are randomly paired.\n",
    "        \"\"\"\n",
    "        (tags, orientation) = self[file].data\n",
    "        slides = []\n",
    "        verticals = []\n",
    "        \n",
    "        for id in range(len(tags)):\n",
    "            if orientation[id] == 'H':\n",
    "                # create tuple with only one member\n",
    "                slides.append((id,))\n",
    "            else:\n",
    "                verticals.append(id)\n",
    "        \n",
    "        random.shuffle(verticals)\n",
    "        vslides = []\n",
    "        # build random pairs \n",
    "        for x, y in zip(*[iter(verticals)] * 2):\n",
    "            vslides.append((x, y))\n",
    "        slides += vslides\n",
    "        \n",
    "        return slides\n",
    "    \n",
    "    def build_show(self, file, slides):\n",
    "        \"\"\"Build a slide show from slides.\n",
    "        \n",
    "        Use a simple greedy algorithm to optimize points.\"\"\"\n",
    "        data = self[file].data\n",
    "                \n",
    "        slides = slides.copy()\n",
    "        #random.shuffle(slides)\n",
    "        \n",
    "        m = 0\n",
    "        if self.FILES.index(file) > 2:\n",
    "            m = 80\n",
    "        scores = self.get_scores(slides, data, m)\n",
    "        \n",
    "        \n",
    "        # We have now a graph with weighted adges and are looking for a maximum weight \n",
    "        # Hamiltonian path.\n",
    "        #\n",
    "        show = self.naive_greedy(slides, scores)\n",
    "                     \n",
    "        score = 0\n",
    "        t1 = self.get_tags(data, show[0])\n",
    "        for i in range(1, len(show)):\n",
    "            t2 = self.get_tags(data, show[i])\n",
    "            score += self.val(t1, t2)\n",
    "            t1 = t2\n",
    "        \n",
    "        print(f\"initial show for {file} has {score} points\")\n",
    "        return (show, score)\n",
    "    \n",
    "    def get_scores(self, slides, data, max_tags=0):\n",
    "        slides_by_tag = defaultdict(set)\n",
    "        scores = defaultdict(dict)\n",
    "        N = len(slides)\n",
    "        \n",
    "        for i in tqdm(range(N), 'populating slides_by_tag'):\n",
    "            for tag in self.get_tags(data, slides[i]):\n",
    "                slides_by_tag[tag].add(i)  \n",
    "                \n",
    "        for i in tqdm(range(N), 'populating points matrix'):\n",
    "            # calculate points for all slides with overlapping tags\n",
    "            tags_i = self.get_tags(data, slides[i])\n",
    "            if max_tags > 0:\n",
    "                tags = random.sample(tags_i, min(len(tags_i), max_tags))\n",
    "            else:\n",
    "                tags = tags_i\n",
    "                \n",
    "            for tag in tags:\n",
    "                candidates = slides_by_tag[tag]\n",
    "                if max_tags > 0:\n",
    "                    candidates = random.sample(candidates, min(len(candidates), max_tags))\n",
    "                for j in candidates:\n",
    "                    if i == j: \n",
    "                        continue\n",
    "                    else:\n",
    "                        tags_j = self.get_tags(data, slides[j])\n",
    "                        v = self.val(tags_i, tags_j)\n",
    "                        if v > 0:\n",
    "                            scores[i][j] = v\n",
    "        return scores\n",
    "\n",
    "    def naive_greedy(self, slides, scores):\n",
    "        \"\"\"The following is a rather naive greedy algorithm.\n",
    "\n",
    "        One issue is that this approach often leaves nodes which have no more connection.\n",
    "        \"\"\"\n",
    "        show = []\n",
    "        fail = 0\n",
    "        N = len(slides)\n",
    "        todo = set(range(N))\n",
    "        slide = min(todo)\n",
    "        todo.remove(slide)\n",
    "        show.append(slides[slide])\n",
    "        \n",
    "        pbar = tqdm(desc='running greedy', total=N)\n",
    "        pbar.update(1)\n",
    "        while len(todo) > 0:\n",
    "            pbar.update(1)\n",
    "            candidates = scores[slide].keys()\n",
    "            if len(candidates & todo) > 0:\n",
    "                n = max(candidates & todo, key=lambda j: scores[slide][j])\n",
    "            else:\n",
    "                fail += 1\n",
    "                n = random.choice(list(todo))\n",
    "                pbar.set_postfix({'fail': fail})\n",
    "    \n",
    "            slide = n\n",
    "            todo.remove(slide)\n",
    "            show.append(slides[slide])\n",
    "        pbar.close()\n",
    "        \n",
    "        return show\n",
    "    \n",
    "    def greedy_edges(self, slides, scores):\n",
    "        \"\"\"Start with using the most precious edges in the graph.\"\"\"\n",
    "        \n",
    "        N = len(slides)\n",
    "        show = []\n",
    "        max_scores = []\n",
    "        edges = defaultdict(list)\n",
    "        \n",
    "        for i in range(N):\n",
    "            for j in sorted(scores[i].keys(), key=lambda j: scores[i][j], reverse=True)[:2]:\n",
    "                if i < j:\n",
    "                    max_scores.append((i, j, scores[i][j]))\n",
    "        max_scores = sorted(max_scores, key=lambda tup: tup[2], reverse=True)\n",
    "       \n",
    "        \n",
    "        for tup in max_scores:\n",
    "            (i, j, m) = tup\n",
    "            if len(edges[i]) < 2:\n",
    "                edges[i].append((j, m))\n",
    "            if len(edges[j]) < 2:\n",
    "                edges[j].append((i, m))\n",
    "        \n",
    "        #print(f\"edges: {edges}\")\n",
    "        \n",
    "        \n",
    "        todo = set(range(N))\n",
    "        nodes = list(edges.keys())\n",
    "        while len(nodes) > 0:\n",
    "            slide = nodes.pop(0)\n",
    "            if slide in todo:\n",
    "                show.append(slides[slide])\n",
    "                todo.remove(slide)\n",
    "                \n",
    "                path = True\n",
    "                cpath = []\n",
    "                cpath.append(slide)\n",
    "                while path:\n",
    "                    for (node, w) in edges[slide]:\n",
    "                        if node in todo:\n",
    "                            slide = node\n",
    "                            cpath.append(slide)\n",
    "                            show.append(slides[slide])\n",
    "                            todo.remove(slide)\n",
    "                            break\n",
    "                    else:\n",
    "                        path = False\n",
    "                        #print(f\"new path: {cpath}\")\n",
    "                            \n",
    "        #print(show)\n",
    "    \n",
    "        return show\n",
    "        \n",
    "    def better_greedy(self, slides, scores):\n",
    "        \"\"\"Try to avoid generating isolated nodes.\"\"\"\n",
    "        \n",
    "        show = []\n",
    "        fail = 0\n",
    "        N = len(slides)\n",
    "        todo = sorted(list(range(N)), key=lambda i: len(scores[i]))\n",
    "        done = set()\n",
    "        successor = [ -1 for i in range(N) ]\n",
    "        \n",
    "        # print(f\"scores: {[ len(scores[i]) for i in todo ]}\")\n",
    "        \n",
    "        pbar = tqdm(todo, 'running greedy')\n",
    "        for slide in pbar:\n",
    "            done.add(slide)\n",
    "            candidates = scores[slide].keys()\n",
    "            if len(candidates - done) > 0:\n",
    "                n = max(candidates - done, key=lambda j: scores[slide][j])\n",
    "                successor[slide] = n\n",
    "                done.add(n)\n",
    "            else:\n",
    "                fail += 1\n",
    "                pbar.set_postfix({ 'fail': fail })\n",
    "                \n",
    "        print(f\"successor: {successor}\")\n",
    "        \n",
    "        slide = todo[0]\n",
    "        todo = set(range(N))\n",
    "        show.append(slides[slide])\n",
    "        todo.remove(slide)\n",
    "        positive = { i for i in range(N) if successor[i] > 0 }\n",
    "        while len(todo) > 0:\n",
    "            if successor[slide] > 0  & successor[slide] in todo:\n",
    "                slide = successor[slide]\n",
    "            elif len(todo & positive) > 0:\n",
    "                slide = min(todo & positive)\n",
    "            else:\n",
    "                slide = min(todo)\n",
    "            show.append(slides[slide])\n",
    "            todo.remove(slide)\n",
    "        \n",
    "        return show\n",
    "    \n",
    "    def write_show(self, show, file):\n",
    "        \"\"\"Write a slide show\"\"\"\n",
    "        with open(path.join(self.OUT, file), 'w') as out:\n",
    "            out.write(f\"{len(show)}\" + linesep)\n",
    "            for slide in show:\n",
    "                for i in slide:\n",
    "                    out.write(f\"{i} \")\n",
    "                out.write(linesep)\n",
    "    \n",
    "    def get_tags(self, data, fotos):\n",
    "        \"\"\"Get all tags for iter of fotos\"\"\"\n",
    "        l1 = [ data.tags[foto] for foto in fotos ]\n",
    "        \n",
    "        return l1[0].union(*l1[1:])\n",
    "        \n",
    "    def load_show(self, file):\n",
    "        \"\"\"Load a slide show\"\"\"\n",
    "        show = []\n",
    "        points = 0\n",
    "        \n",
    "        with open(path.join(self.OUT, file), 'r') as input:\n",
    "            input.readline()\n",
    "            for (id, line) in enumerate(tqdm(input, f'loading show data', postfix=file)):\n",
    "                fotos = line[:-1].split(' ')\n",
    "                show.append(list(int(foto) for foto in fotos if len(foto) > 0))\n",
    "        \n",
    "        data = self[file].data\n",
    "        t1 = self.get_tags(data, show[0])\n",
    "        for i in range(1, len(show)):\n",
    "            t2 = self.get_tags(data, show[i])\n",
    "            points += self.val(t1, t2)\n",
    "            t1 = t2\n",
    "        \n",
    "        return (show, points)\n",
    "\n",
    "\n",
    "    def val(self, s1, s2):\n",
    "        return min(len(s1 - s2), len(s1 & s2), len(s2 - s1))\n",
    "    \n",
    "    def optimize_show(self, file):\n",
    "        \"\"\"Try to optimize the show for file\"\"\"\n",
    "        M = 100000\n",
    "        gain = 0\n",
    "        success = 0\n",
    "        old = self[file].points\n",
    "        show = self[file].show\n",
    "        data = self[file].data\n",
    "        N = len(show)\n",
    "    \n",
    "        for count in tqdm(range(M), f\"optimizing\", postfix=file):\n",
    "            i, j = random.randint(1, N-2), random.randint(1, N-2)\n",
    "            if (i - j) * (i - j) < 4:\n",
    "                continue\n",
    "            #print(f\"{i} {j}\")\n",
    "            \n",
    "            sim1 = self.get_tags(data, show[i-1])\n",
    "            si   = self.get_tags(data, show[i])\n",
    "            sip1 = self.get_tags(data, show[i+1])\n",
    "            sjm1 = self.get_tags(data, show[j-1])\n",
    "            sj   = self.get_tags(data, show[j])\n",
    "            sjp1 = self.get_tags(data, show[j+1])\n",
    "            \n",
    "            \n",
    "            v_old = self.val(sim1, si) + self.val(si, sip1) + \\\n",
    "                    self.val(sjm1, sj) + self.val(sj, sjp1)\n",
    "            v_new = self.val(sim1, sj) + self.val(sj, sip1) + \\\n",
    "                    self.val(sjm1, si) + self.val(si, sjp1)\n",
    "            \n",
    "            # print(f\"old/new: {v_old} {v_new}\")\n",
    "        \n",
    "            if v_new > v_old:\n",
    "                success += 1\n",
    "                gain += v_new - v_old\n",
    "                #print(f\"1-opt gain: {v_new - v_old}\")\n",
    "                show[i], show[j] = show[j], show[i]\n",
    "            else:\n",
    "                l1 = list(show[i])\n",
    "                l2 = list(show[j])\n",
    "\n",
    "                if len(l1) == 2 and len(l2) == 2:\n",
    "                    #print(\"4-opt\")\n",
    "                    random.shuffle(list(l1))\n",
    "                    random.shuffle(list(l2))\n",
    "                    # print((l1, l2))\n",
    "                    s1 = self.get_tags(data, (l1[0], l2[0])) \n",
    "                    s2 = self.get_tags(data, (l1[1], l2[1])) \n",
    "                    v_new = self.val(sim1, s1) + self.val(s1, sip1) + \\\n",
    "                            self.val(sjm1, s2) + self.val(s2, sjp1)\n",
    "                    if v_new > v_old:\n",
    "                        #print(f\"4-opt gain: {v_new - v_old}\")\n",
    "                        show[i] = (l1[0], l2[0])\n",
    "                        show[j] = (l1[1], l2[1])\n",
    "                        gain += v_new - v_old\n",
    "                        success += 1\n",
    "                   \n",
    "       \n",
    "        new = 0\n",
    "        t1 = self.get_tags(data, show[0])\n",
    "        for i in range(1, len(show)):\n",
    "            t2 = self.get_tags(data, show[i])\n",
    "            new += self.val(t1, t2)\n",
    "            t1 = t2\n",
    "        #print(v)\n",
    "        self[file].show = show\n",
    "        self[file].points = new\n",
    "        if new > old:\n",
    "            self.write_show(show, file)\n",
    "        print(f\"optimize_show: success: {success/M}, gain: {new - old}\")\n",
    "        return (old, new)"
   ]
  },
  {
   "cell_type": "code",
   "execution_count": 8,
   "metadata": {},
   "outputs": [
    {
     "data": {
      "application/vnd.jupyter.widget-view+json": {
       "model_id": "398a9367a9ef446cb9986e61bdda41ef",
       "version_major": 2,
       "version_minor": 0
      },
      "text/plain": [
       "HBox(children=(IntProgress(value=0, description='loading data', max=5, style=ProgressStyle(description_width='…"
      ]
     },
     "metadata": {},
     "output_type": "display_data"
    },
    {
     "data": {
      "application/vnd.jupyter.widget-view+json": {
       "model_id": "49f28ea597354f7fb8652fb7415f3657",
       "version_major": 2,
       "version_minor": 0
      },
      "text/plain": [
       "HBox(children=(IntProgress(value=1, bar_style='info', description='loading input data', max=1, style=ProgressS…"
      ]
     },
     "metadata": {},
     "output_type": "display_data"
    },
    {
     "data": {
      "application/vnd.jupyter.widget-view+json": {
       "model_id": "37c6d650907647f2965fac200426406b",
       "version_major": 2,
       "version_minor": 0
      },
      "text/plain": [
       "HBox(children=(IntProgress(value=1, bar_style='info', description='loading show data', max=1, style=ProgressSt…"
      ]
     },
     "metadata": {},
     "output_type": "display_data"
    },
    {
     "data": {
      "application/vnd.jupyter.widget-view+json": {
       "model_id": "fac99c039e6541b1bb224c2b728e36fe",
       "version_major": 2,
       "version_minor": 0
      },
      "text/plain": [
       "HBox(children=(IntProgress(value=1, bar_style='info', description='loading input data', max=1, style=ProgressS…"
      ]
     },
     "metadata": {},
     "output_type": "display_data"
    },
    {
     "data": {
      "application/vnd.jupyter.widget-view+json": {
       "model_id": "fe3a2d1bbe5741509072729d45e113d5",
       "version_major": 2,
       "version_minor": 0
      },
      "text/plain": [
       "HBox(children=(IntProgress(value=1, bar_style='info', description='loading show data', max=1, style=ProgressSt…"
      ]
     },
     "metadata": {},
     "output_type": "display_data"
    },
    {
     "data": {
      "application/vnd.jupyter.widget-view+json": {
       "model_id": "d6c97caeee324ad08625586f5ea336f3",
       "version_major": 2,
       "version_minor": 0
      },
      "text/plain": [
       "HBox(children=(IntProgress(value=1, bar_style='info', description='loading input data', max=1, style=ProgressS…"
      ]
     },
     "metadata": {},
     "output_type": "display_data"
    },
    {
     "data": {
      "application/vnd.jupyter.widget-view+json": {
       "model_id": "90481b679c584c328b6b0e1b9338bd1e",
       "version_major": 2,
       "version_minor": 0
      },
      "text/plain": [
       "HBox(children=(IntProgress(value=1, bar_style='info', description='loading show data', max=1, style=ProgressSt…"
      ]
     },
     "metadata": {},
     "output_type": "display_data"
    },
    {
     "data": {
      "application/vnd.jupyter.widget-view+json": {
       "model_id": "92b149308d1b460f81aaa98bfb9d1c0c",
       "version_major": 2,
       "version_minor": 0
      },
      "text/plain": [
       "HBox(children=(IntProgress(value=1, bar_style='info', description='loading input data', max=1, style=ProgressS…"
      ]
     },
     "metadata": {},
     "output_type": "display_data"
    },
    {
     "data": {
      "application/vnd.jupyter.widget-view+json": {
       "model_id": "bdf9f465a8b1484a9924178d37f8a302",
       "version_major": 2,
       "version_minor": 0
      },
      "text/plain": [
       "HBox(children=(IntProgress(value=1, bar_style='info', description='loading show data', max=1, style=ProgressSt…"
      ]
     },
     "metadata": {},
     "output_type": "display_data"
    },
    {
     "data": {
      "application/vnd.jupyter.widget-view+json": {
       "model_id": "5d2a26e0d6024b14bc2c3dd8c55a13f1",
       "version_major": 2,
       "version_minor": 0
      },
      "text/plain": [
       "HBox(children=(IntProgress(value=1, bar_style='info', description='loading input data', max=1, style=ProgressS…"
      ]
     },
     "metadata": {},
     "output_type": "display_data"
    },
    {
     "data": {
      "application/vnd.jupyter.widget-view+json": {
       "model_id": "44c8eaa2c3b64c418bd491faaca201e8",
       "version_major": 2,
       "version_minor": 0
      },
      "text/plain": [
       "HBox(children=(IntProgress(value=1, bar_style='info', description='loading show data', max=1, style=ProgressSt…"
      ]
     },
     "metadata": {},
     "output_type": "display_data"
    },
    {
     "name": "stdout",
     "output_type": "stream",
     "text": [
      "\n"
     ]
    },
    {
     "data": {
      "text/plain": [
       "{'a_example.txt': 2, 'b_lovely_landscapes.txt': 204651, 'c_memorable_moments.txt': 1548, 'd_pet_pictures.txt': 375253, 'e_shiny_selfies.txt': 340596}"
      ]
     },
     "execution_count": 8,
     "metadata": {},
     "output_type": "execute_result"
    }
   ],
   "source": [
    "hc = HashCode2019()\n",
    "hc"
   ]
  },
  {
   "cell_type": "code",
   "execution_count": 3,
   "metadata": {},
   "outputs": [
    {
     "name": "stdout",
     "output_type": "stream",
     "text": [
      "insgesamt 1628\r\n",
      "-rw-r--r-- 1 jupyter jupyter     13 Dez 17 11:01 a_example.txt\r\n",
      "-rw-r--r-- 1 jupyter jupyter 548896 Dez 17 11:01 b_lovely_landscapes.txt\r\n",
      "-rw-r--r-- 1 jupyter jupyter   4644 Jan  6 14:53 c_memorable_moments.txt\r\n",
      "-rw-r--r-- 1 jupyter jupyter 588896 Jan  6 14:53 d_pet_pictures.txt\r\n",
      "-rw-r--r-- 1 jupyter jupyter 508896 Jan  6 14:54 e_shiny_selfies.txt\r\n"
     ]
    }
   ],
   "source": [
    "!ls -l out"
   ]
  },
  {
   "cell_type": "code",
   "execution_count": 4,
   "metadata": {},
   "outputs": [
    {
     "data": {
      "application/vnd.jupyter.widget-view+json": {
       "model_id": "7938207d94584a36b2febe83a5cc99d3",
       "version_major": 2,
       "version_minor": 0
      },
      "text/plain": [
       "HBox(children=(IntProgress(value=0, description='optimizing', max=10000, style=ProgressStyle(description_width…"
      ]
     },
     "metadata": {},
     "output_type": "display_data"
    },
    {
     "name": "stdout",
     "output_type": "stream",
     "text": [
      "\n",
      "optimize_show: success: 0.0, gain: 0\n"
     ]
    },
    {
     "data": {
      "application/vnd.jupyter.widget-view+json": {
       "model_id": "314fc4adac964057b9d821a7551665e3",
       "version_major": 2,
       "version_minor": 0
      },
      "text/plain": [
       "HBox(children=(IntProgress(value=0, description='optimizing', max=10000, style=ProgressStyle(description_width…"
      ]
     },
     "metadata": {},
     "output_type": "display_data"
    },
    {
     "name": "stdout",
     "output_type": "stream",
     "text": [
      "\n",
      "optimize_show: success: 0.0, gain: 0\n"
     ]
    },
    {
     "data": {
      "application/vnd.jupyter.widget-view+json": {
       "model_id": "81a3092a5361427c92a34ebf233cbb57",
       "version_major": 2,
       "version_minor": 0
      },
      "text/plain": [
       "HBox(children=(IntProgress(value=0, description='optimizing', max=10000, style=ProgressStyle(description_width…"
      ]
     },
     "metadata": {},
     "output_type": "display_data"
    },
    {
     "name": "stdout",
     "output_type": "stream",
     "text": [
      "\n",
      "optimize_show: success: 0.0, gain: 0\n"
     ]
    },
    {
     "data": {
      "application/vnd.jupyter.widget-view+json": {
       "model_id": "7f4e66d6268d4ccab5c15757b26f3aa0",
       "version_major": 2,
       "version_minor": 0
      },
      "text/plain": [
       "HBox(children=(IntProgress(value=0, description='optimizing', max=10000, style=ProgressStyle(description_width…"
      ]
     },
     "metadata": {},
     "output_type": "display_data"
    },
    {
     "name": "stdout",
     "output_type": "stream",
     "text": [
      "\n",
      "optimize_show: success: 0.0002, gain: 2\n"
     ]
    },
    {
     "data": {
      "application/vnd.jupyter.widget-view+json": {
       "model_id": "a30e787263e44fb887e412c8b34d21bd",
       "version_major": 2,
       "version_minor": 0
      },
      "text/plain": [
       "HBox(children=(IntProgress(value=0, description='optimizing', max=10000, style=ProgressStyle(description_width…"
      ]
     },
     "metadata": {},
     "output_type": "display_data"
    },
    {
     "name": "stdout",
     "output_type": "stream",
     "text": [
      "\n",
      "optimize_show: success: 0.0005, gain: 6\n"
     ]
    },
    {
     "data": {
      "application/vnd.jupyter.widget-view+json": {
       "model_id": "257573bec31e4d9ba5f8622b5e2aba6e",
       "version_major": 2,
       "version_minor": 0
      },
      "text/plain": [
       "HBox(children=(IntProgress(value=0, description='optimizing', max=10000, style=ProgressStyle(description_width…"
      ]
     },
     "metadata": {},
     "output_type": "display_data"
    },
    {
     "name": "stdout",
     "output_type": "stream",
     "text": [
      "\n",
      "optimize_show: success: 0.0003, gain: 3\n",
      "total: 921974, file: e_shiny_selfies.txt\n",
      "{'a_example.txt': 0, 'b_lovely_landscapes.txt': 0, 'c_memorable_moments.txt': 0, 'd_pet_pictures.txt': 2, 'e_shiny_selfies.txt': 3}\n"
     ]
    },
    {
     "data": {
      "application/vnd.jupyter.widget-view+json": {
       "model_id": "ccdc3b2459eb49eca69c40a247ff3a06",
       "version_major": 2,
       "version_minor": 0
      },
      "text/plain": [
       "HBox(children=(IntProgress(value=0, description='optimizing', max=10000, style=ProgressStyle(description_width…"
      ]
     },
     "metadata": {},
     "output_type": "display_data"
    },
    {
     "name": "stdout",
     "output_type": "stream",
     "text": [
      "\n",
      "optimize_show: success: 0.0007, gain: 9\n",
      "total: 921983, file: e_shiny_selfies.txt\n",
      "{'a_example.txt': 0, 'b_lovely_landscapes.txt': 0, 'c_memorable_moments.txt': 0, 'd_pet_pictures.txt': 2, 'e_shiny_selfies.txt': 9}\n"
     ]
    },
    {
     "data": {
      "application/vnd.jupyter.widget-view+json": {
       "model_id": "aed55853bfd446359dcba6e8aa6d8d95",
       "version_major": 2,
       "version_minor": 0
      },
      "text/plain": [
       "HBox(children=(IntProgress(value=0, description='optimizing', max=10000, style=ProgressStyle(description_width…"
      ]
     },
     "metadata": {},
     "output_type": "display_data"
    },
    {
     "name": "stdout",
     "output_type": "stream",
     "text": [
      "\n",
      "optimize_show: success: 0.0005, gain: 9\n",
      "total: 921992, file: e_shiny_selfies.txt\n",
      "{'a_example.txt': 0, 'b_lovely_landscapes.txt': 0, 'c_memorable_moments.txt': 0, 'd_pet_pictures.txt': 2, 'e_shiny_selfies.txt': 9}\n"
     ]
    },
    {
     "data": {
      "application/vnd.jupyter.widget-view+json": {
       "model_id": "70fb10d2e8ac4499938f813ca7f3253f",
       "version_major": 2,
       "version_minor": 0
      },
      "text/plain": [
       "HBox(children=(IntProgress(value=0, description='optimizing', max=10000, style=ProgressStyle(description_width…"
      ]
     },
     "metadata": {},
     "output_type": "display_data"
    },
    {
     "name": "stdout",
     "output_type": "stream",
     "text": [
      "\n",
      "optimize_show: success: 0.0003, gain: 4\n",
      "total: 921996, file: e_shiny_selfies.txt\n",
      "{'a_example.txt': 0, 'b_lovely_landscapes.txt': 0, 'c_memorable_moments.txt': 0, 'd_pet_pictures.txt': 2, 'e_shiny_selfies.txt': 4}\n"
     ]
    },
    {
     "data": {
      "application/vnd.jupyter.widget-view+json": {
       "model_id": "2fec28a2617a44e1ae99e892f6019c0e",
       "version_major": 2,
       "version_minor": 0
      },
      "text/plain": [
       "HBox(children=(IntProgress(value=0, description='optimizing', max=10000, style=ProgressStyle(description_width…"
      ]
     },
     "metadata": {},
     "output_type": "display_data"
    },
    {
     "name": "stdout",
     "output_type": "stream",
     "text": [
      "\n",
      "optimize_show: success: 0.0005, gain: 7\n",
      "total: 922003, file: e_shiny_selfies.txt\n",
      "{'a_example.txt': 0, 'b_lovely_landscapes.txt': 0, 'c_memorable_moments.txt': 0, 'd_pet_pictures.txt': 2, 'e_shiny_selfies.txt': 7}\n"
     ]
    },
    {
     "data": {
      "application/vnd.jupyter.widget-view+json": {
       "model_id": "f13dc3b95dee499b96e723e43ca09538",
       "version_major": 2,
       "version_minor": 0
      },
      "text/plain": [
       "HBox(children=(IntProgress(value=0, description='optimizing', max=10000, style=ProgressStyle(description_width…"
      ]
     },
     "metadata": {},
     "output_type": "display_data"
    },
    {
     "name": "stdout",
     "output_type": "stream",
     "text": [
      "\n",
      "optimize_show: success: 0.0005, gain: 7\n",
      "total: 922010, file: e_shiny_selfies.txt\n",
      "{'a_example.txt': 0, 'b_lovely_landscapes.txt': 0, 'c_memorable_moments.txt': 0, 'd_pet_pictures.txt': 2, 'e_shiny_selfies.txt': 7}\n"
     ]
    },
    {
     "data": {
      "application/vnd.jupyter.widget-view+json": {
       "model_id": "5ea03d165a854e0cb747d79f8703214d",
       "version_major": 2,
       "version_minor": 0
      },
      "text/plain": [
       "HBox(children=(IntProgress(value=0, description='optimizing', max=10000, style=ProgressStyle(description_width…"
      ]
     },
     "metadata": {},
     "output_type": "display_data"
    },
    {
     "name": "stdout",
     "output_type": "stream",
     "text": [
      "\n"
     ]
    },
    {
     "ename": "KeyboardInterrupt",
     "evalue": "",
     "output_type": "error",
     "traceback": [
      "\u001b[0;31m---------------------------------------------------------------------------\u001b[0m",
      "\u001b[0;31mKeyboardInterrupt\u001b[0m                         Traceback (most recent call last)",
      "\u001b[0;32m<ipython-input-4-c2931b74b0c4>\u001b[0m in \u001b[0;36m<module>\u001b[0;34m\u001b[0m\n\u001b[1;32m      8\u001b[0m \u001b[0;32mwhile\u001b[0m \u001b[0;32mTrue\u001b[0m\u001b[0;34m:\u001b[0m\u001b[0;34m\u001b[0m\u001b[0;34m\u001b[0m\u001b[0m\n\u001b[1;32m      9\u001b[0m     \u001b[0mfile\u001b[0m \u001b[0;34m=\u001b[0m \u001b[0mmax\u001b[0m\u001b[0;34m(\u001b[0m\u001b[0mgain\u001b[0m\u001b[0;34m,\u001b[0m \u001b[0mkey\u001b[0m\u001b[0;34m=\u001b[0m\u001b[0;32mlambda\u001b[0m \u001b[0mk\u001b[0m\u001b[0;34m:\u001b[0m \u001b[0mgain\u001b[0m\u001b[0;34m[\u001b[0m\u001b[0mk\u001b[0m\u001b[0;34m]\u001b[0m\u001b[0;34m)\u001b[0m\u001b[0;34m\u001b[0m\u001b[0;34m\u001b[0m\u001b[0m\n\u001b[0;32m---> 10\u001b[0;31m     \u001b[0;34m(\u001b[0m\u001b[0mold\u001b[0m\u001b[0;34m,\u001b[0m \u001b[0mnew\u001b[0m\u001b[0;34m)\u001b[0m \u001b[0;34m=\u001b[0m \u001b[0mhc\u001b[0m\u001b[0;34m.\u001b[0m\u001b[0moptimize_show\u001b[0m\u001b[0;34m(\u001b[0m\u001b[0mfile\u001b[0m\u001b[0;34m)\u001b[0m\u001b[0;34m\u001b[0m\u001b[0;34m\u001b[0m\u001b[0m\n\u001b[0m\u001b[1;32m     11\u001b[0m     \u001b[0mgain\u001b[0m\u001b[0;34m[\u001b[0m\u001b[0mfile\u001b[0m\u001b[0;34m]\u001b[0m \u001b[0;34m=\u001b[0m \u001b[0mnew\u001b[0m \u001b[0;34m-\u001b[0m \u001b[0mold\u001b[0m\u001b[0;34m\u001b[0m\u001b[0;34m\u001b[0m\u001b[0m\n\u001b[1;32m     12\u001b[0m     \u001b[0mtotal\u001b[0m \u001b[0;34m+=\u001b[0m \u001b[0mnew\u001b[0m \u001b[0;34m-\u001b[0m \u001b[0mold\u001b[0m\u001b[0;34m\u001b[0m\u001b[0;34m\u001b[0m\u001b[0m\n",
      "\u001b[0;32m<ipython-input-1-5bbd8c7e0caa>\u001b[0m in \u001b[0;36moptimize_show\u001b[0;34m(self, file)\u001b[0m\n\u001b[1;32m    331\u001b[0m             \u001b[0msim1\u001b[0m \u001b[0;34m=\u001b[0m \u001b[0mself\u001b[0m\u001b[0;34m.\u001b[0m\u001b[0mget_tags\u001b[0m\u001b[0;34m(\u001b[0m\u001b[0mdata\u001b[0m\u001b[0;34m,\u001b[0m \u001b[0mshow\u001b[0m\u001b[0;34m[\u001b[0m\u001b[0mi\u001b[0m\u001b[0;34m-\u001b[0m\u001b[0;36m1\u001b[0m\u001b[0;34m]\u001b[0m\u001b[0;34m)\u001b[0m\u001b[0;34m\u001b[0m\u001b[0;34m\u001b[0m\u001b[0m\n\u001b[1;32m    332\u001b[0m             \u001b[0msi\u001b[0m   \u001b[0;34m=\u001b[0m \u001b[0mself\u001b[0m\u001b[0;34m.\u001b[0m\u001b[0mget_tags\u001b[0m\u001b[0;34m(\u001b[0m\u001b[0mdata\u001b[0m\u001b[0;34m,\u001b[0m \u001b[0mshow\u001b[0m\u001b[0;34m[\u001b[0m\u001b[0mi\u001b[0m\u001b[0;34m]\u001b[0m\u001b[0;34m)\u001b[0m\u001b[0;34m\u001b[0m\u001b[0;34m\u001b[0m\u001b[0m\n\u001b[0;32m--> 333\u001b[0;31m             \u001b[0msip1\u001b[0m \u001b[0;34m=\u001b[0m \u001b[0mself\u001b[0m\u001b[0;34m.\u001b[0m\u001b[0mget_tags\u001b[0m\u001b[0;34m(\u001b[0m\u001b[0mdata\u001b[0m\u001b[0;34m,\u001b[0m \u001b[0mshow\u001b[0m\u001b[0;34m[\u001b[0m\u001b[0mi\u001b[0m\u001b[0;34m+\u001b[0m\u001b[0;36m1\u001b[0m\u001b[0;34m]\u001b[0m\u001b[0;34m)\u001b[0m\u001b[0;34m\u001b[0m\u001b[0;34m\u001b[0m\u001b[0m\n\u001b[0m\u001b[1;32m    334\u001b[0m             \u001b[0msjm1\u001b[0m \u001b[0;34m=\u001b[0m \u001b[0mself\u001b[0m\u001b[0;34m.\u001b[0m\u001b[0mget_tags\u001b[0m\u001b[0;34m(\u001b[0m\u001b[0mdata\u001b[0m\u001b[0;34m,\u001b[0m \u001b[0mshow\u001b[0m\u001b[0;34m[\u001b[0m\u001b[0mj\u001b[0m\u001b[0;34m-\u001b[0m\u001b[0;36m1\u001b[0m\u001b[0;34m]\u001b[0m\u001b[0;34m)\u001b[0m\u001b[0;34m\u001b[0m\u001b[0;34m\u001b[0m\u001b[0m\n\u001b[1;32m    335\u001b[0m             \u001b[0msj\u001b[0m   \u001b[0;34m=\u001b[0m \u001b[0mself\u001b[0m\u001b[0;34m.\u001b[0m\u001b[0mget_tags\u001b[0m\u001b[0;34m(\u001b[0m\u001b[0mdata\u001b[0m\u001b[0;34m,\u001b[0m \u001b[0mshow\u001b[0m\u001b[0;34m[\u001b[0m\u001b[0mj\u001b[0m\u001b[0;34m]\u001b[0m\u001b[0;34m)\u001b[0m\u001b[0;34m\u001b[0m\u001b[0;34m\u001b[0m\u001b[0m\n",
      "\u001b[0;32m<ipython-input-1-5bbd8c7e0caa>\u001b[0m in \u001b[0;36mget_tags\u001b[0;34m(self, data, fotos)\u001b[0m\n\u001b[1;32m    287\u001b[0m         \u001b[0ml1\u001b[0m \u001b[0;34m=\u001b[0m \u001b[0;34m[\u001b[0m \u001b[0mdata\u001b[0m\u001b[0;34m.\u001b[0m\u001b[0mtags\u001b[0m\u001b[0;34m[\u001b[0m\u001b[0mfoto\u001b[0m\u001b[0;34m]\u001b[0m \u001b[0;32mfor\u001b[0m \u001b[0mfoto\u001b[0m \u001b[0;32min\u001b[0m \u001b[0mfotos\u001b[0m \u001b[0;34m]\u001b[0m\u001b[0;34m\u001b[0m\u001b[0;34m\u001b[0m\u001b[0m\n\u001b[1;32m    288\u001b[0m \u001b[0;34m\u001b[0m\u001b[0m\n\u001b[0;32m--> 289\u001b[0;31m         \u001b[0;32mreturn\u001b[0m \u001b[0ml1\u001b[0m\u001b[0;34m[\u001b[0m\u001b[0;36m0\u001b[0m\u001b[0;34m]\u001b[0m\u001b[0;34m.\u001b[0m\u001b[0munion\u001b[0m\u001b[0;34m(\u001b[0m\u001b[0;34m*\u001b[0m\u001b[0ml1\u001b[0m\u001b[0;34m[\u001b[0m\u001b[0;36m1\u001b[0m\u001b[0;34m:\u001b[0m\u001b[0;34m]\u001b[0m\u001b[0;34m)\u001b[0m\u001b[0;34m\u001b[0m\u001b[0;34m\u001b[0m\u001b[0m\n\u001b[0m\u001b[1;32m    290\u001b[0m \u001b[0;34m\u001b[0m\u001b[0m\n\u001b[1;32m    291\u001b[0m     \u001b[0;32mdef\u001b[0m \u001b[0mload_show\u001b[0m\u001b[0;34m(\u001b[0m\u001b[0mself\u001b[0m\u001b[0;34m,\u001b[0m \u001b[0mfile\u001b[0m\u001b[0;34m)\u001b[0m\u001b[0;34m:\u001b[0m\u001b[0;34m\u001b[0m\u001b[0;34m\u001b[0m\u001b[0m\n",
      "\u001b[0;31mKeyboardInterrupt\u001b[0m: "
     ]
    }
   ],
   "source": [
    "gain = {}\n",
    "total = 0\n",
    "for file in hc.FILES:\n",
    "    (old, new) = hc.optimize_show(file)\n",
    "    gain[file] = new - old\n",
    "    total += new\n",
    "\n",
    "while True:\n",
    "    file = max(gain, key=lambda k: gain[k])\n",
    "    (old, new) = hc.optimize_show(file)\n",
    "    gain[file] = new - old\n",
    "    total += new - old\n",
    "    print(f\"total: {total}, file: {file}\")\n",
    "    print(gain)\n",
    "    "
   ]
  },
  {
   "cell_type": "code",
   "execution_count": 20,
   "metadata": {},
   "outputs": [
    {
     "name": "stdout",
     "output_type": "stream",
     "text": [
      "Starting optimizing a_example.txt\n",
      "Starting optimizing b_lovely_landscapes.txt\n",
      "Starting optimizing c_memorable_moments.txt\n",
      "Starting optimizing d_pet_pictures.txt\n",
      "Starting optimizing e_shiny_selfies.txt\n"
     ]
    },
    {
     "data": {
      "application/vnd.jupyter.widget-view+json": {
       "model_id": "b2de11c3533346c185ab487ccd010add",
       "version_major": 2,
       "version_minor": 0
      },
      "text/plain": [
       "HBox(children=(IntProgress(value=0, description='optimizing', max=100000, style=ProgressStyle(description_widt…"
      ]
     },
     "metadata": {},
     "output_type": "display_data"
    },
    {
     "data": {
      "application/vnd.jupyter.widget-view+json": {
       "model_id": "b842da91c99b4f7faa72fd3885e4fa0a",
       "version_major": 2,
       "version_minor": 0
      },
      "text/plain": [
       "HBox(children=(IntProgress(value=0, description='optimizing', max=100000, style=ProgressStyle(description_widt…"
      ]
     },
     "metadata": {},
     "output_type": "display_data"
    },
    {
     "data": {
      "application/vnd.jupyter.widget-view+json": {
       "model_id": "921795b77fec4d42a992d58fd7c6417e",
       "version_major": 2,
       "version_minor": 0
      },
      "text/plain": [
       "HBox(children=(IntProgress(value=0, description='optimizing', max=100000, style=ProgressStyle(description_widt…"
      ]
     },
     "metadata": {},
     "output_type": "display_data"
    },
    {
     "data": {
      "application/vnd.jupyter.widget-view+json": {
       "model_id": "0cdb1ea9eede45e687e0c0496b6d5f03",
       "version_major": 2,
       "version_minor": 0
      },
      "text/plain": [
       "HBox(children=(IntProgress(value=0, description='optimizing', max=100000, style=ProgressStyle(description_widt…"
      ]
     },
     "metadata": {},
     "output_type": "display_data"
    },
    {
     "data": {
      "application/vnd.jupyter.widget-view+json": {
       "model_id": "31c90153d7ba42dfbb3d8a1f6e28a51f",
       "version_major": 2,
       "version_minor": 0
      },
      "text/plain": [
       "HBox(children=(IntProgress(value=0, description='optimizing', max=100000, style=ProgressStyle(description_widt…"
      ]
     },
     "metadata": {},
     "output_type": "display_data"
    },
    {
     "name": "stdout",
     "output_type": "stream",
     "text": [
      "optimize_show: success: 0.0, gain: 0\n",
      "gain for a_example.txt: 0\n",
      "optimize_show: success: 0.0, gain: 0\n",
      "gain for c_memorable_moments.txt: 0\n",
      "optimize_show: success: 0.0, gain: 0\n",
      "gain for b_lovely_landscapes.txt: 0\n",
      "optimize_show: success: 0.00038, gain: 44\n",
      "gain for d_pet_pictures.txt: 44\n",
      "optimize_show: success: 0.00067, gain: 96\n",
      "gain for e_shiny_selfies.txt: 96\n",
      "total gain: 140\n"
     ]
    }
   ],
   "source": [
    "import threading\n",
    "\n",
    "class Optimizer(threading.Thread):\n",
    "    \n",
    "    def __init__(self, file):\n",
    "        threading.Thread.__init__(self)\n",
    "        self.file = file\n",
    "    \n",
    "    def run(self):\n",
    "        print (\"Starting optimizing \" + self.file)\n",
    "        (old, new) = hc.optimize_show(self.file)\n",
    "        gain[self.file] = new - old\n",
    "        print (f\"gain for {self.file}: {gain[self.file]}\")\n",
    "        return gain[self.file]\n",
    "        \n",
    "gain = {}\n",
    "threads = {}\n",
    "total = 0\n",
    "for file in hc.FILES:\n",
    "    threads[file] = Optimizer(file)\n",
    "    threads[file].start()\n",
    "\n",
    "for file in hc.FILES:\n",
    "    threads[file].join()\n",
    "    total += gain[file]\n",
    "\n",
    "print(f\"total gain: {total}\")"
   ]
  },
  {
   "cell_type": "code",
   "execution_count": 22,
   "metadata": {},
   "outputs": [
    {
     "name": "stdout",
     "output_type": "stream",
     "text": [
      "Starting optimizing a_example.txt\n",
      "Starting optimizing b_lovely_landscapes.txt\n",
      "Starting optimizing c_memorable_moments.txt\n"
     ]
    },
    {
     "data": {
      "application/vnd.jupyter.widget-view+json": {
       "model_id": "8f74a0c16fba413b9dcd85b7e0ac7822",
       "version_major": 2,
       "version_minor": 0
      },
      "text/plain": [
       "HBox(children=(IntProgress(value=0, description='optimizing', max=100000, style=ProgressStyle(description_widt…"
      ]
     },
     "metadata": {},
     "output_type": "display_data"
    },
    {
     "name": "stdout",
     "output_type": "stream",
     "text": [
      "Starting optimizing d_pet_pictures.txt\n"
     ]
    },
    {
     "data": {
      "application/vnd.jupyter.widget-view+json": {
       "model_id": "d829c2dbabcc4d028e03d073c5f2de18",
       "version_major": 2,
       "version_minor": 0
      },
      "text/plain": [
       "HBox(children=(IntProgress(value=0, description='optimizing', max=100000, style=ProgressStyle(description_widt…"
      ]
     },
     "metadata": {},
     "output_type": "display_data"
    },
    {
     "name": "stdout",
     "output_type": "stream",
     "text": [
      "Starting optimizing e_shiny_selfies.txt\n"
     ]
    },
    {
     "data": {
      "application/vnd.jupyter.widget-view+json": {
       "model_id": "b3a7979c939647bd88f274490694974a",
       "version_major": 2,
       "version_minor": 0
      },
      "text/plain": [
       "HBox(children=(IntProgress(value=0, description='optimizing', max=100000, style=ProgressStyle(description_widt…"
      ]
     },
     "metadata": {},
     "output_type": "display_data"
    },
    {
     "data": {
      "application/vnd.jupyter.widget-view+json": {
       "model_id": "c01cf95599964d51a5f06b9a6256edc8",
       "version_major": 2,
       "version_minor": 0
      },
      "text/plain": [
       "HBox(children=(IntProgress(value=0, description='optimizing', max=100000, style=ProgressStyle(description_widt…"
      ]
     },
     "metadata": {},
     "output_type": "display_data"
    },
    {
     "data": {
      "application/vnd.jupyter.widget-view+json": {
       "model_id": "6003b4738e694d398be83559bd5b887a",
       "version_major": 2,
       "version_minor": 0
      },
      "text/plain": [
       "HBox(children=(IntProgress(value=0, description='optimizing', max=100000, style=ProgressStyle(description_widt…"
      ]
     },
     "metadata": {},
     "output_type": "display_data"
    },
    {
     "name": "stdout",
     "output_type": "stream",
     "text": [
      "\n",
      "optimize_show: success: 0.0, gain: 0\n",
      "gain for a_example.txt: 0\n",
      "\n",
      "optimize_show: success: 0.0, gain: 0\n",
      "gain for c_memorable_moments.txt: 0\n",
      "\n",
      "\n",
      "optimize_show: success: 0.0, gain: 0\n",
      "gain for b_lovely_landscapes.txt: 0\n",
      "optimize_show: success: 0.00023, gain: 30\n",
      "gain for d_pet_pictures.txt: 30\n",
      "\n",
      "optimize_show: success: 0.00058, gain: 88\n",
      "gain for e_shiny_selfies.txt: 88\n"
     ]
    }
   ],
   "source": [
    "from multiprocessing import Process\n",
    "\n",
    "def optimize(file):\n",
    "        print (\"Starting optimizing \" + file)\n",
    "        (old, new) = hc.optimize_show(file)\n",
    "        gain = new - old\n",
    "        print (f\"gain for {file}: {gain}\")\n",
    "\n",
    "if __name__ == '__main__':\n",
    "    for file in hc.FILES:\n",
    "        p = Process(target=optimize, args=(file,))\n",
    "        p.start()\n",
    "    \n",
    "    for file in hc.FILES:\n",
    "        p.join()\n",
    "        \n"
   ]
  },
  {
   "cell_type": "code",
   "execution_count": null,
   "metadata": {},
   "outputs": [],
   "source": []
  },
  {
   "cell_type": "code",
   "execution_count": null,
   "metadata": {},
   "outputs": [],
   "source": []
  }
 ],
 "metadata": {
  "kernelspec": {
   "display_name": "Python 3",
   "language": "python",
   "name": "python3"
  },
  "language_info": {
   "codemirror_mode": {
    "name": "ipython",
    "version": 3
   },
   "file_extension": ".py",
   "mimetype": "text/x-python",
   "name": "python",
   "nbconvert_exporter": "python",
   "pygments_lexer": "ipython3",
   "version": "3.7.3"
  }
 },
 "nbformat": 4,
 "nbformat_minor": 2
}
