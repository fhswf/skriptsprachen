{
 "cells": [
  {
   "cell_type": "markdown",
   "metadata": {},
   "source": [
    "# List comprehensions\n",
    "Python erlaubt eine sehr *mathematisch* angehauchte Art, Listen (und, wie wir noch sehen werden, Mengen) zu definieren. \n",
    "\n",
    "Nehmen wir einmal an, wir wollten eine Liste der ersten `N` Quadratzahlen erzeugen.\n",
    "Mit den bisher behandelten Methoden können wir das so machen:"
   ]
  },
  {
   "cell_type": "code",
   "execution_count": 4,
   "metadata": {},
   "outputs": [
    {
     "data": {
      "text/plain": [
       "[0, 1, 4, 9, 16, 25, 36, 49, 64, 81]"
      ]
     },
     "execution_count": 4,
     "metadata": {},
     "output_type": "execute_result"
    }
   ],
   "source": [
    "N = 10\n",
    "squares = list()\n",
    "#print(type(squares))\n",
    "for i in range(N):\n",
    "    squares.append(i*i)\n",
    "\n",
    "squares"
   ]
  },
  {
   "cell_type": "markdown",
   "metadata": {},
   "source": [
    "Ein Nachteil dieser Methode ist, dass wir damit die Variable i definiert haben, die auch nach der Schleife weiter existiert.\n",
    "\n",
    "Die *pythonische* (eine bessere Übersetzung für *pythonic* ist mir nicht eingefallen) Art funktioniert so: "
   ]
  },
  {
   "cell_type": "code",
   "execution_count": 6,
   "metadata": {},
   "outputs": [
    {
     "data": {
      "text/plain": [
       "[0, 1, 4, 9, 16, 25, 36, 49, 64, 81]"
      ]
     },
     "execution_count": 6,
     "metadata": {},
     "output_type": "execute_result"
    }
   ],
   "source": [
    "squares = [x**2 for x in range(10)]\n",
    "squares"
   ]
  },
  {
   "cell_type": "markdown",
   "metadata": {},
   "source": [
    "Dabei sind auch kompliziertere Kombinationen von Schleifen und Bedingungen möglich.\n",
    "\n",
    "Das folgende Beispiel zählt die möglichen Ergebnisse beim Wurf von zwei Würfeln auf:"
   ]
  },
  {
   "cell_type": "code",
   "execution_count": 10,
   "metadata": {},
   "outputs": [
    {
     "data": {
      "text/plain": [
       "[[0, 0],\n",
       " [0, 1],\n",
       " [0, 2],\n",
       " [0, 3],\n",
       " [0, 4],\n",
       " [0, 5],\n",
       " [1, 1],\n",
       " [1, 2],\n",
       " [1, 3],\n",
       " [1, 4],\n",
       " [1, 5],\n",
       " [2, 2],\n",
       " [2, 3],\n",
       " [2, 4],\n",
       " [2, 5],\n",
       " [3, 3],\n",
       " [3, 4],\n",
       " [3, 5],\n",
       " [4, 4],\n",
       " [4, 5],\n",
       " [5, 5]]"
      ]
     },
     "execution_count": 10,
     "metadata": {},
     "output_type": "execute_result"
    }
   ],
   "source": [
    "\"\"\" Um Wiederholungen auszuschließen, muss der Wert des ersten Würfels kleiner \n",
    "    oder gleich dem Wert des zweiten Würfels sein \"\"\"\n",
    "[[x, y] for x in range(6) for y in range(6) if x <= y]"
   ]
  },
  {
   "cell_type": "code",
   "execution_count": null,
   "metadata": {},
   "outputs": [],
   "source": []
  }
 ],
 "metadata": {
  "kernelspec": {
   "display_name": "Python 3",
   "language": "python",
   "name": "python3"
  },
  "language_info": {
   "codemirror_mode": {
    "name": "ipython",
    "version": 3
   },
   "file_extension": ".py",
   "mimetype": "text/x-python",
   "name": "python",
   "nbconvert_exporter": "python",
   "pygments_lexer": "ipython3",
   "version": "3.7.3"
  }
 },
 "nbformat": 4,
 "nbformat_minor": 2
}
