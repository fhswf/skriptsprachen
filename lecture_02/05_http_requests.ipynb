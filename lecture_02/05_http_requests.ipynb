{
 "cells": [
  {
   "cell_type": "markdown",
   "metadata": {},
   "source": [
    "# HTTP-Request\n",
    "\n",
    "Manchmal möchte man eine bestehende Web-Anwendung aus einem Python-Skript heraus aufrufen. \n",
    "\n",
    "Das folgende Beispiel verwendet die Suchfunktion der FH-Webseite, um Kontakdaten per HTTP-Request abzurufen. Auch hier empfiehlt es sich, das `with`-Statement zu verwenden."
   ]
  },
  {
   "cell_type": "code",
   "execution_count": 10,
   "metadata": {},
   "outputs": [
    {
     "name": "stdout",
     "output_type": "stream",
     "text": [
      "{'hits': 1, 'result': [{'id': '6173', 'info': {'MAid': '6173', 'Titel': 'Prof. Dr.', 'NName': 'Gawron', 'VName': 'Christian', 'eMail': 'gawron.christian', 'BRid': '70', 'dstg': '1', 'hold': 'N', 'URL': 'https://www4.fh-swf.de/de/home/ueber_uns/standorte/is/fb_in/doz_in/profs_in/gawron/index.php', 'emailPreffered': 'N', 'Bereich': {'BRid': '70', 'Kurzbez': 'FB I+N', 'Bereich': 'Fachbereich Informatik und Naturwissenschaften'}, 'Daten': {'MAid': '6173', 'Datum_ab': '2019-01-01', 'Datum_bis': '0000-00-00'}, 'activityarea': [{'MAid': '6173', 'GBid': 'F', 'RNR': 'H.214', 'NST': '565', 'AdressCo': '', 'Fax': '', 'PLZ': '58644', 'Ort': 'Iserlohn', 'Strasse': 'Frauenstuhlweg', 'Nr': '31', 'Vorwahl': '02371', 'HauptNr': '566', 'POPLZ': '58590', 'POBOX': 'Postfach 2061'}]}}]}\n"
     ]
    }
   ],
   "source": [
    "import urllib.request\n",
    "import json\n",
    "\n",
    "url = 'https://www4.fh-swf.de/media/js/fhsearch/dist/lib/api.php?database=contacts&query=Gawron'\n",
    "with urllib.request.urlopen(url) as f:\n",
    "    for l in f:\n",
    "        data = json.loads(str(l, 'UTF8'))\n",
    "        print(data['results'])"
   ]
  },
  {
   "cell_type": "code",
   "execution_count": null,
   "metadata": {},
   "outputs": [],
   "source": []
  },
  {
   "cell_type": "code",
   "execution_count": null,
   "metadata": {},
   "outputs": [],
   "source": []
  },
  {
   "cell_type": "code",
   "execution_count": null,
   "metadata": {},
   "outputs": [],
   "source": []
  }
 ],
 "metadata": {
  "kernelspec": {
   "display_name": "Python 3",
   "language": "python",
   "name": "python3"
  },
  "language_info": {
   "codemirror_mode": {
    "name": "ipython",
    "version": 3
   },
   "file_extension": ".py",
   "mimetype": "text/x-python",
   "name": "python",
   "nbconvert_exporter": "python",
   "pygments_lexer": "ipython3",
   "version": "3.7.3"
  }
 },
 "nbformat": 4,
 "nbformat_minor": 2
}
