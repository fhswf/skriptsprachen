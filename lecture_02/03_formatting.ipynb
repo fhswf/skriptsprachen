{
 "cells": [
  {
   "cell_type": "markdown",
   "metadata": {},
   "source": [
    "# Formatierung mit `str.format()`\n",
    "Früher oder später möchte man in jedem Programm etwas ausgeben und diese Ausgabe ordentlich formatieren. \n",
    "In Python geht dies mir der Methode `str.format()`.\n",
    "\n",
    "Im einfachsten Fall werden `{}` durch die Argumente der Funktion ersetzt:"
   ]
  },
  {
   "cell_type": "code",
   "execution_count": 1,
   "metadata": {},
   "outputs": [
    {
     "name": "stdout",
     "output_type": "stream",
     "text": [
      "Modul: Skriptsprachen Lehrender: Christian Gawron\n"
     ]
    }
   ],
   "source": [
    "print('Modul: {}, Lehrender: {}'.format('Skriptsprachen', 'Christian Gawron'))"
   ]
  },
  {
   "cell_type": "code",
   "execution_count": 3,
   "metadata": {},
   "outputs": [
    {
     "name": "stdout",
     "output_type": "stream",
     "text": [
      "Lehrender: Christian Gawron, Modul: Skriptsprachen\n"
     ]
    }
   ],
   "source": [
    "print('Lehrender: {1}, Modul: {0}'.format('Skriptsprachen', 'Christian Gawron'))"
   ]
  },
  {
   "cell_type": "code",
   "execution_count": 4,
   "metadata": {},
   "outputs": [
    {
     "name": "stdout",
     "output_type": "stream",
     "text": [
      "Lehrender: Christian Gawron, Modul: Skriptsprachen\n"
     ]
    }
   ],
   "source": [
    "print('Lehrender: {name}, Modul: {modul}'.format(modul='Skriptsprachen', name='Christian Gawron'))"
   ]
  },
  {
   "cell_type": "markdown",
   "metadata": {},
   "source": [
    "Für einzelne Datentypen gibt es besondere Formatierungen, die hinter einem `:` ergänzt werden können. Integer können mit `d` und einer Längenangabe ausgegeben werden:"
   ]
  },
  {
   "cell_type": "code",
   "execution_count": 6,
   "metadata": {},
   "outputs": [
    {
     "name": "stdout",
     "output_type": "stream",
     "text": [
      " 1   1    1\n",
      " 2   4    8\n",
      " 3   9   27\n",
      " 4  16   64\n",
      " 5  25  125\n",
      " 6  36  216\n",
      " 7  49  343\n",
      " 8  64  512\n",
      " 9  81  729\n",
      "10 100 1000\n"
     ]
    }
   ],
   "source": [
    "for i in range(1, 11):\n",
    "    print('{0:2d} {1:3d} {2:4d}'.format(i, i*i, i*i*i))"
   ]
  },
  {
   "cell_type": "code",
   "execution_count": null,
   "metadata": {},
   "outputs": [],
   "source": []
  }
 ],
 "metadata": {
  "kernelspec": {
   "display_name": "Python 3",
   "language": "python",
   "name": "python3"
  },
  "language_info": {
   "codemirror_mode": {
    "name": "ipython",
    "version": 3
   },
   "file_extension": ".py",
   "mimetype": "text/x-python",
   "name": "python",
   "nbconvert_exporter": "python",
   "pygments_lexer": "ipython3",
   "version": "3.7.3"
  }
 },
 "nbformat": 4,
 "nbformat_minor": 2
}
