{
 "cells": [
  {
   "cell_type": "markdown",
   "metadata": {},
   "source": [
    "# Dekoratoren\n",
    "\n",
    "Mit `abc.abstractmethod` haben wir schon einen Dekorator kennen gelernt, mit dem man abstrakte Methoden markieren kann.\n",
    "\n",
    "Tatsächlich sind Dekoratoren Funktionen, und\n",
    "``` python\n",
    "@decorator\n",
    "def f():\n",
    "    # ...\n",
    "    return\n",
    "``` \n",
    "ist eine Abkürzung für\n",
    "``` python\n",
    "def f():\n",
    "    # ...\n",
    "    return\n",
    "\n",
    "f = decorator(f)\n",
    "```\n",
    "\n",
    "Mit anderen Worten wird der Dekorator mit der dekorierten Funktion als Argument aufgerufen und die \n",
    "ursprüngliche Funktion wird durch die Rückgabe des Dekorators ersetzt.\n",
    "\n",
    "Einsetzen kann man das z.B. für einen `Logger` wie im folgenden Beispiel."
   ]
  },
  {
   "cell_type": "code",
   "execution_count": null,
   "metadata": {},
   "outputs": [],
   "source": [
    "def mylogger(func):\n",
    "    def foo(*args, **kwargs):\n",
    "        print(f\"Betrete {func.__name__}\")\n",
    "        ret = func(*args, **kwargs)\n",
    "        print(f\"Verlasse {func.__name__} mit Wert {ret}\")\n",
    "        return ret\n",
    "    return foo"
   ]
  },
  {
   "cell_type": "code",
   "execution_count": null,
   "metadata": {},
   "outputs": [],
   "source": [
    "@mylogger\n",
    "def square(x):\n",
    "    return x*x"
   ]
  },
  {
   "cell_type": "code",
   "execution_count": null,
   "metadata": {},
   "outputs": [],
   "source": [
    "y = square(2)\n",
    "print(y)"
   ]
  },
  {
   "cell_type": "code",
   "execution_count": null,
   "metadata": {},
   "outputs": [],
   "source": []
  }
 ],
 "metadata": {
  "kernelspec": {
   "display_name": "Python 3",
   "language": "python",
   "name": "python3"
  },
  "language_info": {
   "codemirror_mode": {
    "name": "ipython",
    "version": 3
   },
   "file_extension": ".py",
   "mimetype": "text/x-python",
   "name": "python",
   "nbconvert_exporter": "python",
   "pygments_lexer": "ipython3",
   "version": "3.7.3"
  }
 },
 "nbformat": 4,
 "nbformat_minor": 2
}
