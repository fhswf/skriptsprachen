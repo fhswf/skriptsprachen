{
 "cells": [
  {
   "cell_type": "markdown",
   "metadata": {},
   "source": [
    "# Dekoratoren\n",
    "\n",
    "Mit `abc.abstractmethod` haben wir schon einen Dekorator kennen gelernt, mit dem man abstrakte Methoden markieren kann.\n",
    "\n",
    "Tatsächlich sind Dekoratoren Funktionen, und\n",
    "``` python\n",
    "@decorator\n",
    "def f():\n",
    "    # ...\n",
    "    return\n",
    "``` \n",
    "ist eine Abkürzung für\n",
    "``` python\n",
    "def f():\n",
    "    # ...\n",
    "    return\n",
    "\n",
    "f = decorator(f)\n",
    "```\n",
    "\n",
    "Mit anderen Worten wird der Dekorator mit der dekorierten Funktion als Argument aufgerufen und die \n",
    "ursprüngliche Funktion wird durch die Rückgabe des Dekorators ersetzt.\n",
    "\n",
    "Einsetzen kann man das z.B. für einen `Logger` wie im folgenden Beispiel."
   ]
  },
  {
   "cell_type": "code",
   "execution_count": null,
   "metadata": {},
   "outputs": [],
   "source": [
    "def mylogger(func):\n",
    "    def foo(*args, **kwargs):\n",
    "        print(f\"Betrete {func.__name__}\")\n",
    "        ret = func(*args, **kwargs)\n",
    "        print(f\"Verlasse {func.__name__} mit Wert {ret}\")\n",
    "        return ret\n",
    "    return foo"
   ]
  },
  {
   "cell_type": "code",
   "execution_count": null,
   "metadata": {},
   "outputs": [],
   "source": [
    "@mylogger\n",
    "def square(x):\n",
    "    return x*x"
   ]
  },
  {
   "cell_type": "code",
   "execution_count": null,
   "metadata": {},
   "outputs": [],
   "source": [
    "y = square(2)\n",
    "print(y)"
   ]
  },
  {
   "cell_type": "code",
   "execution_count": null,
   "metadata": {},
   "outputs": [],
   "source": []
  },
  {
   "cell_type": "code",
   "execution_count": 1,
   "metadata": {},
   "outputs": [],
   "source": [
    "from timeit import default_timer as timer\n",
    "\n",
    "def timeit(func):\n",
    "    def _timed(*args, **kwargs):\n",
    "        start = timer()\n",
    "        ret = func(*args, **kwargs)\n",
    "        end = timer()\n",
    "        print(f\"execution time of {func.__name__}: {end - start}\")\n",
    "        return ret\n",
    "    return _timed"
   ]
  },
  {
   "cell_type": "code",
   "execution_count": 7,
   "metadata": {},
   "outputs": [
    {
     "name": "stdout",
     "output_type": "stream",
     "text": [
      "execution time of factorial: 0.00010900525376200676\n"
     ]
    },
    {
     "data": {
      "text/plain": [
       "788657867364790503552363213932185062295135977687173263294742533244359449963403342920304284011984623904177212138919638830257642790242637105061926624952829931113462857270763317237396988943922445621451664240254033291864131227428294853277524242407573903240321257405579568660226031904170324062351700858796178922222789623703897374720000000000000000000000000000000000000000000000000"
      ]
     },
     "execution_count": 7,
     "metadata": {},
     "output_type": "execute_result"
    }
   ],
   "source": [
    "\n",
    "def factorial_r(n):\n",
    "    if n < 2:\n",
    "        return 1\n",
    "    else:\n",
    "        return n * factorial_r(n-1)\n",
    "    \n",
    "def factorial_i(n):\n",
    "    prod = 1\n",
    "    for i in range(n, 1, -1):\n",
    "        prod *= i\n",
    "    return prod\n",
    "\n",
    "@timeit\n",
    "def factorial(n):\n",
    "    return factorial_r(n)\n",
    "\n",
    "factorial(200)"
   ]
  },
  {
   "cell_type": "code",
   "execution_count": 8,
   "metadata": {},
   "outputs": [
    {
     "name": "stdout",
     "output_type": "stream",
     "text": [
      "execution time of factorial: 7.50301405787468e-05\n"
     ]
    },
    {
     "data": {
      "text/plain": [
       "788657867364790503552363213932185062295135977687173263294742533244359449963403342920304284011984623904177212138919638830257642790242637105061926624952829931113462857270763317237396988943922445621451664240254033291864131227428294853277524242407573903240321257405579568660226031904170324062351700858796178922222789623703897374720000000000000000000000000000000000000000000000000"
      ]
     },
     "execution_count": 8,
     "metadata": {},
     "output_type": "execute_result"
    }
   ],
   "source": [
    "@timeit\n",
    "def factorial(n):\n",
    "    return factorial_i(n)\n",
    "\n",
    "factorial(200)"
   ]
  },
  {
   "cell_type": "code",
   "execution_count": null,
   "metadata": {},
   "outputs": [],
   "source": []
  }
 ],
 "metadata": {
  "kernelspec": {
   "display_name": "Python 3",
   "language": "python",
   "name": "python3"
  },
  "language_info": {
   "codemirror_mode": {
    "name": "ipython",
    "version": 3
   },
   "file_extension": ".py",
   "mimetype": "text/x-python",
   "name": "python",
   "nbconvert_exporter": "python",
   "pygments_lexer": "ipython3",
   "version": "3.7.3"
  }
 },
 "nbformat": 4,
 "nbformat_minor": 4
}
