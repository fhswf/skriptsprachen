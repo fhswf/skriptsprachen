{
 "cells": [
  {
   "cell_type": "markdown",
   "metadata": {},
   "source": [
    "# Das `os` Modul\n",
    "\n",
    "Wenn man \"systemnahe\" Dinge automatisieren möchte, benötigt man Zugriff auf entsprechende Funktionen.\n",
    "Das Modul `os` stellt diese in – weitgehend – portabler Weise zur Verfügung.\n",
    "\n",
    "Mit dem Untermodul `os.path` stellt Python ähnlich wie Java eine vom Betriebssystem unabhängige Sicht auf Dateiname bereit.\n",
    "\n",
    "## Anzeigen von Directory-Inhalten"
   ]
  },
  {
   "cell_type": "code",
   "execution_count": null,
   "metadata": {},
   "outputs": [],
   "source": [
    "import os\n",
    "\n",
    "dir = '.'\n",
    "\n",
    "ls = os.listdir('.')\n",
    "\n",
    "for file in ls:\n",
    "    print(f\"file: {file}\")\n",
    "    \n",
    "    # os.path.join() fügt Pfadkomponenten mit dem \"richtigen\" Separator der Plattform zusammen:\n",
    "    path = os.path.join(dir, file)\n",
    "    absPath = os.path.abspath(path)\n",
    "    print(f\"path: {absPath}\")\n",
    "    \n",
    "    # Über os.stat() hat man Zugriff auf File-Attribute\n",
    "    stat = os.stat(path)\n",
    "    print(f\"stat: {stat}\")\n",
    "    print()"
   ]
  },
  {
   "cell_type": "markdown",
   "metadata": {},
   "source": [
    "## Zugriff auf das Environment\n",
    "\n",
    "Über `os.environ` erhält man Zugriff auf das Environment des Prozesses:"
   ]
  },
  {
   "cell_type": "code",
   "execution_count": null,
   "metadata": {},
   "outputs": [],
   "source": [
    "print(os.environ)"
   ]
  },
  {
   "cell_type": "markdown",
   "metadata": {},
   "source": [
    "## Dateien kopieren – `shutil`\n",
    "\n",
    "Mittels `os` kann man nicht direkt Dateien kopieren; dazu gibt es das Modul `shutil` (historisch von *shell utils*)."
   ]
  },
  {
   "cell_type": "code",
   "execution_count": null,
   "metadata": {},
   "outputs": [],
   "source": [
    "import os\n",
    "import shutil\n",
    "\n",
    "tmp = os.path.join('.', 'temp.py')\n",
    "\n",
    "if os.path.exists(tmp):\n",
    "    os.unlink(tmp)\n",
    "    print(f\"Existierende Datei {tmp} gelöscht!\")\n",
    "    \n",
    "shutil.copy('fibonacci.py', tmp)\n",
    "stat = os.stat(tmp)\n",
    "print(f\"Datei angelegt: {tmp} - {stat}\")"
   ]
  },
  {
   "cell_type": "markdown",
   "metadata": {},
   "source": [
    "## Prozesse starten\n",
    "\n",
    "Für manche Aufgaben kann es sinnvoll sein, externe Prozesse zu starten. Ein Beispiel wäre etwa das automatisierte Anlegen von Benutzern über den Befehl `useradd` bzw. `adduser` (unter Debian)."
   ]
  },
  {
   "cell_type": "code",
   "execution_count": null,
   "metadata": {},
   "outputs": [],
   "source": [
    "import subprocess\n",
    "\n",
    "res = subprocess.run([\"ls\", \"-l\"], text=True, capture_output=True)\n",
    "print(f\"rc={res.returncode}\\nstdout={res.stdout}\")"
   ]
  },
  {
   "cell_type": "code",
   "execution_count": null,
   "metadata": {},
   "outputs": [],
   "source": []
  }
 ],
 "metadata": {
  "kernelspec": {
   "display_name": "Python 3",
   "language": "python",
   "name": "python3"
  },
  "language_info": {
   "codemirror_mode": {
    "name": "ipython",
    "version": 3
   },
   "file_extension": ".py",
   "mimetype": "text/x-python",
   "name": "python",
   "nbconvert_exporter": "python",
   "pygments_lexer": "ipython3",
   "version": "3.7.3"
  }
 },
 "nbformat": 4,
 "nbformat_minor": 2
}
