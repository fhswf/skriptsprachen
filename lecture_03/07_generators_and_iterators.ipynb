{
 "cells": [
  {
   "cell_type": "markdown",
   "metadata": {},
   "source": [
    "# Generatoren und Iteratoren\n",
    "\n",
    "Wir haben die Funktion `range()` kennen gelernt, über die man iterieren kann. \n",
    "Es handelt sich allerdings nicht um eine Funktion, die einfach eine Liste zurückliefert, wie man hier sieht:"
   ]
  },
  {
   "cell_type": "code",
   "execution_count": null,
   "metadata": {},
   "outputs": [],
   "source": [
    "r = range(5)\n",
    "\n",
    "print(r)\n",
    "print(type(r))"
   ]
  },
  {
   "cell_type": "markdown",
   "metadata": {},
   "source": [
    "## Generatoren\n",
    "\n",
    "Bei `range` handelt es sich um eine sogenannte Generatorfunktion. Eine solche Generatorfunktion liefert ein Ergebnis nicht mit `return`, sondern mit `yield` zurück."
   ]
  },
  {
   "cell_type": "code",
   "execution_count": 2,
   "metadata": {},
   "outputs": [
    {
     "name": "stdout",
     "output_type": "stream",
     "text": [
      "Mit\n",
      "freundlichen\n",
      "Grüßen\n"
     ]
    }
   ],
   "source": [
    "def gruss():\n",
    "    yield \"Mit\"\n",
    "    yield \"freundlichen\"\n",
    "    yield \"Grüßen\"\n",
    "    \n",
    "for wort in gruss():\n",
    "    print(wort)"
   ]
  },
  {
   "cell_type": "markdown",
   "metadata": {},
   "source": [
    "Im Unterschied zu `return` terminiert `yield` die Funktion nicht – sie wird beim nächsten Durchlauf fortgesetzt.\n",
    "Die folgende Generatorfunktion liefert alle Fibonacci-Zahlen, die kleiner als das angegene Maximum sind:"
   ]
  },
  {
   "cell_type": "code",
   "execution_count": 3,
   "metadata": {},
   "outputs": [
    {
     "name": "stdout",
     "output_type": "stream",
     "text": [
      "1\n",
      "1\n",
      "2\n",
      "3\n",
      "5\n",
      "8\n",
      "13\n",
      "21\n"
     ]
    }
   ],
   "source": [
    "def fibonacci(max):\n",
    "    a, b = 1, 1\n",
    "    while a <= max:\n",
    "        yield a\n",
    "        a, b = b, a + b\n",
    "        \n",
    "\n",
    "for i in fibonacci(30):\n",
    "    print(i)"
   ]
  },
  {
   "cell_type": "markdown",
   "metadata": {},
   "source": [
    "## Iteratoren\n",
    "\n",
    "Wir haben bereits gesehen, wie man über Klassen wie `list` oder `set` iterieren kann. Man kann dies auch für eigene Klassen implementieren, indem man die Funktionen `__init__()` und `__next__()` implementiert.\n",
    "Das Ende der Iteration wird über Exception vom Typ `StopIteration` signalisiert."
   ]
  },
  {
   "cell_type": "code",
   "execution_count": null,
   "metadata": {},
   "outputs": [],
   "source": [
    "class FifaWM:\n",
    "    def __init__(self):\n",
    "        self.sieger = (\n",
    "            (1930, \"Uruguay\"), (1934, \"Italien\"), (1938, \"Italien\"), (1950, \"Uruguay\"),\n",
    "            (1954, \"Deutschland\"), (1958, \"Brasilien\"), (1962, \"Brasilien\"), \n",
    "            (1966, \"England\"), (1970, \"Brasilien\"), (1974, \"Deutschland\"), (1978, \"Argentinien\"), \n",
    "            (1982, \"Italien\"), (1986, \"Argentinien\"), (1990, \"Deutschland\"), (1994, \"Brasilien\"), \n",
    "            (1998, \"Frankreich\"), (2002,\" Brasilien\"), (2006, \"Italien\"), (2010, \"Spanien\"), \n",
    "            (2014, \"Deutschland\"), (2018, \"Frankreich\"))\n",
    "        \n",
    "    def __iter__(self):\n",
    "        self.curr = 0\n",
    "        return self\n",
    "    \n",
    "    def __next__(self):\n",
    "        if self.curr < len(self.sieger):\n",
    "            r = self.sieger[self.curr][1]\n",
    "            self.curr += 1\n",
    "            return r\n",
    "        else:\n",
    "            raise StopIteration"
   ]
  },
  {
   "cell_type": "code",
   "execution_count": null,
   "metadata": {},
   "outputs": [],
   "source": [
    "s = FifaWM()\n",
    "for land in s: print(f\"{land}, \", end='')"
   ]
  },
  {
   "cell_type": "code",
   "execution_count": null,
   "metadata": {},
   "outputs": [],
   "source": []
  }
 ],
 "metadata": {
  "kernelspec": {
   "display_name": "Python 3",
   "language": "python",
   "name": "python3"
  },
  "language_info": {
   "codemirror_mode": {
    "name": "ipython",
    "version": 3
   },
   "file_extension": ".py",
   "mimetype": "text/x-python",
   "name": "python",
   "nbconvert_exporter": "python",
   "pygments_lexer": "ipython3",
   "version": "3.7.3"
  }
 },
 "nbformat": 4,
 "nbformat_minor": 4
}
