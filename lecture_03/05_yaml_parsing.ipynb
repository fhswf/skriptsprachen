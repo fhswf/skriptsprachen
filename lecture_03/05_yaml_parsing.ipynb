{
 "cells": [
  {
   "cell_type": "markdown",
   "metadata": {},
   "source": [
    "# Parsen von Dateiformaten: YAML\n",
    "\n",
    "In unseren bisherigen Beispielen haben wir gesehen, wie man mit Python Dateien im *JSON* oder *HTML* Format lesen kann.\n",
    "\n",
    "Ein weiteres beliebtes Format ist **YAML**. Es wird unter anderem von [kubernetes](https://de.wikipedia.org/wiki/Kubernetes) und [Ansible](https://de.wikipedia.org/wiki/Ansible) und hat den Vorteil, für Menschen sehr gut lesbar zu sein. Ein Beispiel dafür ist die Seite [yaml.org](https://yaml.org/), die aus YAML-Code besteht.\n",
    "\n",
    "Eine Beispielanwendung könnte z.B. ein Programm sein, das automatisch Benutzer auf einem UNIX-System anlegt. \n",
    "Die Konfiguration als YAML-Datei könnte z.B. so aussehen: \n",
    "``` yaml\n",
    "users:\n",
    "  cgawron:\n",
    "    name: Christian Gawron\n",
    "    groups:\n",
    "      - www-data\n",
    "      - jupyter\n",
    "    ssh-key:\n",
    "      ssh-ed25519 AAAAC3NzaC1lZDI1NTE5AAAAIOMfSE4bBZ5FrPRTA3UJ7ieevEmNVllDoyZM69GCWYqM \n",
    "      gawron.christian@fh-swf.de\n",
    "```\n",
    "\n",
    "Für das Lesen der Konfigurationsdatei würde man folgenden Code verwendcen:"
   ]
  },
  {
   "cell_type": "code",
   "execution_count": 1,
   "metadata": {},
   "outputs": [
    {
     "name": "stdout",
     "output_type": "stream",
     "text": [
      "{'users': {'cgawron': {'name': 'Christian Gawron', 'groups': ['www-data', 'jupyter'], 'ssh-key': 'ssh-ed25519 AAAAC3NzaC1lZDI1NTE5AAAAIOMfSE4bBZ5FrPRTA3UJ7ieevEmNVllDoyZM69GCWYqM gawron.christian@fh-swf.de'}}}\n"
     ]
    },
    {
     "name": "stderr",
     "output_type": "stream",
     "text": [
      "/opt/tljh/user/lib/python3.7/site-packages/ipykernel_launcher.py:4: YAMLLoadWarning: calling yaml.load() without Loader=... is deprecated, as the default Loader is unsafe. Please read https://msg.pyyaml.org/load for full details.\n",
      "  after removing the cwd from sys.path.\n"
     ]
    }
   ],
   "source": [
    "import yaml\n",
    "\n",
    "with open(\"users.yml\", 'r') as stream:\n",
    "    yaml = yaml.load(stream)\n",
    "    print(yaml)"
   ]
  },
  {
   "cell_type": "code",
   "execution_count": null,
   "metadata": {},
   "outputs": [],
   "source": []
  }
 ],
 "metadata": {
  "kernelspec": {
   "display_name": "Python 3",
   "language": "python",
   "name": "python3"
  },
  "language_info": {
   "codemirror_mode": {
    "name": "ipython",
    "version": 3
   },
   "file_extension": ".py",
   "mimetype": "text/x-python",
   "name": "python",
   "nbconvert_exporter": "python",
   "pygments_lexer": "ipython3",
   "version": "3.7.3"
  }
 },
 "nbformat": 4,
 "nbformat_minor": 4
}
