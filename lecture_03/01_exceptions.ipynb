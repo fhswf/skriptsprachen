{
 "cells": [
  {
   "cell_type": "markdown",
   "metadata": {},
   "source": [
    "# Exceptions: Mit Fehlern richtig umgehen\n",
    "\n",
    "Viele Funktionen melden Fehlersituationen über Exceptions. Hier ein Beispiel:"
   ]
  },
  {
   "cell_type": "code",
   "execution_count": null,
   "metadata": {},
   "outputs": [],
   "source": [
    "file = open('_does_not_exist_', 'r')\n",
    "while l in file:\n",
    "    print(l)"
   ]
  },
  {
   "cell_type": "markdown",
   "metadata": {},
   "source": [
    "Über `try` und `except` kann man diese Fehler abfangen:"
   ]
  },
  {
   "cell_type": "code",
   "execution_count": null,
   "metadata": {},
   "outputs": [],
   "source": [
    "try:\n",
    "    file = open('_does_not_exist_', 'r')\n",
    "    while l in file:\n",
    "        print(l)\n",
    "except IOError as err:\n",
    "    print(f'Failed to read from \"{err.filename}\": {err.strerror}')"
   ]
  },
  {
   "cell_type": "markdown",
   "metadata": {},
   "source": [
    "Bestimmte Fehler – etwa einen `SyntaxError` – kann man allerdings nicht abfangen. "
   ]
  },
  {
   "cell_type": "code",
   "execution_count": null,
   "metadata": {},
   "outputs": [],
   "source": [
    "try:\n",
    "    while True print('Hello World')\n",
    "except SyntaxError\n",
    "    print('Error')"
   ]
  },
  {
   "cell_type": "markdown",
   "metadata": {},
   "source": [
    "Man kann auch selber Exceptions per `raise` werfen. Wenn wir uns mit Klassen beschäftigen, werden wir sehen, wie man dazu eigene Klassen definiert."
   ]
  },
  {
   "cell_type": "code",
   "execution_count": null,
   "metadata": {},
   "outputs": [],
   "source": [
    "from datetime import datetime\n",
    "\n",
    "def scheduleDelivery(time):\n",
    "    \"\"\"Schedule delivery at specified time\"\"\"\n",
    "    if time < datetime.now():\n",
    "        raise Exception(f'In accordance with physical laws, we de not deliver to the past: {time}')\n",
    "\n",
    "try:\n",
    "    scheduleDelivery(datetime(1989, 11, 9))\n",
    "except Exception as ex:\n",
    "    print(ex)"
   ]
  },
  {
   "cell_type": "markdown",
   "metadata": {},
   "source": [
    "Über `finally` kann man einen Block definieren, der in jedem Fall – auch wenn die Ausführung wegen einer Exception unterbrochen wird – aufgerufen wird."
   ]
  },
  {
   "cell_type": "code",
   "execution_count": null,
   "metadata": {},
   "outputs": [],
   "source": [
    "try:\n",
    "    print('Heute lernen wir, wie man sich gegen einen Angreifer mit einer Banane zur Wehr setzt.')\n",
    "    raise Exception('Wir unterbrechen dieses Programm, um Sie zu ärgern und überhaupt zu irritieren.')\n",
    "finally:\n",
    "    print('Gerade noch mal gut gegangen ...')"
   ]
  },
  {
   "cell_type": "code",
   "execution_count": null,
   "metadata": {},
   "outputs": [],
   "source": []
  }
 ],
 "metadata": {
  "kernelspec": {
   "display_name": "Python 3",
   "language": "python",
   "name": "python3"
  },
  "language_info": {
   "codemirror_mode": {
    "name": "ipython",
    "version": 3
   },
   "file_extension": ".py",
   "mimetype": "text/x-python",
   "name": "python",
   "nbconvert_exporter": "python",
   "pygments_lexer": "ipython3",
   "version": "3.7.3"
  }
 },
 "nbformat": 4,
 "nbformat_minor": 2
}
