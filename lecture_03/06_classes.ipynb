{
 "cells": [
  {
   "cell_type": "markdown",
   "metadata": {},
   "source": [
    "# Klassen in Python\n",
    "\n",
    "Ganz am Anfang des Kurses haben wir festgestellt, dass in Python alles – selbst eine Zahl – ein Objekt ist und zu einer *Klasse* gehört.\n",
    "\n",
    "Nun schauen wir uns an, wie man so eine Klasse definiert."
   ]
  },
  {
   "cell_type": "code",
   "execution_count": null,
   "metadata": {},
   "outputs": [],
   "source": [
    "class Rectangle:\n",
    "    \"\"\" A rectangle \"\"\"\n",
    "\n",
    "    def __init__(self, a, b):\n",
    "        \"\"\" Create a reactangle with specified sides a and b \"\"\"\n",
    "        self.a = a\n",
    "        self.b = b\n",
    "        \n",
    "    def area(self):\n",
    "        \"\"\" Calculate the are of a rectangle \"\"\"\n",
    "        return self.a * self.b"
   ]
  },
  {
   "cell_type": "code",
   "execution_count": null,
   "metadata": {},
   "outputs": [],
   "source": [
    "rect = Rectangle(5, 2)\n",
    "\n",
    "print(f\"Fläche: {rect.area()}\")"
   ]
  },
  {
   "cell_type": "markdown",
   "metadata": {},
   "source": [
    "Im Gegensatz zu Java oder C++ gibt es keine Möglichkeit, Methoden oder Attribute als *privat* zu markieren. Es gibt lediglich die Möglichkeit, sie durch doppelte Unterstriche (also etwa `__attr`) zu \"verstecken\".\n",
    "\n",
    "Man kann – wie in JavaScript – auch \"von außen\" Attribute manipulieren."
   ]
  },
  {
   "cell_type": "markdown",
   "metadata": {},
   "source": [
    "## Vererbung\n",
    "\n",
    "Bei den Zahltypen hatten wir bereits gesehen, dass es bei diesen eine Vererbungshierarchie gibt. Auch eigene Klassen können *erben*. Ein Quadrat ist beispielsweise ein spezielles Rechteck."
   ]
  },
  {
   "cell_type": "code",
   "execution_count": null,
   "metadata": {},
   "outputs": [],
   "source": [
    "print(rect.a)\n",
    "rect.c = '42'\n",
    "del rect.a\n",
    "\n",
    "# exception, da das Attribut a nun fehlt!\n",
    "print(rect.area())"
   ]
  },
  {
   "cell_type": "code",
   "execution_count": null,
   "metadata": {},
   "outputs": [],
   "source": [
    "class Square(Rectangle):\n",
    "    \"\"\" A square \"\"\"\n",
    "    \n",
    "    def __init__(self, a):\n",
    "        \"\"\" Create a square with side a \"\"\"\n",
    "        # Rufe den Konstruktor der Elternklasse auf\n",
    "        super(Square, self).__init__(a, a)\n",
    "        # Dies wäre eine alternative Schreibweise\n",
    "        # Rectangle.__init__(self, a, a)\n"
   ]
  },
  {
   "cell_type": "code",
   "execution_count": null,
   "metadata": {},
   "outputs": [],
   "source": [
    "square = Square(5)\n",
    "\n",
    "print(f\"Fläche: {square.area()}\")"
   ]
  },
  {
   "cell_type": "markdown",
   "metadata": {},
   "source": [
    "## Abstrakte Basisklassen\n",
    "\n",
    "Wie bei den numerischen Typen können wir auch bei den Flächen eine Typenhierarchie ausgehend von eine abstrakten Fläche einführen.\n",
    "\n",
    "Dazu gibt es die Klasse `ABC.abc` und den Decorator `abc.abstractmethod`. Diese sorgen dafür, dass Instanzen einer abstrakten Klasse nicht erzeugt werden können. "
   ]
  },
  {
   "cell_type": "code",
   "execution_count": null,
   "metadata": {},
   "outputs": [],
   "source": [
    "from abc import ABC, abstractmethod\n",
    "import math\n",
    "\n",
    "class Area(ABC):\n",
    "    \"\"\" Abstract class \"\"\"\n",
    "    \n",
    "    def __init__(self):\n",
    "         super().__init__()\n",
    "            \n",
    "    @abstractmethod\n",
    "    def area(self):\n",
    "        \"\"\" Calculate the area \"\"\"\n",
    "        pass\n",
    "    \n",
    "class Triangle(Area):\n",
    "    \"\"\" A triangle \"\"\"\n",
    "\n",
    "    def __init__(self, a, b, c):\n",
    "        \"\"\" Create a reactangle with specified sides a, b and c \"\"\"\n",
    "        self.a = a\n",
    "        self.b = b\n",
    "        self.c = c\n",
    "        \n",
    "    def area(self):\n",
    "        \"\"\" Calculate the are of a rectangle \"\"\"\n",
    "        s = (self.a + self.b + self.c) / 2\n",
    "        return math.sqrt(s * (s - self.a) * (s - self.b) * (s - self.c))\n",
    "    \n",
    "class Rectangle(Area):\n",
    "    \"\"\" A rectangle \"\"\"\n",
    "\n",
    "    def __init__(self, a, b):\n",
    "        \"\"\" Create a reactangle with specified sides a and b \"\"\"\n",
    "        self.a = a\n",
    "        self.b = b\n",
    "        \n",
    "    def area(self):\n",
    "        \"\"\" Calculate the are of a rectangle \"\"\"\n",
    "        return self.a * self.b\n",
    "\n",
    "class Square(Rectangle):\n",
    "    \"\"\" A square \"\"\"\n",
    "    \n",
    "    def __init__(self, a):\n",
    "        \"\"\" Create a square with side a \"\"\"\n",
    "        # Rufe den Konstruktor der Elternklasse auf\n",
    "        super(Square, self).__init__(a, a)"
   ]
  },
  {
   "cell_type": "code",
   "execution_count": null,
   "metadata": {},
   "outputs": [],
   "source": [
    "# Rechtwinkliges Dreieck mit Katheten 3 und 4; Fläche ist 6\n",
    "triang = Triangle(3, 4, 5)\n",
    "\n",
    "print(triang.area())"
   ]
  },
  {
   "cell_type": "code",
   "execution_count": null,
   "metadata": {},
   "outputs": [],
   "source": [
    "area = Area()\n",
    "\n",
    "print(area.area())"
   ]
  },
  {
   "cell_type": "code",
   "execution_count": null,
   "metadata": {},
   "outputs": [],
   "source": []
  }
 ],
 "metadata": {
  "kernelspec": {
   "display_name": "Python 3",
   "language": "python",
   "name": "python3"
  },
  "language_info": {
   "codemirror_mode": {
    "name": "ipython",
    "version": 3
   },
   "file_extension": ".py",
   "mimetype": "text/x-python",
   "name": "python",
   "nbconvert_exporter": "python",
   "pygments_lexer": "ipython3",
   "version": "3.7.3"
  }
 },
 "nbformat": 4,
 "nbformat_minor": 2
}
