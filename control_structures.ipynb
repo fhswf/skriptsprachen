{
 "cells": [
  {
   "cell_type": "markdown",
   "metadata": {},
   "source": [
    "# Kontrollstrukturen\n",
    "Die einfachste Kontrollstruktur ist das `if` Statement."
   ]
  },
  {
   "cell_type": "code",
   "execution_count": 1,
   "metadata": {},
   "outputs": [
    {
     "name": "stdout",
     "output_type": "stream",
     "text": [
      "Bitte eine Zahl eingeben: 42\n"
     ]
    }
   ],
   "source": [
    "x = int(input(\"Bitte eine Zahl eingeben: \"))"
   ]
  },
  {
   "cell_type": "code",
   "execution_count": 2,
   "metadata": {},
   "outputs": [
    {
     "name": "stdout",
     "output_type": "stream",
     "text": [
      "größer als null\n"
     ]
    }
   ],
   "source": [
    "if x < 0:\n",
    "    print(\"kleiner als Null\")\n",
    "elif x == 0:\n",
    "    print(\"null\")\n",
    "elif x == 1:\n",
    "    print(\"eins\")\n",
    "else:\n",
    "    print(\"größer als null\")"
   ]
  },
  {
   "cell_type": "markdown",
   "metadata": {},
   "source": [
    "## `for` Schleife"
   ]
  },
  {
   "cell_type": "code",
   "execution_count": 3,
   "metadata": {},
   "outputs": [
    {
     "name": "stdout",
     "output_type": "stream",
     "text": [
      "Katze 5\n",
      "Baum 4\n",
      "hinaufklettern 14\n"
     ]
    }
   ],
   "source": [
    "words = ['Katze', 'Baum', 'hinaufklettern']\n",
    "for w in words:\n",
    "    print(w, len(w))"
   ]
  },
  {
   "cell_type": "code",
   "execution_count": 6,
   "metadata": {},
   "outputs": [
    {
     "name": "stdout",
     "output_type": "stream",
     "text": [
      "1 zum Quadrat ist 1\n",
      "2 zum Quadrat ist 4\n",
      "3 zum Quadrat ist 9\n",
      "4 zum Quadrat ist 16\n"
     ]
    }
   ],
   "source": [
    "for i in range(1, 5):\n",
    "    print(\"{:d} zum Quadrat ist {:d}\".format(i, i*i))"
   ]
  },
  {
   "cell_type": "code",
   "execution_count": null,
   "metadata": {},
   "outputs": [],
   "source": []
  }
 ],
 "metadata": {
  "kernelspec": {
   "display_name": "Python 3",
   "language": "python",
   "name": "python3"
  },
  "language_info": {
   "codemirror_mode": {
    "name": "ipython",
    "version": 3
   },
   "file_extension": ".py",
   "mimetype": "text/x-python",
   "name": "python",
   "nbconvert_exporter": "python",
   "pygments_lexer": "ipython3",
   "version": "3.7.3"
  }
 },
 "nbformat": 4,
 "nbformat_minor": 2
}
