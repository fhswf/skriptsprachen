{
 "cells": [
  {
   "attachments": {},
   "cell_type": "markdown",
   "metadata": {},
   "source": [
    "# „Hello World“ des Machine Learning – Zeichenerkennung\n",
    "\n",
    "Das Erkennen von handgeschriebenen Ziffern ist ein gut untersuchtes **Klassifikationsproblem**, zu dem es mehrere frei verfügbare Datensätze gibt.\n",
    "Der bekannteste Datensatz ist der [MNIST](https://en.wikipedia.org/wiki/MNIST_database) Datensatz mit 60.000 Trainings- und 10.000 Testbeispielen. Der Datensatz stammt aus den USA, was sich insbesondere auf die Schreibweise der 1 und der 7 auswirkt.\n",
    "\n",
    "Daneben bringt `scikit-learn` einen kleineren Datensatz mit 1797 Beispielen von der [University of California, Irvine](https://archive.ics.uci.edu/ml/datasets/Optical+Recognition+of+Handwritten+Digits) mit, der ursprünglich von der Boğaziçi Üniversitesi in Istanbul stammt. \n",
    "\n",
    "Dieser kleinere Datensatz eignet sich gut für erste Experimente, außerdem kann man im Vergleich den Einfluß der Trainingsdatenmenge auf die Performance verschiedener Verfahren demonstrieren."
   ]
  },
  {
   "cell_type": "code",
   "execution_count": 33,
   "metadata": {},
   "outputs": [],
   "source": [
    "import matplotlib.pyplot as plt\n",
    "import sklearn\n",
    "from sklearn import svm, metrics"
   ]
  },
  {
   "cell_type": "code",
   "execution_count": 34,
   "metadata": {},
   "outputs": [],
   "source": [
    "digits = sklearn.datasets.load_digits()"
   ]
  },
  {
   "cell_type": "code",
   "execution_count": 37,
   "metadata": {},
   "outputs": [
    {
     "data": {
      "image/png": "[encoded data removed]",
      "text/plain": [
       "<Figure size 432x288 with 10 Axes>"
      ]
     },
     "metadata": {
      "needs_background": "light"
     },
     "output_type": "display_data"
    }
   ],
   "source": [
    "images_and_labels = list(zip(digits.images, digits.target))\n",
    "for index, (image, label) in enumerate(images_and_labels[:10]):\n",
    "    plt.subplot(2, 5, index + 1)\n",
    "    plt.axis('off')\n",
    "    plt.imshow(image, cmap=plt.cm.gray_r, interpolation='nearest')\n",
    "    plt.title(f'Training: {label:d}')"
   ]
  },
  {
   "cell_type": "code",
   "execution_count": 38,
   "metadata": {},
   "outputs": [
    {
     "data": {
      "text/plain": [
       "1797"
      ]
     },
     "execution_count": 38,
     "metadata": {},
     "output_type": "execute_result"
    }
   ],
   "source": [
    "n_samples = len(digits.images)\n",
    "n_samples"
   ]
  },
  {
   "cell_type": "markdown",
   "metadata": {},
   "source": [
    "## Umformen der Bilder in Feature-Vektoren\n",
    "\n",
    "Die Bilddaten liegen als `n_samples` 8x8-Matrizen vor. Für die Klassifikation wandeln wir die 8x8-Matrizen \n",
    "jeweils in einen 64-dimensionalen Vektor um.\n",
    "Dazu verwenden wir die Methode `reshape()`."
   ]
  },
  {
   "cell_type": "code",
   "execution_count": 39,
   "metadata": {},
   "outputs": [
    {
     "name": "stdout",
     "output_type": "stream",
     "text": [
      "shape: (1797, 8, 8)\n",
      "new shape: (1797, 64)\n"
     ]
    }
   ],
   "source": [
    "print(f'shape: {digits.images.shape}')\n",
    "data = digits.images.reshape((n_samples, -1))\n",
    "print(f'new shape: {data.shape}')"
   ]
  },
  {
   "cell_type": "markdown",
   "metadata": {},
   "source": [
    "## Zerlegung der Daten in Trainings- und Testdaten"
   ]
  },
  {
   "cell_type": "code",
   "execution_count": 40,
   "metadata": {},
   "outputs": [
    {
     "name": "stdout",
     "output_type": "stream",
     "text": [
      "train set: 1257, test set: 540\n"
     ]
    }
   ],
   "source": [
    "(X_train, X_test, y_train, y_test ) = \\\n",
    "  sklearn.model_selection.train_test_split(data, digits.target, train_size=0.7)\n",
    "\n",
    "print(f\"train set: {len(X_train)}, test set: {len(X_test)}\")"
   ]
  },
  {
   "cell_type": "markdown",
   "metadata": {},
   "source": [
    "## Training eines Klassifikators\n",
    "\n",
    "Als Klassifikator verwenden wir eine Support Vector Machine (svm)."
   ]
  },
  {
   "cell_type": "code",
   "execution_count": 41,
   "metadata": {},
   "outputs": [],
   "source": [
    "classifier = svm.SVC(gamma=0.001)"
   ]
  },
  {
   "cell_type": "code",
   "execution_count": 42,
   "metadata": {},
   "outputs": [
    {
     "data": {
      "text/plain": [
       "SVC(C=1.0, cache_size=200, class_weight=None, coef0=0.0,\n",
       "    decision_function_shape='ovr', degree=3, gamma=0.001, kernel='rbf',\n",
       "    max_iter=-1, probability=False, random_state=None, shrinking=True,\n",
       "    tol=0.001, verbose=False)"
      ]
     },
     "execution_count": 42,
     "metadata": {},
     "output_type": "execute_result"
    }
   ],
   "source": [
    "classifier.fit(X_train, y_train)"
   ]
  },
  {
   "cell_type": "code",
   "execution_count": 43,
   "metadata": {},
   "outputs": [
    {
     "name": "stdout",
     "output_type": "stream",
     "text": [
      "Classification report for classifier SVC(C=1.0, cache_size=200, class_weight=None, coef0=0.0,\n",
      "    decision_function_shape='ovr', degree=3, gamma=0.001, kernel='rbf',\n",
      "    max_iter=-1, probability=False, random_state=None, shrinking=True,\n",
      "    tol=0.001, verbose=False):\n",
      "              precision    recall  f1-score   support\n",
      "\n",
      "           0       1.00      1.00      1.00        52\n",
      "           1       0.95      1.00      0.97        57\n",
      "           2       1.00      1.00      1.00        47\n",
      "           3       1.00      0.98      0.99        64\n",
      "           4       1.00      0.95      0.97        59\n",
      "           5       0.98      0.96      0.97        56\n",
      "           6       0.98      1.00      0.99        56\n",
      "           7       0.96      1.00      0.98        52\n",
      "           8       0.94      0.94      0.94        50\n",
      "           9       0.98      0.96      0.97        47\n",
      "\n",
      "    accuracy                           0.98       540\n",
      "   macro avg       0.98      0.98      0.98       540\n",
      "weighted avg       0.98      0.98      0.98       540\n",
      "\n",
      "Confusion matrix:\n",
      "[[52  0  0  0  0  0  0  0  0  0]\n",
      " [ 0 57  0  0  0  0  0  0  0  0]\n",
      " [ 0  0 47  0  0  0  0  0  0  0]\n",
      " [ 0  0  0 63  0  0  0  1  0  0]\n",
      " [ 0  0  0  0 56  0  0  0  3  0]\n",
      " [ 0  0  0  0  0 54  1  0  0  1]\n",
      " [ 0  0  0  0  0  0 56  0  0  0]\n",
      " [ 0  0  0  0  0  0  0 52  0  0]\n",
      " [ 0  3  0  0  0  0  0  0 47  0]\n",
      " [ 0  0  0  0  0  1  0  1  0 45]]\n"
     ]
    },
    {
     "data": {
      "text/plain": [
       "0.9796093412098569"
      ]
     },
     "execution_count": 43,
     "metadata": {},
     "output_type": "execute_result"
    }
   ],
   "source": [
    "def evaluate(classifier, verbose=False):\n",
    "    \"\"\" Print evaluation data for the classifier \"\"\"\n",
    "    predicted = classifier.predict(X_test)\n",
    "    if verbose:\n",
    "        print(f\"Classification report for classifier {classifier}:\")\n",
    "        print(f\"{metrics.classification_report(y_test, predicted)}\")\n",
    "        print(f\"Confusion matrix:\\n{metrics.confusion_matrix(y_test, predicted)}\")\n",
    "    \n",
    "    return metrics.f1_score(y_test, predicted, average=\"weighted\")\n",
    "\n",
    "evaluate(classifier, verbose=True)"
   ]
  },
  {
   "cell_type": "code",
   "execution_count": null,
   "metadata": {},
   "outputs": [],
   "source": []
  },
  {
   "cell_type": "code",
   "execution_count": 57,
   "metadata": {},
   "outputs": [
    {
     "name": "stdout",
     "output_type": "stream",
     "text": [
      "Training: KNeighborsClassifier\n",
      "Training: MLPClassifier\n",
      "MLPClassifier            : 0.977\n",
      "KNeighborsClassifier     : 0.972\n"
     ]
    }
   ],
   "source": [
    "from sklearn.tree import DecisionTreeClassifier\n",
    "from sklearn.neighbors import KNeighborsClassifier\n",
    "from sklearn.neural_network import MLPClassifier\n",
    "\n",
    "classifiers = [ #DecisionTreeClassifier(),\n",
    "                KNeighborsClassifier(),\n",
    "                MLPClassifier(),\n",
    "                #svm.SVC(gamma=0.001)\n",
    "              ]\n",
    "\n",
    "scores = {}\n",
    "\n",
    "for classifier in classifiers:\n",
    "    print(f\"Training: {classifier.__class__.__name__}\")\n",
    "    classifier.fit(X_train, y_train)\n",
    "    scores[classifier] = evaluate(classifier)\n",
    "    \n",
    "for (c, score) in sorted(scores.items(), key=lambda p: p[1], reverse=True):\n",
    "    print(f\"{c.__class__.__name__:25s}: {score:.3f}\")"
   ]
  },
  {
   "cell_type": "code",
   "execution_count": 56,
   "metadata": {},
   "outputs": [
    {
     "data": {
      "text/plain": [
       "49000"
      ]
     },
     "execution_count": 56,
     "metadata": {},
     "output_type": "execute_result"
    }
   ],
   "source": [
    "from sklearn.datasets import fetch_openml\n",
    "\n",
    "# Load data from https://www.openml.org/d/554\n",
    "X, y = fetch_openml('mnist_784', version=1, return_X_y=True)\n",
    "X = X / 255.\n",
    "\n",
    "( X_train, X_test, y_train, y_test ) = \\\n",
    "  sklearn.model_selection.train_test_split(X, y, train_size=0.7)\n",
    "\n",
    "len(X_train)"
   ]
  },
  {
   "cell_type": "code",
   "execution_count": 51,
   "metadata": {},
   "outputs": [
    {
     "name": "stdout",
     "output_type": "stream",
     "text": [
      "MLPClassifier            : 0.976\n",
      "KNeighborsClassifier     : 0.971\n",
      "SVC                      : 0.936\n",
      "DecisionTreeClassifier   : 0.870\n"
     ]
    }
   ],
   "source": [
    "import pickle\n",
    "\n",
    "#with open(\"models.pkl\", \"wb\") as file:\n",
    "#    pickle.dump(scores, file)\n",
    "\n",
    "with open(\"models.pkl\", \"rb\") as file:\n",
    "    scores = pickle.load(file)\n",
    "\n",
    "for (c, score) in sorted(scores.items(), key=lambda p: p[1], reverse=True):\n",
    "    print(f\"{c.__class__.__name__:25s}: {score:.3f}\")"
   ]
  },
  {
   "cell_type": "code",
   "execution_count": 50,
   "metadata": {},
   "outputs": [
    {
     "name": "stdout",
     "output_type": "stream",
     "text": [
      "Classification report for classifier MLPClassifier(activation='relu', alpha=0.0001, batch_size='auto', beta_1=0.9,\n",
      "              beta_2=0.999, early_stopping=False, epsilon=1e-08,\n",
      "              hidden_layer_sizes=(100,), learning_rate='constant',\n",
      "              learning_rate_init=0.001, max_iter=200, momentum=0.9,\n",
      "              n_iter_no_change=10, nesterovs_momentum=True, power_t=0.5,\n",
      "              random_state=None, shuffle=True, solver='adam', tol=0.0001,\n",
      "              validation_fraction=0.1, verbose=False, warm_start=False):\n",
      "              precision    recall  f1-score   support\n",
      "\n",
      "           0       1.00      1.00      1.00      2057\n",
      "           1       1.00      1.00      1.00      2362\n",
      "           2       0.99      1.00      0.99      2061\n",
      "           3       0.99      0.99      0.99      2149\n",
      "           4       0.99      0.99      0.99      2103\n",
      "           5       0.99      0.99      0.99      1919\n",
      "           6       0.99      1.00      0.99      2089\n",
      "           7       0.99      0.99      0.99      2162\n",
      "           8       0.99      0.99      0.99      2013\n",
      "           9       0.99      0.99      0.99      2085\n",
      "\n",
      "    accuracy                           0.99     21000\n",
      "   macro avg       0.99      0.99      0.99     21000\n",
      "weighted avg       0.99      0.99      0.99     21000\n",
      "\n",
      "Confusion matrix:\n",
      "[[2047    0    1    0    0    2    2    2    3    0]\n",
      " [   0 2358    1    1    0    0    0    1    1    0]\n",
      " [   2    0 2051    2    2    0    1    0    3    0]\n",
      " [   0    1    3 2127    2    5    0    5    6    0]\n",
      " [   0    0    1    1 2086    0    6    1    0    8]\n",
      " [   0    1    0    8    1 1905    2    0    1    1]\n",
      " [   1    0    2    0    2    4 2079    0    1    0]\n",
      " [   0    2    3    3    0    0    1 2149    0    4]\n",
      " [   1    3    1    4    1    2    2    0 1993    6]\n",
      " [   0    0    3    7    5    2    0    6    4 2058]]\n"
     ]
    },
    {
     "data": {
      "text/plain": [
       "0.9929994819112641"
      ]
     },
     "execution_count": 50,
     "metadata": {},
     "output_type": "execute_result"
    }
   ],
   "source": [
    "(c, s) = [(p[0], p[1]) for p in scores.items()][2]\n",
    "evaluate(c, verbose=True)"
   ]
  },
  {
   "cell_type": "code",
   "execution_count": 8,
   "metadata": {},
   "outputs": [
    {
     "data": {
      "text/plain": [
       "49000"
      ]
     },
     "execution_count": 8,
     "metadata": {},
     "output_type": "execute_result"
    }
   ],
   "source": []
  },
  {
   "cell_type": "code",
   "execution_count": null,
   "metadata": {},
   "outputs": [],
   "source": []
  }
 ],
 "metadata": {
  "kernelspec": {
   "display_name": "Python 3",
   "language": "python",
   "name": "python3"
  },
  "language_info": {
   "codemirror_mode": {
    "name": "ipython",
    "version": 3
   },
   "file_extension": ".py",
   "mimetype": "text/x-python",
   "name": "python",
   "nbconvert_exporter": "python",
   "pygments_lexer": "ipython3",
   "version": "3.7.3"
  }
 },
 "nbformat": 4,
 "nbformat_minor": 2
}
