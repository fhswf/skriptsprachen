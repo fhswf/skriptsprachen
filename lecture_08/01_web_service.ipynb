{
 "cells": [
  {
   "cell_type": "markdown",
   "metadata": {},
   "source": [
    "# Web Services mit Flask\n",
    "\n",
    "Flask ist ein Python Framework, mit dem man sehr einfach Web Services erstellen kann.\n",
    "\n",
    "Fangen wir mit einem ganz einfachen *Hello World* an."
   ]
  },
  {
   "cell_type": "code",
   "execution_count": 1,
   "metadata": {},
   "outputs": [],
   "source": [
    "from flask import Flask, request, escape"
   ]
  },
  {
   "cell_type": "code",
   "execution_count": 17,
   "metadata": {},
   "outputs": [
    {
     "name": "stdout",
     "output_type": "stream",
     "text": [
      " * Serving Flask app \"__main__\" (lazy loading)\n",
      " * Environment: production\n",
      "   WARNING: This is a development server. Do not use it in a production deployment.\n",
      "   Use a production WSGI server instead.\n",
      " * Debug mode: off\n"
     ]
    },
    {
     "name": "stderr",
     "output_type": "stream",
     "text": [
      " * Running on http://0.0.0.0:5000/ (Press CTRL+C to quit)\n"
     ]
    }
   ],
   "source": [
    "app = Flask(__name__)\n",
    "\n",
    "@app.route('/')\n",
    "def hello():\n",
    "    name = request.args.get(\"name\", \"World\")\n",
    "    return f'Hello, {escape(name)}!'\n",
    "\n",
    "app.run(host=\"0.0.0.0\")"
   ]
  },
  {
   "cell_type": "markdown",
   "metadata": {},
   "source": [
    "## RESTful APIs mit `flask_restful` \n",
    "Mit [`flask_restful`](https://flask-restful.readthedocs.io) lassen sich mit wenigen Zeilen Code REST APIs definieren."
   ]
  },
  {
   "cell_type": "code",
   "execution_count": 16,
   "metadata": {},
   "outputs": [
    {
     "name": "stdout",
     "output_type": "stream",
     "text": [
      " * Serving Flask app \"__main__\" (lazy loading)\n",
      " * Environment: production\n",
      "   WARNING: This is a development server. Do not use it in a production deployment.\n",
      "   Use a production WSGI server instead.\n",
      " * Debug mode: off\n"
     ]
    },
    {
     "name": "stderr",
     "output_type": "stream",
     "text": [
      " * Running on http://0.0.0.0:5000/ (Press CTRL+C to quit)\n",
      "88.152.158.216 - - [18/Nov/2019 20:25:33] \"\u001b[33mGET /todo/todo_2 HTTP/1.1\u001b[0m\" 404 -\n"
     ]
    }
   ],
   "source": [
    "from flask import Flask\n",
    "from flask_restful import abort, Resource, Api\n",
    "\n",
    "app = Flask(__name__)\n",
    "api = Api(app)\n",
    "\n",
    "todos = { }\n",
    "\n",
    "class TodoSimple(Resource):\n",
    "    \"\"\"Repräsentiert ein Todo\"\"\"\n",
    "    \n",
    "    def get(self, todo_id=None):\n",
    "        \"\"\"Gebe ein bestimmtes Todo (bzw. alle Todos) zurück\"\"\"\n",
    "        if todo_id is None: \n",
    "            return todos\n",
    "        else:\n",
    "            if todo_id in todos:\n",
    "                return {todo_id: todos[todo_id]}\n",
    "            else:\n",
    "                abort(404, message=f\"todo {todo_id} doesn't exist!\")\n",
    "\n",
    "    def put(self, todo_id):\n",
    "        \"\"\"Lege ein Todo an\"\"\"\n",
    "        todos[todo_id] = request.form['data']\n",
    "        return {todo_id: todos[todo_id]}\n",
    "\n",
    "    def delete(self, todo_id):\n",
    "        \"\"\"Lösche ein Todo\"\"\"\n",
    "        if not todo_id in todos:\n",
    "            abort(404,  message=f\"todo {todo_id} doesn't exist!\")\n",
    "        else:\n",
    "            del todos[todo_id]\n",
    "            return '', 204\n",
    "\n",
    "api.add_resource(TodoSimple, '/todo', '/todo/<string:todo_id>')\n",
    "\n",
    "\n",
    "app.run(host=\"0.0.0.0\")"
   ]
  },
  {
   "cell_type": "code",
   "execution_count": null,
   "metadata": {},
   "outputs": [],
   "source": []
  }
 ],
 "metadata": {
  "kernelspec": {
   "display_name": "Python 3",
   "language": "python",
   "name": "python3"
  },
  "language_info": {
   "codemirror_mode": {
    "name": "ipython",
    "version": 3
   },
   "file_extension": ".py",
   "mimetype": "text/x-python",
   "name": "python",
   "nbconvert_exporter": "python",
   "pygments_lexer": "ipython3",
   "version": "3.7.3"
  }
 },
 "nbformat": 4,
 "nbformat_minor": 2
}
